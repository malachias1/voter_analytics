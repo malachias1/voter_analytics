{
 "cells": [
  {
   "cell_type": "code",
   "execution_count": 1,
   "outputs": [],
   "source": [
    "import pandas as pd\n",
    "%load_ext autoreload\n",
    "%autoreload 2"
   ],
   "metadata": {
    "collapsed": false,
    "pycharm": {
     "name": "#%%\n"
    }
   }
  },
  {
   "cell_type": "code",
   "execution_count": 2,
   "outputs": [],
   "source": [
    "from scrape.site_maps import CountyElectionResultDownloader2021103"
   ],
   "metadata": {
    "collapsed": false,
    "pycharm": {
     "name": "#%%\n"
    }
   }
  },
  {
   "cell_type": "code",
   "execution_count": 3,
   "outputs": [],
   "source": [
    "s = CountyElectionResultDownloader2021103('https://results.enr.clarityelections.com/GA/105369/web.264614/#/access-to-races')"
   ],
   "metadata": {
    "collapsed": false,
    "pycharm": {
     "name": "#%%\n"
    }
   }
  },
  {
   "cell_type": "code",
   "execution_count": 4,
   "outputs": [
    {
     "name": "stdout",
     "output_type": "stream",
     "text": [
      "https://results.enr.clarityelections.com/GA/105369/web.264614/#/access-to-races\n",
      "../election_results_download/Appling_2020_11_03.zip\n",
      "../election_results_download/Atkinson_2020_11_03.zip\n",
      "../election_results_download/Bacon_2020_11_03.zip\n",
      "../election_results_download/Baker_2020_11_03.zip\n",
      "../election_results_download/Baldwin_2020_11_03.zip\n",
      "../election_results_download/Banks_2020_11_03.zip\n",
      "../election_results_download/Barrow_2020_11_03.zip\n",
      "../election_results_download/Bartow_2020_11_03.zip\n",
      "../election_results_download/Ben_Hill_2020_11_03.zip\n",
      "../election_results_download/Berrien_2020_11_03.zip\n",
      "../election_results_download/Bibb_2020_11_03.zip\n",
      "../election_results_download/Bleckley_2020_11_03.zip\n",
      "../election_results_download/Brantley_2020_11_03.zip\n",
      "../election_results_download/Brooks_2020_11_03.zip\n",
      "../election_results_download/Bryan_2020_11_03.zip\n",
      "../election_results_download/Bulloch_2020_11_03.zip\n",
      "../election_results_download/Burke_2020_11_03.zip\n",
      "../election_results_download/Butts_2020_11_03.zip\n",
      "../election_results_download/Calhoun_2020_11_03.zip\n",
      "../election_results_download/Camden_2020_11_03.zip\n",
      "../election_results_download/Candler_2020_11_03.zip\n",
      "../election_results_download/Carroll_2020_11_03.zip\n",
      "../election_results_download/Catoosa_2020_11_03.zip\n",
      "../election_results_download/Charlton_2020_11_03.zip\n",
      "../election_results_download/Chatham_2020_11_03.zip\n",
      "../election_results_download/Chattahoochee_2020_11_03.zip\n",
      "../election_results_download/Chattooga_2020_11_03.zip\n",
      "../election_results_download/Cherokee_2020_11_03.zip\n",
      "../election_results_download/Clarke_2020_11_03.zip\n",
      "../election_results_download/Clay_2020_11_03.zip\n",
      "../election_results_download/Clayton_2020_11_03.zip\n",
      "../election_results_download/Clinch_2020_11_03.zip\n",
      "../election_results_download/Cobb_2020_11_03.zip\n",
      "../election_results_download/Coffee_2020_11_03.zip\n",
      "../election_results_download/Colquitt_2020_11_03.zip\n",
      "../election_results_download/Columbia_2020_11_03.zip\n",
      "../election_results_download/Cook_2020_11_03.zip\n",
      "../election_results_download/Coweta_2020_11_03.zip\n",
      "../election_results_download/Crawford_2020_11_03.zip\n",
      "../election_results_download/Crisp_2020_11_03.zip\n",
      "../election_results_download/Dade_2020_11_03.zip\n",
      "../election_results_download/Dawson_2020_11_03.zip\n",
      "../election_results_download/Decatur_2020_11_03.zip\n",
      "../election_results_download/DeKalb_2020_11_03.zip\n",
      "../election_results_download/Dodge_2020_11_03.zip\n",
      "../election_results_download/Dooly_2020_11_03.zip\n",
      "../election_results_download/Dougherty_2020_11_03.zip\n",
      "../election_results_download/Douglas_2020_11_03.zip\n",
      "../election_results_download/Early_2020_11_03.zip\n",
      "../election_results_download/Echols_2020_11_03.zip\n",
      "../election_results_download/Effingham_2020_11_03.zip\n",
      "../election_results_download/Elbert_2020_11_03.zip\n",
      "../election_results_download/Emanuel_2020_11_03.zip\n",
      "../election_results_download/Evans_2020_11_03.zip\n",
      "../election_results_download/Fannin_2020_11_03.zip\n",
      "../election_results_download/Fayette_2020_11_03.zip\n",
      "../election_results_download/Floyd_2020_11_03.zip\n",
      "../election_results_download/Forsyth_2020_11_03.zip\n",
      "../election_results_download/Franklin_2020_11_03.zip\n",
      "../election_results_download/Fulton_2020_11_03.zip\n",
      "../election_results_download/Gilmer_2020_11_03.zip\n",
      "../election_results_download/Glascock_2020_11_03.zip\n",
      "../election_results_download/Glynn_2020_11_03.zip\n",
      "../election_results_download/Gordon_2020_11_03.zip\n",
      "../election_results_download/Grady_2020_11_03.zip\n",
      "../election_results_download/Greene_2020_11_03.zip\n",
      "../election_results_download/Gwinnett_2020_11_03.zip\n",
      "../election_results_download/Habersham_2020_11_03.zip\n",
      "../election_results_download/Hall_2020_11_03.zip\n",
      "../election_results_download/Hancock_2020_11_03.zip\n",
      "../election_results_download/Haralson_2020_11_03.zip\n",
      "../election_results_download/Harris_2020_11_03.zip\n",
      "../election_results_download/Hart_2020_11_03.zip\n",
      "../election_results_download/Heard_2020_11_03.zip\n",
      "../election_results_download/Henry_2020_11_03.zip\n",
      "../election_results_download/Houston_2020_11_03.zip\n",
      "../election_results_download/Irwin_2020_11_03.zip\n",
      "../election_results_download/Jackson_2020_11_03.zip\n",
      "../election_results_download/Jasper_2020_11_03.zip\n",
      "../election_results_download/Jeff_Davis_2020_11_03.zip\n",
      "../election_results_download/Jefferson_2020_11_03.zip\n",
      "../election_results_download/Jenkins_2020_11_03.zip\n",
      "../election_results_download/Johnson_2020_11_03.zip\n",
      "../election_results_download/Jones_2020_11_03.zip\n",
      "../election_results_download/Lamar_2020_11_03.zip\n",
      "../election_results_download/Lanier_2020_11_03.zip\n",
      "../election_results_download/Laurens_2020_11_03.zip\n",
      "../election_results_download/Lee_2020_11_03.zip\n",
      "../election_results_download/Liberty_2020_11_03.zip\n",
      "../election_results_download/Lincoln_2020_11_03.zip\n",
      "../election_results_download/Long_2020_11_03.zip\n",
      "../election_results_download/Lowndes_2020_11_03.zip\n",
      "../election_results_download/Lumpkin_2020_11_03.zip\n",
      "../election_results_download/Macon_2020_11_03.zip\n",
      "../election_results_download/Madison_2020_11_03.zip\n",
      "../election_results_download/Marion_2020_11_03.zip\n",
      "../election_results_download/McDuffie_2020_11_03.zip\n",
      "../election_results_download/McIntosh_2020_11_03.zip\n",
      "../election_results_download/Meriwether_2020_11_03.zip\n",
      "../election_results_download/Miller_2020_11_03.zip\n",
      "../election_results_download/Mitchell_2020_11_03.zip\n",
      "../election_results_download/Monroe_2020_11_03.zip\n",
      "../election_results_download/Montgomery_2020_11_03.zip\n",
      "../election_results_download/Morgan_2020_11_03.zip\n",
      "../election_results_download/Murray_2020_11_03.zip\n",
      "../election_results_download/Muscogee_2020_11_03.zip\n",
      "../election_results_download/Newton_2020_11_03.zip\n",
      "../election_results_download/Oconee_2020_11_03.zip\n",
      "../election_results_download/Oglethorpe_2020_11_03.zip\n",
      "../election_results_download/Paulding_2020_11_03.zip\n",
      "../election_results_download/Peach_2020_11_03.zip\n",
      "../election_results_download/Pickens_2020_11_03.zip\n",
      "../election_results_download/Pierce_2020_11_03.zip\n",
      "../election_results_download/Pike_2020_11_03.zip\n",
      "../election_results_download/Polk_2020_11_03.zip\n",
      "../election_results_download/Pulaski_2020_11_03.zip\n",
      "../election_results_download/Putnam_2020_11_03.zip\n",
      "../election_results_download/Quitman_2020_11_03.zip\n",
      "../election_results_download/Rabun_2020_11_03.zip\n",
      "../election_results_download/Randolph_2020_11_03.zip\n",
      "../election_results_download/Richmond_2020_11_03.zip\n",
      "../election_results_download/Rockdale_2020_11_03.zip\n",
      "../election_results_download/Schley_2020_11_03.zip\n",
      "../election_results_download/Screven_2020_11_03.zip\n",
      "../election_results_download/Seminole_2020_11_03.zip\n",
      "../election_results_download/Spalding_2020_11_03.zip\n",
      "../election_results_download/Stephens_2020_11_03.zip\n",
      "../election_results_download/Stewart_2020_11_03.zip\n",
      "../election_results_download/Sumter_2020_11_03.zip\n",
      "../election_results_download/Talbot_2020_11_03.zip\n",
      "../election_results_download/Taliaferro_2020_11_03.zip\n",
      "../election_results_download/Tattnall_2020_11_03.zip\n",
      "../election_results_download/Taylor_2020_11_03.zip\n",
      "../election_results_download/Telfair_2020_11_03.zip\n",
      "../election_results_download/Terrell_2020_11_03.zip\n",
      "../election_results_download/Thomas_2020_11_03.zip\n",
      "../election_results_download/Tift_2020_11_03.zip\n",
      "../election_results_download/Toombs_2020_11_03.zip\n",
      "../election_results_download/Towns_2020_11_03.zip\n",
      "../election_results_download/Treutlen_2020_11_03.zip\n",
      "../election_results_download/Troup_2020_11_03.zip\n",
      "../election_results_download/Turner_2020_11_03.zip\n",
      "../election_results_download/Twiggs_2020_11_03.zip\n",
      "../election_results_download/Union_2020_11_03.zip\n",
      "../election_results_download/Upson_2020_11_03.zip\n",
      "../election_results_download/Walker_2020_11_03.zip\n",
      "../election_results_download/Walton_2020_11_03.zip\n",
      "../election_results_download/Ware_2020_11_03.zip\n",
      "../election_results_download/Warren_2020_11_03.zip\n",
      "../election_results_download/Washington_2020_11_03.zip\n",
      "../election_results_download/Wayne_2020_11_03.zip\n",
      "../election_results_download/Webster_2020_11_03.zip\n",
      "../election_results_download/Wheeler_2020_11_03.zip\n",
      "../election_results_download/White_2020_11_03.zip\n",
      "../election_results_download/Whitfield_2020_11_03.zip\n",
      "../election_results_download/Wilcox_2020_11_03.zip\n",
      "../election_results_download/Wilkes_2020_11_03.zip\n",
      "../election_results_download/Wilkinson_2020_11_03.zip\n",
      "../election_results_download/Worth_2020_11_03.zip\n"
     ]
    }
   ],
   "source": [
    "s.build()"
   ],
   "metadata": {
    "collapsed": false,
    "pycharm": {
     "name": "#%%\n"
    }
   }
  }
 ],
 "metadata": {
  "kernelspec": {
   "display_name": "Python 3",
   "language": "python",
   "name": "python3"
  },
  "language_info": {
   "codemirror_mode": {
    "name": "ipython",
    "version": 2
   },
   "file_extension": ".py",
   "mimetype": "text/x-python",
   "name": "python",
   "nbconvert_exporter": "python",
   "pygments_lexer": "ipython2",
   "version": "2.7.6"
  }
 },
 "nbformat": 4,
 "nbformat_minor": 0
}