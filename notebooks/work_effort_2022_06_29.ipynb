{
 "cells": [
  {
   "cell_type": "markdown",
   "source": [
    "# Update Fulton VTD Files\n",
    "\n",
    "Started by fixing fulton county election results file. Precincts 11E2, 11E3, 11E4, 12E2 were read as floats.\n",
    "I edited the xml file with the following unix script:\n",
    "\n"
   ],
   "metadata": {
    "collapsed": false,
    "pycharm": {
     "name": "#%% md\n"
    }
   }
  },
  {
   "cell_type": "code",
   "execution_count": 2,
   "outputs": [],
   "source": [
    "%load_ext autoreload\n",
    "%autoreload 2"
   ],
   "metadata": {
    "collapsed": false,
    "pycharm": {
     "name": "#%%\n"
    }
   }
  },
  {
   "cell_type": "code",
   "execution_count": 3,
   "outputs": [],
   "source": [
    "from data.voterdb import VoterDb\n",
    "from pathlib import Path\n",
    "from data.election_results_ingest import IngestElectionResults\n",
    "from data.maps_ingest import IngestStateVTDMaps, IngestFultonVTDMaps\n"
   ],
   "metadata": {
    "collapsed": false,
    "pycharm": {
     "name": "#%%\n"
    }
   }
  },
  {
   "cell_type": "code",
   "execution_count": 4,
   "outputs": [],
   "source": [
    "# Update election results for fulton 5-24\n",
    "root_dir = '~/Documents/data'\n",
    "db = VoterDb(root_dir)"
   ],
   "metadata": {
    "collapsed": false,
    "pycharm": {
     "name": "#%%\n"
    }
   }
  },
  {
   "cell_type": "code",
   "execution_count": 9,
   "outputs": [],
   "source": [
    "ier = IngestElectionResults(root_dir)\n",
    "p = Path('../election_results_download')\n",
    "ier.ingest(p)"
   ],
   "metadata": {
    "collapsed": false,
    "pycharm": {
     "name": "#%%\n"
    }
   }
  },
  {
   "cell_type": "code",
   "execution_count": 29,
   "outputs": [
    {
     "name": "stdout",
     "output_type": "stream",
     "text": [
      "county_code 060\n"
     ]
    }
   ],
   "source": [
    "ifvm = IngestFultonVTDMaps(root_dir)\n",
    "ifvm.ingest()"
   ],
   "metadata": {
    "collapsed": false,
    "pycharm": {
     "name": "#%%\n"
    }
   }
  },
  {
   "cell_type": "code",
   "execution_count": 30,
   "outputs": [
    {
     "name": "stdout",
     "output_type": "stream",
     "text": [
      "county_code 036\n",
      "county_code 090\n",
      "county_code 097\n",
      "county_code 119\n",
      "county_code 131\n",
      "county_code 066\n",
      "county_code 108\n",
      "county_code 029\n",
      "county_code 006\n",
      "county_code 104\n",
      "county_code 147\n",
      "county_code 107\n",
      "county_code 144\n",
      "county_code 060\n",
      "county_code 056\n",
      "county_code 122\n",
      "county_code None\n",
      "county_code 067\n",
      "county_code 058\n",
      "county_code 075\n",
      "county_code 044\n",
      "county_code 031\n",
      "county_code 126\n",
      "county_code 112\n",
      "county_code 061\n",
      "county_code 141\n",
      "county_code 074\n",
      "county_code 022\n",
      "county_code 110\n",
      "county_code 048\n",
      "county_code 038\n",
      "county_code 030\n",
      "county_code 120\n",
      "county_code 155\n",
      "county_code 124\n",
      "county_code 017\n",
      "county_code 027\n",
      "county_code 121\n",
      "county_code 149\n",
      "county_code 081\n",
      "county_code 070\n",
      "county_code 143\n",
      "county_code 084\n",
      "county_code 079\n",
      "county_code 046\n",
      "county_code 094\n",
      "county_code 111\n",
      "county_code 039\n",
      "county_code 076\n",
      "county_code 137\n",
      "county_code 159\n",
      "county_code 040\n",
      "county_code 013\n",
      "county_code 035\n",
      "county_code 014\n",
      "county_code 136\n",
      "county_code 011\n",
      "county_code 102\n",
      "county_code 088\n",
      "county_code 129\n",
      "county_code 018\n",
      "county_code 114\n",
      "county_code 085\n",
      "county_code 101\n",
      "county_code 065\n",
      "county_code 047\n",
      "county_code 096\n",
      "county_code 125\n",
      "county_code 049\n",
      "county_code 019\n",
      "county_code 135\n",
      "county_code 043\n",
      "county_code 100\n",
      "county_code 004\n",
      "county_code 106\n",
      "county_code 133\n",
      "county_code 072\n",
      "county_code 099\n",
      "county_code 118\n",
      "county_code 128\n",
      "county_code 026\n",
      "county_code 145\n",
      "county_code 152\n",
      "county_code 123\n",
      "county_code 130\n",
      "county_code 082\n",
      "county_code 024\n",
      "county_code 020\n",
      "county_code 148\n",
      "county_code 016\n",
      "county_code 034\n",
      "county_code 113\n",
      "county_code 054\n",
      "county_code 142\n",
      "county_code 132\n",
      "county_code 091\n",
      "county_code 138\n",
      "county_code 151\n",
      "county_code 063\n",
      "county_code 001\n",
      "county_code 098\n",
      "county_code 010\n",
      "county_code 092\n",
      "county_code 037\n",
      "county_code 003\n",
      "county_code 002\n",
      "county_code 080\n",
      "county_code 015\n",
      "county_code 089\n",
      "county_code 032\n",
      "county_code 086\n",
      "county_code 050\n",
      "county_code 053\n",
      "county_code 134\n",
      "county_code 153\n",
      "county_code 103\n",
      "county_code 087\n",
      "county_code 158\n",
      "county_code 140\n",
      "county_code 021\n",
      "county_code 045\n",
      "county_code 012\n",
      "county_code 083\n",
      "county_code 150\n",
      "county_code 116\n",
      "county_code 062\n",
      "county_code 156\n",
      "county_code 009\n",
      "county_code 077\n",
      "county_code 117\n",
      "county_code 005\n",
      "county_code 051\n",
      "county_code 025\n",
      "county_code 154\n",
      "county_code 069\n",
      "county_code 028\n",
      "county_code 007\n",
      "county_code 042\n",
      "county_code 093\n",
      "county_code 105\n",
      "county_code 139\n",
      "county_code 064\n",
      "county_code 041\n",
      "county_code 055\n",
      "county_code 057\n",
      "county_code 008\n",
      "county_code 115\n",
      "county_code 023\n",
      "county_code 071\n",
      "county_code 146\n",
      "county_code 033\n",
      "county_code 052\n",
      "county_code 157\n",
      "county_code 109\n",
      "county_code 068\n",
      "county_code 073\n",
      "county_code 059\n",
      "county_code 127\n",
      "county_code 095\n",
      "county_code 078\n"
     ]
    }
   ],
   "source": [
    "isvm = IngestStateVTDMaps(root_dir)\n",
    "isvm.ingest()"
   ],
   "metadata": {
    "collapsed": false,
    "pycharm": {
     "name": "#%%\n"
    }
   }
  },
  {
   "cell_type": "markdown",
   "source": [
    "Should total to 159 counties and 2,654 precincts."
   ],
   "metadata": {
    "collapsed": false,
    "pycharm": {
     "name": "#%% md\n"
    }
   }
  },
  {
   "cell_type": "code",
   "execution_count": 31,
   "outputs": [
    {
     "name": "stdout",
     "output_type": "stream",
     "text": [
      "159 2654\n"
     ]
    }
   ],
   "source": [
    "vtd_maps = db.vtd_maps\n",
    "print(len(vtd_maps.county_code.unique()), len(vtd_maps.index))"
   ],
   "metadata": {
    "collapsed": false,
    "pycharm": {
     "name": "#%%\n"
    }
   }
  },
  {
   "cell_type": "code",
   "execution_count": null,
   "outputs": [],
   "source": [],
   "metadata": {
    "collapsed": false,
    "pycharm": {
     "name": "#%%\n"
    }
   }
  }
 ],
 "metadata": {
  "kernelspec": {
   "display_name": "Python 3",
   "language": "python",
   "name": "python3"
  },
  "language_info": {
   "codemirror_mode": {
    "name": "ipython",
    "version": 2
   },
   "file_extension": ".py",
   "mimetype": "text/x-python",
   "name": "python",
   "nbconvert_exporter": "python",
   "pygments_lexer": "ipython2",
   "version": "2.7.6"
  }
 },
 "nbformat": 4,
 "nbformat_minor": 0
}