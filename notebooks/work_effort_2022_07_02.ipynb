{
 "cells": [
  {
   "cell_type": "markdown",
   "source": [
    "# Provide Kaaryn With Data with Fulton Demographics"
   ],
   "metadata": {
    "collapsed": false,
    "pycharm": {
     "name": "#%% md\n"
    }
   }
  },
  {
   "cell_type": "code",
   "execution_count": 1,
   "outputs": [],
   "source": [
    "%load_ext autoreload\n",
    "%autoreload 2"
   ],
   "metadata": {
    "collapsed": false,
    "pycharm": {
     "name": "#%%\n"
    }
   }
  },
  {
   "cell_type": "code",
   "execution_count": 5,
   "outputs": [],
   "source": [
    "from data.voterdb import VoterDb"
   ],
   "metadata": {
    "collapsed": false,
    "pycharm": {
     "name": "#%%\n"
    }
   }
  },
  {
   "cell_type": "code",
   "execution_count": 6,
   "outputs": [],
   "source": [
    "root_dir = '~/Documents/data'\n",
    "db = VoterDb(root_dir)"
   ],
   "metadata": {
    "collapsed": false,
    "pycharm": {
     "name": "#%%\n"
    }
   }
  },
  {
   "cell_type": "code",
   "execution_count": 26,
   "outputs": [
    {
     "data": {
      "text/plain": "  precinct_id  total   AP  AI   HP    BH   OT    U    WH    S  ...  AP_F_S  \\\n0        ML05   5011  333  24  224   600  119  681  3030  275  ...       6   \n1        06L1   1003   12   2   20    84   14  109   762   65  ...       1   \n2        JC08   3016  418   9  140   306   94  377  1672  102  ...       7   \n3       ML02A   2698   65   5   65   105   41  313  2104  108  ...       2   \n4        HP01   3893  118  13  268  1705  111  452  1226  169  ...       6   \n\n   AP_F_B  AP_F_GX  AP_F_M  AP_F_GZ  AP_M_S  AP_M_B  AP_M_GX  AP_M_M  AP_M_GZ  \n0      18       79      45       38       3      22       61      33       27  \n1       1        1       3        2       0       1        1       2        0  \n2      45       67      51       37       3      43       64      65       33  \n3       5       19       6        9       2       3       16       2        1  \n4      16       12      17        8       6      13       12      20        8  \n\n[5 rows x 84 columns]",
      "text/html": "<div>\n<style scoped>\n    .dataframe tbody tr th:only-of-type {\n        vertical-align: middle;\n    }\n\n    .dataframe tbody tr th {\n        vertical-align: top;\n    }\n\n    .dataframe thead th {\n        text-align: right;\n    }\n</style>\n<table border=\"1\" class=\"dataframe\">\n  <thead>\n    <tr style=\"text-align: right;\">\n      <th></th>\n      <th>precinct_id</th>\n      <th>total</th>\n      <th>AP</th>\n      <th>AI</th>\n      <th>HP</th>\n      <th>BH</th>\n      <th>OT</th>\n      <th>U</th>\n      <th>WH</th>\n      <th>S</th>\n      <th>...</th>\n      <th>AP_F_S</th>\n      <th>AP_F_B</th>\n      <th>AP_F_GX</th>\n      <th>AP_F_M</th>\n      <th>AP_F_GZ</th>\n      <th>AP_M_S</th>\n      <th>AP_M_B</th>\n      <th>AP_M_GX</th>\n      <th>AP_M_M</th>\n      <th>AP_M_GZ</th>\n    </tr>\n  </thead>\n  <tbody>\n    <tr>\n      <th>0</th>\n      <td>ML05</td>\n      <td>5011</td>\n      <td>333</td>\n      <td>24</td>\n      <td>224</td>\n      <td>600</td>\n      <td>119</td>\n      <td>681</td>\n      <td>3030</td>\n      <td>275</td>\n      <td>...</td>\n      <td>6</td>\n      <td>18</td>\n      <td>79</td>\n      <td>45</td>\n      <td>38</td>\n      <td>3</td>\n      <td>22</td>\n      <td>61</td>\n      <td>33</td>\n      <td>27</td>\n    </tr>\n    <tr>\n      <th>1</th>\n      <td>06L1</td>\n      <td>1003</td>\n      <td>12</td>\n      <td>2</td>\n      <td>20</td>\n      <td>84</td>\n      <td>14</td>\n      <td>109</td>\n      <td>762</td>\n      <td>65</td>\n      <td>...</td>\n      <td>1</td>\n      <td>1</td>\n      <td>1</td>\n      <td>3</td>\n      <td>2</td>\n      <td>0</td>\n      <td>1</td>\n      <td>1</td>\n      <td>2</td>\n      <td>0</td>\n    </tr>\n    <tr>\n      <th>2</th>\n      <td>JC08</td>\n      <td>3016</td>\n      <td>418</td>\n      <td>9</td>\n      <td>140</td>\n      <td>306</td>\n      <td>94</td>\n      <td>377</td>\n      <td>1672</td>\n      <td>102</td>\n      <td>...</td>\n      <td>7</td>\n      <td>45</td>\n      <td>67</td>\n      <td>51</td>\n      <td>37</td>\n      <td>3</td>\n      <td>43</td>\n      <td>64</td>\n      <td>65</td>\n      <td>33</td>\n    </tr>\n    <tr>\n      <th>3</th>\n      <td>ML02A</td>\n      <td>2698</td>\n      <td>65</td>\n      <td>5</td>\n      <td>65</td>\n      <td>105</td>\n      <td>41</td>\n      <td>313</td>\n      <td>2104</td>\n      <td>108</td>\n      <td>...</td>\n      <td>2</td>\n      <td>5</td>\n      <td>19</td>\n      <td>6</td>\n      <td>9</td>\n      <td>2</td>\n      <td>3</td>\n      <td>16</td>\n      <td>2</td>\n      <td>1</td>\n    </tr>\n    <tr>\n      <th>4</th>\n      <td>HP01</td>\n      <td>3893</td>\n      <td>118</td>\n      <td>13</td>\n      <td>268</td>\n      <td>1705</td>\n      <td>111</td>\n      <td>452</td>\n      <td>1226</td>\n      <td>169</td>\n      <td>...</td>\n      <td>6</td>\n      <td>16</td>\n      <td>12</td>\n      <td>17</td>\n      <td>8</td>\n      <td>6</td>\n      <td>13</td>\n      <td>12</td>\n      <td>20</td>\n      <td>8</td>\n    </tr>\n  </tbody>\n</table>\n<p>5 rows × 84 columns</p>\n</div>"
     },
     "execution_count": 26,
     "metadata": {},
     "output_type": "execute_result"
    }
   ],
   "source": [
    "fulton_ps = db.get_precinct_summary('060')\n",
    "fulton_ps.head()"
   ],
   "metadata": {
    "collapsed": false,
    "pycharm": {
     "name": "#%%\n"
    }
   }
  },
  {
   "cell_type": "code",
   "execution_count": 27,
   "outputs": [],
   "source": [
    "fulton_ps.to_csv('~/Downloads/fulton_demographics.csv', index=False)"
   ],
   "metadata": {
    "collapsed": false,
    "pycharm": {
     "name": "#%%\n"
    }
   }
  }
 ],
 "metadata": {
  "kernelspec": {
   "display_name": "Python 3",
   "language": "python",
   "name": "python3"
  },
  "language_info": {
   "codemirror_mode": {
    "name": "ipython",
    "version": 2
   },
   "file_extension": ".py",
   "mimetype": "text/x-python",
   "name": "python",
   "nbconvert_exporter": "python",
   "pygments_lexer": "ipython2",
   "version": "2.7.6"
  }
 },
 "nbformat": 4,
 "nbformat_minor": 0
}