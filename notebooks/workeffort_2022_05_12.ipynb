{
 "cells": [
  {
   "cell_type": "code",
   "execution_count": 134,
   "outputs": [
    {
     "name": "stdout",
     "output_type": "stream",
     "text": [
      "The autoreload extension is already loaded. To reload it, use:\n",
      "  %reload_ext autoreload\n"
     ]
    }
   ],
   "source": [
    "import pandas as pd\n",
    "import numpy as np\n",
    "%load_ext autoreload\n",
    "%autoreload 2"
   ],
   "metadata": {
    "collapsed": false,
    "pycharm": {
     "name": "#%%\n"
    }
   }
  },
  {
   "cell_type": "code",
   "execution_count": 190,
   "outputs": [],
   "source": [
    "from data.voterdb import VoterDb\n",
    "from data.voter_list_ingest import IngestVoterList\n",
    "from data.search import VoterMatch\n",
    "from pathlib import Path"
   ],
   "metadata": {
    "collapsed": false,
    "pycharm": {
     "name": "#%%\n"
    }
   }
  },
  {
   "cell_type": "code",
   "execution_count": 215,
   "outputs": [],
   "source": [
    "root_dir = '~/Documents/data'\n",
    "voter_db_path = Path(root_dir, 'ga', 'voter.db').expanduser()\n",
    "voter_db_path.unlink(missing_ok=True)\n",
    "voterdb = VoterDb(root_dir)\n",
    "voterdb.initialize()"
   ],
   "metadata": {
    "collapsed": false,
    "pycharm": {
     "name": "#%%\n"
    }
   }
  },
  {
   "cell_type": "code",
   "execution_count": 216,
   "outputs": [],
   "source": [
    "ivl = IngestVoterList(root_dir)\n",
    "ivl.ingest_county_voter_list('060')"
   ],
   "metadata": {
    "collapsed": false,
    "pycharm": {
     "name": "#%%\n"
    }
   }
  },
  {
   "cell_type": "code",
   "execution_count": 163,
   "outputs": [],
   "source": [
    "sample = pd.read_csv('../resources/sample.csv', dtype=str)\n",
    "\n",
    "sample.columns = [\n",
    "    'first_name',\n",
    "    'last_name',\n",
    "    'street_address',\n",
    "    'apt_no',\n",
    "    'city',\n",
    "    'state',\n",
    "    'zipcode',\n",
    "    'hse',\n",
    "    'sen',\n",
    "    'voter_id',\n",
    "    'cng',\n",
    "    'precinct_id'\n",
    "]"
   ],
   "metadata": {
    "collapsed": false,
    "pycharm": {
     "name": "#%%\n"
    }
   }
  },
  {
   "cell_type": "code",
   "execution_count": 197,
   "outputs": [],
   "source": [
    "vm = VoterMatch(root_dir)\n",
    "\n",
    "df = vm.match(sample)\n",
    "df.to_csv(Path('../resources/matches.csv'))"
   ],
   "metadata": {
    "collapsed": false,
    "pycharm": {
     "name": "#%%\n"
    }
   }
  },
  {
   "cell_type": "code",
   "execution_count": 217,
   "outputs": [],
   "source": [
    "ivl = IngestVoterList(root_dir)\n",
    "ivl.ingest_county_voter_list('033')"
   ],
   "metadata": {
    "collapsed": false,
    "pycharm": {
     "name": "#%%\n"
    }
   }
  },
  {
   "cell_type": "code",
   "execution_count": 218,
   "outputs": [],
   "source": [
    "ivl.ingest_county_voter_list('067')"
   ],
   "metadata": {
    "collapsed": false,
    "pycharm": {
     "name": "#%%\n"
    }
   }
  },
  {
   "cell_type": "markdown",
   "source": [],
   "metadata": {
    "collapsed": false,
    "pycharm": {
     "name": "#%% md\n"
    }
   }
  },
  {
   "cell_type": "code",
   "execution_count": 225,
   "outputs": [
    {
     "data": {
      "text/plain": "['135',\n '132',\n '104',\n '103',\n '157',\n '150',\n '159',\n '102',\n '105',\n '133',\n '134',\n '158',\n '151',\n '156',\n '024',\n '023',\n '015',\n '012',\n '079',\n '046',\n '041',\n '048',\n '077',\n '083',\n '084',\n '070',\n '013',\n '014',\n '022',\n '025',\n '071',\n '085',\n '049',\n '082',\n '076',\n '040',\n '078',\n '047',\n '065',\n '091',\n '096',\n '062',\n '054',\n '053',\n '098',\n '038',\n '007',\n '009',\n '036',\n '031',\n '052',\n '099',\n '055',\n '063',\n '097',\n '090',\n '064',\n '030',\n '008',\n '037',\n '001',\n '039',\n '006',\n '145',\n '142',\n '129',\n '116',\n '111',\n '118',\n '127',\n '120',\n '143',\n '144',\n '121',\n '119',\n '126',\n '110',\n '128',\n '117',\n '153',\n '154',\n '131',\n '136',\n '109',\n '100',\n '107',\n '138',\n '155',\n '152',\n '106',\n '139',\n '101',\n '137',\n '108',\n '130',\n '089',\n '042',\n '045',\n '087',\n '073',\n '074',\n '080',\n '020',\n '027',\n '018',\n '011',\n '016',\n '029',\n '081',\n '075',\n '072',\n '086',\n '044',\n '088',\n '043',\n '017',\n '028',\n '010',\n '026',\n '019',\n '021',\n '003',\n '004',\n '032',\n '035',\n '095',\n '061',\n '066',\n '092',\n '059',\n '050',\n '057',\n '068',\n '034',\n '033',\n '005',\n '002',\n '056',\n '069',\n '051',\n '093',\n '067',\n '058',\n '060',\n '094',\n '112',\n '115',\n '123',\n '124',\n '148',\n '141',\n '146',\n '125',\n '122',\n '114',\n '113',\n '147',\n '140',\n '149']"
     },
     "execution_count": 225,
     "metadata": {},
     "output_type": "execute_result"
    }
   ],
   "source": [
    "counties = [x.name for x in (filter(lambda p: p.is_dir(), [p for p in ivl.voter_list_dir.iterdir()]))]\n",
    "counties.remove('033')\n",
    "counties.remove('067')\n",
    "counties.remove('060')"
   ],
   "metadata": {
    "collapsed": false,
    "pycharm": {
     "name": "#%%\n"
    }
   }
  },
  {
   "cell_type": "code",
   "execution_count": 226,
   "outputs": [
    {
     "data": {
      "text/plain": "['116',\n '150',\n '124',\n '051',\n '033',\n '142',\n '040',\n '122',\n '129',\n '120',\n '034',\n '101',\n '023',\n '021',\n '138',\n '029',\n '067',\n '085',\n '068',\n '079',\n '099',\n '025',\n '121',\n '151',\n '056',\n '152',\n '037',\n '100',\n '005',\n '039',\n '013',\n '125',\n '094',\n '031',\n '128',\n '112',\n '004',\n '098',\n '115',\n '118',\n '072',\n '028',\n '045',\n '066',\n '003',\n '110',\n '026',\n '050',\n '157',\n '078',\n '070',\n '041',\n '090',\n '046',\n '081',\n '133',\n '119',\n '087',\n '091',\n '131',\n '104',\n '084',\n '009',\n '018',\n '059',\n '158',\n '140',\n '132',\n '049',\n '030',\n '071',\n '109',\n '086',\n '089',\n '145',\n '143',\n '136',\n '062',\n '012',\n '019',\n '149',\n '017',\n '113',\n '082',\n '042',\n '016',\n '036',\n '048',\n '137',\n '035',\n '043',\n '096',\n '135',\n '130',\n '001',\n '088',\n '024',\n '093',\n '032',\n '047',\n '058',\n '080',\n '057',\n '108',\n '095',\n '044',\n '123',\n '074',\n '103',\n '060',\n '156',\n '052',\n '022',\n '141',\n '007',\n '061',\n '069',\n '144',\n '073',\n '006',\n '139',\n '064',\n '076',\n '114',\n '038',\n '063',\n '147',\n '053',\n '105',\n '020',\n '065',\n '153',\n '155',\n '054',\n '134',\n '126',\n '075',\n '077',\n '015',\n '008',\n '027',\n '148',\n '097',\n '107',\n '106',\n '127',\n '117',\n '014',\n '083',\n '055',\n '011',\n '154',\n '010',\n '146',\n '111',\n '102',\n '092',\n '002',\n '159']"
     },
     "execution_count": 226,
     "metadata": {},
     "output_type": "execute_result"
    }
   ],
   "source": [
    "from random import shuffle\n",
    "\n",
    "shuffle(counties)\n",
    "counties"
   ],
   "metadata": {
    "collapsed": false,
    "pycharm": {
     "name": "#%%\n"
    }
   }
  },
  {
   "cell_type": "code",
   "execution_count": 227,
   "outputs": [
    {
     "name": "stdout",
     "output_type": "stream",
     "text": [
      "starting 116 ... finished with 116\n",
      "starting 150 ... finished with 150\n",
      "starting 124 ... finished with 124\n",
      "starting 051 ... finished with 051\n",
      "starting 033 ... finished with 033\n",
      "starting 142 ... finished with 142\n",
      "starting 040 ... finished with 040\n",
      "starting 122 ... finished with 122\n",
      "starting 129 ... finished with 129\n",
      "starting 120 ... finished with 120\n",
      "starting 034 ... finished with 034\n",
      "starting 101 ... finished with 101\n",
      "starting 023 ... finished with 023\n",
      "starting 021 ... finished with 021\n",
      "starting 138 ... finished with 138\n",
      "starting 029 ... finished with 029\n",
      "starting 067 ... finished with 067\n",
      "starting 085 ... finished with 085\n",
      "starting 068 ... finished with 068\n",
      "starting 079 ... finished with 079\n",
      "starting 099 ... finished with 099\n",
      "starting 025 ... finished with 025\n",
      "starting 121 ... finished with 121\n",
      "starting 151 ... finished with 151\n",
      "starting 056 ... finished with 056\n",
      "starting 152 ... finished with 152\n",
      "starting 037 ... finished with 037\n",
      "starting 100 ... finished with 100\n",
      "starting 005 ... finished with 005\n",
      "starting 039 ... finished with 039\n",
      "starting 013 ... finished with 013\n",
      "starting 125 ... finished with 125\n",
      "starting 094 ... finished with 094\n",
      "starting 031 ... finished with 031\n",
      "starting 128 ... finished with 128\n",
      "starting 112 ... finished with 112\n",
      "starting 004 ... finished with 004\n",
      "starting 098 ... finished with 098\n",
      "starting 115 ... finished with 115\n",
      "starting 118 ... finished with 118\n",
      "starting 072 ... finished with 072\n",
      "starting 028 ... finished with 028\n",
      "starting 045 ... finished with 045\n",
      "starting 066 ... finished with 066\n",
      "starting 003 ... finished with 003\n",
      "starting 110 ... finished with 110\n",
      "starting 026 ... finished with 026\n",
      "starting 050 ... finished with 050\n",
      "starting 157 ... finished with 157\n",
      "starting 078 ... finished with 078\n",
      "starting 070 ... finished with 070\n",
      "starting 041 ... finished with 041\n",
      "starting 090 ... finished with 090\n",
      "starting 046 ... finished with 046\n",
      "starting 081 ... finished with 081\n",
      "starting 133 ... finished with 133\n",
      "starting 119 ... finished with 119\n",
      "starting 087 ... finished with 087\n",
      "starting 091 ... finished with 091\n",
      "starting 131 ... finished with 131\n",
      "starting 104 ... finished with 104\n",
      "starting 084 ... finished with 084\n",
      "starting 009 ... finished with 009\n",
      "starting 018 ... finished with 018\n",
      "starting 059 ... finished with 059\n",
      "starting 158 ... finished with 158\n",
      "starting 140 ... finished with 140\n",
      "starting 132 ... finished with 132\n",
      "starting 049 ... finished with 049\n",
      "starting 030 ... finished with 030\n",
      "starting 071 ... finished with 071\n",
      "starting 109 ... finished with 109\n",
      "starting 086 ... finished with 086\n",
      "starting 089 ... finished with 089\n",
      "starting 145 ... finished with 145\n",
      "starting 143 ... finished with 143\n",
      "starting 136 ... finished with 136\n",
      "starting 062 ... finished with 062\n",
      "starting 012 ... finished with 012\n",
      "starting 019 ... finished with 019\n",
      "starting 149 ... finished with 149\n",
      "starting 017 ... finished with 017\n",
      "starting 113 ... finished with 113\n",
      "starting 082 ... finished with 082\n",
      "starting 042 ... finished with 042\n",
      "starting 016 ... finished with 016\n",
      "starting 036 ... finished with 036\n",
      "starting 048 ... finished with 048\n",
      "starting 137 ... finished with 137\n",
      "starting 035 ... finished with 035\n",
      "starting 043 ... finished with 043\n",
      "starting 096 ... finished with 096\n",
      "starting 135 ... finished with 135\n",
      "starting 130 ... finished with 130\n",
      "starting 001 ... finished with 001\n",
      "starting 088 ... finished with 088\n",
      "starting 024 ... finished with 024\n",
      "starting 093 ... finished with 093\n",
      "starting 032 ... finished with 032\n",
      "starting 047 ... finished with 047\n",
      "starting 058 ... finished with 058\n",
      "starting 080 ... finished with 080\n",
      "starting 057 ... finished with 057\n",
      "starting 108 ... finished with 108\n",
      "starting 095 ... finished with 095\n",
      "starting 044 ... finished with 044\n",
      "starting 123 ... finished with 123\n",
      "starting 074 ... finished with 074\n",
      "starting 103 ... finished with 103\n",
      "starting 060 ... finished with 060\n",
      "starting 156 ... finished with 156\n",
      "starting 052 ... finished with 052\n",
      "starting 022 ... finished with 022\n",
      "starting 141 ... finished with 141\n",
      "starting 007 ... finished with 007\n",
      "starting 061 ... finished with 061\n",
      "starting 069 ... finished with 069\n",
      "starting 144 ... finished with 144\n",
      "starting 073 ... finished with 073\n",
      "starting 006 ... finished with 006\n",
      "starting 139 ... finished with 139\n",
      "starting 064 ... finished with 064\n",
      "starting 076 ... finished with 076\n",
      "starting 114 ... finished with 114\n",
      "starting 038 ... finished with 038\n",
      "starting 063 ... finished with 063\n",
      "starting 147 ... finished with 147\n",
      "starting 053 ... finished with 053\n",
      "starting 105 ... finished with 105\n",
      "starting 020 ... finished with 020\n",
      "starting 065 ... finished with 065\n",
      "starting 153 ... finished with 153\n",
      "starting 155 ... finished with 155\n",
      "starting 054 ... finished with 054\n",
      "starting 134 ... finished with 134\n",
      "starting 126 ... finished with 126\n",
      "starting 075 ... finished with 075\n",
      "starting 077 ... finished with 077\n",
      "starting 015 ... finished with 015\n",
      "starting 008 ... finished with 008\n",
      "starting 027 ... finished with 027\n",
      "starting 148 ... finished with 148\n",
      "starting 097 ... finished with 097\n",
      "starting 107 ... finished with 107\n",
      "starting 106 ... finished with 106\n",
      "starting 127 ... finished with 127\n",
      "starting 117 ... finished with 117\n",
      "starting 014 ... finished with 014\n",
      "starting 083 ... finished with 083\n",
      "starting 055 ... finished with 055\n",
      "starting 011 ... finished with 011\n",
      "starting 154 ... finished with 154\n",
      "starting 010 ... finished with 010\n",
      "starting 146 ... finished with 146\n",
      "starting 111 ... finished with 111\n",
      "starting 102 ... finished with 102\n",
      "starting 092 ... finished with 092\n",
      "starting 002 ... finished with 002\n",
      "starting 159 ... finished with 159\n"
     ]
    }
   ],
   "source": [
    "for c in counties:\n",
    "    print(f'starting {c} ...', end=' ')\n",
    "    ivl.ingest_county_voter_list(c)\n",
    "    print(f'finished with {c}')"
   ],
   "metadata": {
    "collapsed": false,
    "pycharm": {
     "name": "#%%\n"
    }
   }
  },
  {
   "cell_type": "code",
   "execution_count": 228,
   "outputs": [],
   "source": [
    "ivl.db.con.close()"
   ],
   "metadata": {
    "collapsed": false,
    "pycharm": {
     "name": "#%%\n"
    }
   }
  },
  {
   "cell_type": "code",
   "execution_count": 229,
   "outputs": [],
   "source": [
    "voterdb.con.close()"
   ],
   "metadata": {
    "collapsed": false,
    "pycharm": {
     "name": "#%%\n"
    }
   }
  },
  {
   "cell_type": "code",
   "execution_count": null,
   "outputs": [],
   "source": [],
   "metadata": {
    "collapsed": false,
    "pycharm": {
     "name": "#%%\n"
    }
   }
  }
 ],
 "metadata": {
  "kernelspec": {
   "display_name": "Python 3",
   "language": "python",
   "name": "python3"
  },
  "language_info": {
   "codemirror_mode": {
    "name": "ipython",
    "version": 2
   },
   "file_extension": ".py",
   "mimetype": "text/x-python",
   "name": "python",
   "nbconvert_exporter": "python",
   "pygments_lexer": "ipython2",
   "version": "2.7.6"
  }
 },
 "nbformat": 4,
 "nbformat_minor": 0
}