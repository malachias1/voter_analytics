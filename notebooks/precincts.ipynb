{
 "cells": [
  {
   "cell_type": "markdown",
   "source": [
    "# Precinct Name Cleanup"
   ],
   "metadata": {
    "collapsed": false,
    "pycharm": {
     "name": "#%% md\n"
    }
   }
  },
  {
   "cell_type": "code",
   "execution_count": 2,
   "outputs": [],
   "source": [
    "import pandas as pd\n",
    "import numpy as np\n",
    "from pathlib import Path\n",
    "%load_ext autoreload\n",
    "%autoreload 2"
   ],
   "metadata": {
    "collapsed": false,
    "pycharm": {
     "name": "#%%\n"
    }
   }
  },
  {
   "cell_type": "code",
   "execution_count": 3,
   "outputs": [],
   "source": [
    "from data.voterdb import VoterDb"
   ],
   "metadata": {
    "collapsed": false,
    "pycharm": {
     "name": "#%%\n"
    }
   }
  },
  {
   "cell_type": "code",
   "execution_count": 4,
   "outputs": [],
   "source": [
    "root_dir = '~/Documents/data'\n",
    "db = VoterDb(root_dir)"
   ],
   "metadata": {
    "collapsed": false,
    "pycharm": {
     "name": "#%%\n"
    }
   }
  },
  {
   "cell_type": "markdown",
   "source": [
    "Get VTD precinct ids and names.\n",
    "Get election result county and precinct name. Drop duplicates.\n",
    "Get county details and merge county code with election results.\n",
    "Rename county to county name in election result.\n",
    "Merge election results with county details to add county code.\n",
    "Merge election result with vtd to get precinct ids\n",
    "Identify missing precinct ids\n"
   ],
   "metadata": {
    "collapsed": false,
    "pycharm": {
     "name": "#%% md\n"
    }
   }
  },
  {
   "cell_type": "code",
   "execution_count": 5,
   "outputs": [],
   "source": [
    "vtd_p = pd.read_sql_query('select county_code, precinct_id, precinct_name from vtd_map', db.con)\n",
    "er_p = pd.read_sql_query('select county, precinct_name from election_results', db.con).drop_duplicates().reset_index()\n",
    "er_p = er_p.rename(columns={'county': 'county_name'})\n",
    "cd = db.county_details\n",
    "er_p = er_p.merge(cd, on='county_name', how='left')\n",
    "er_p = er_p.merge(vtd_p, on=['county_code', 'precinct_name'], how='left')[['county_code', 'county_name', 'precinct_id', 'precinct_name']]\n",
    "er_p = er_p.sort_values(['county_name', 'precinct_name'])\n",
    "er_p_missing = er_p[er_p.precinct_id.isna()]"
   ],
   "metadata": {
    "collapsed": false,
    "pycharm": {
     "name": "#%%\n"
    }
   }
  },
  {
   "cell_type": "code",
   "execution_count": 25,
   "outputs": [],
   "source": [
    "from thefuzz import process\n",
    "results = []\n",
    "for c in er_p_missing.county_code.unique():\n",
    "    choices = vtd_p[vtd_p.county_code == c].precinct_name\n",
    "    for x in er_p_missing[er_p_missing.county_code == c].precinct_name:\n",
    "        choice, score, _ = process.extractOne(x, choices)\n",
    "        results.append((c, x, choice, score))\n",
    "\n"
   ],
   "metadata": {
    "collapsed": false,
    "pycharm": {
     "name": "#%%\n"
    }
   }
  },
  {
   "cell_type": "code",
   "execution_count": 22,
   "outputs": [
    {
     "data": {
      "text/plain": "341"
     },
     "execution_count": 22,
     "metadata": {},
     "output_type": "execute_result"
    }
   ],
   "source": [
    "len(list(filter(lambda x: x[2] >= 85, results)))"
   ],
   "metadata": {
    "collapsed": false,
    "pycharm": {
     "name": "#%%\n"
    }
   }
  },
  {
   "cell_type": "code",
   "execution_count": 27,
   "outputs": [
    {
     "data": {
      "text/plain": "[('067', 'PINCKNEYVILLE A', 'PINCKNEYVILLE A1', 97)]"
     },
     "execution_count": 27,
     "metadata": {},
     "output_type": "execute_result"
    }
   ],
   "source": [
    "list(filter(lambda x: x[0]=='067', sorted(results, key=lambda x: x[2], reverse=True)))"
   ],
   "metadata": {
    "collapsed": false,
    "pycharm": {
     "name": "#%%\n"
    }
   }
  },
  {
   "cell_type": "code",
   "execution_count": 30,
   "outputs": [],
   "source": [
    "db.county_details.to_csv('../resources/county_details.csv', index=False)"
   ],
   "metadata": {
    "collapsed": false,
    "pycharm": {
     "name": "#%%\n"
    }
   }
  },
  {
   "cell_type": "markdown",
   "source": [],
   "metadata": {
    "collapsed": false,
    "pycharm": {
     "name": "#%% md\n"
    }
   }
  },
  {
   "cell_type": "markdown",
   "source": [
    "## Baldwin County\n",
    "\n",
    "MERIWEATHER should be MERIWETHER\n",
    "SCOTTBORO should be SCOTTSBORO\n",
    "WEST THOMAS is missing from VTD"
   ],
   "metadata": {
    "collapsed": false,
    "pycharm": {
     "name": "#%% md\n"
    }
   }
  },
  {
   "cell_type": "code",
   "execution_count": 53,
   "outputs": [
    {
     "data": {
      "text/plain": "     county_code precinct_id        precinct_name\n981          005         322              COOPERS\n984          005        1714           SCOTTSBORO\n985          005        CTY6  NORTH MILLEDGEVILLE\n986          005        MONT         EAST BALDWIN\n991          005        CTY2      CITY HALL ANNEX\n992          005        321E        EAST HARDWICK\n993          005        CTY3               BODDIE\n994          005         319         WEST BALDWIN\n995          005        MERI          MERIWEATHER\n996          005        321W        WEST HARDWICK\n997          005        CTY5            FIRE DEPT\n998          005         318        NORTH BALDWIN\n1041         005        CTY1  SOUTH MILLEDGEVILLE\n1042         005        CTY4           COURTHOUSE",
      "text/html": "<div>\n<style scoped>\n    .dataframe tbody tr th:only-of-type {\n        vertical-align: middle;\n    }\n\n    .dataframe tbody tr th {\n        vertical-align: top;\n    }\n\n    .dataframe thead th {\n        text-align: right;\n    }\n</style>\n<table border=\"1\" class=\"dataframe\">\n  <thead>\n    <tr style=\"text-align: right;\">\n      <th></th>\n      <th>county_code</th>\n      <th>precinct_id</th>\n      <th>precinct_name</th>\n    </tr>\n  </thead>\n  <tbody>\n    <tr>\n      <th>981</th>\n      <td>005</td>\n      <td>322</td>\n      <td>COOPERS</td>\n    </tr>\n    <tr>\n      <th>984</th>\n      <td>005</td>\n      <td>1714</td>\n      <td>SCOTTSBORO</td>\n    </tr>\n    <tr>\n      <th>985</th>\n      <td>005</td>\n      <td>CTY6</td>\n      <td>NORTH MILLEDGEVILLE</td>\n    </tr>\n    <tr>\n      <th>986</th>\n      <td>005</td>\n      <td>MONT</td>\n      <td>EAST BALDWIN</td>\n    </tr>\n    <tr>\n      <th>991</th>\n      <td>005</td>\n      <td>CTY2</td>\n      <td>CITY HALL ANNEX</td>\n    </tr>\n    <tr>\n      <th>992</th>\n      <td>005</td>\n      <td>321E</td>\n      <td>EAST HARDWICK</td>\n    </tr>\n    <tr>\n      <th>993</th>\n      <td>005</td>\n      <td>CTY3</td>\n      <td>BODDIE</td>\n    </tr>\n    <tr>\n      <th>994</th>\n      <td>005</td>\n      <td>319</td>\n      <td>WEST BALDWIN</td>\n    </tr>\n    <tr>\n      <th>995</th>\n      <td>005</td>\n      <td>MERI</td>\n      <td>MERIWEATHER</td>\n    </tr>\n    <tr>\n      <th>996</th>\n      <td>005</td>\n      <td>321W</td>\n      <td>WEST HARDWICK</td>\n    </tr>\n    <tr>\n      <th>997</th>\n      <td>005</td>\n      <td>CTY5</td>\n      <td>FIRE DEPT</td>\n    </tr>\n    <tr>\n      <th>998</th>\n      <td>005</td>\n      <td>318</td>\n      <td>NORTH BALDWIN</td>\n    </tr>\n    <tr>\n      <th>1041</th>\n      <td>005</td>\n      <td>CTY1</td>\n      <td>SOUTH MILLEDGEVILLE</td>\n    </tr>\n    <tr>\n      <th>1042</th>\n      <td>005</td>\n      <td>CTY4</td>\n      <td>COURTHOUSE</td>\n    </tr>\n  </tbody>\n</table>\n</div>"
     },
     "execution_count": 53,
     "metadata": {},
     "output_type": "execute_result"
    }
   ],
   "source": [
    "vtd_p[vtd_p.county_code=='005']"
   ],
   "metadata": {
    "collapsed": false,
    "pycharm": {
     "name": "#%%\n"
    }
   }
  },
  {
   "cell_type": "markdown",
   "source": [
    "## Bryan County\n",
    "\n",
    "JF GREGORY PARK = J.F.GREGORY PARK\n",
    "NEW BEGINNINGS is missing\n",
    "RH RECREATION COMPX = RH REC COMPLEX"
   ],
   "metadata": {
    "collapsed": false,
    "pycharm": {
     "name": "#%% md\n"
    }
   }
  },
  {
   "cell_type": "code",
   "execution_count": 54,
   "outputs": [
    {
     "data": {
      "text/plain": "     county_code precinct_id        precinct_name\n786          015           9  PUBLIC SAFETY COMPX\n787          015           5  RH RECREATION COMPX\n788          015           6     J.F.GREGORY PARK\n1216         015           3          BLACK CREEK\n1259         015           8         HWY 144 EAST\n1264         015           7               KELLER\n1265         015          10         DANIELSIDING\n1266         015           4         WAYS STATION\n1292         015           1             PEMBROKE\n1294         015           2             ELLABELL",
      "text/html": "<div>\n<style scoped>\n    .dataframe tbody tr th:only-of-type {\n        vertical-align: middle;\n    }\n\n    .dataframe tbody tr th {\n        vertical-align: top;\n    }\n\n    .dataframe thead th {\n        text-align: right;\n    }\n</style>\n<table border=\"1\" class=\"dataframe\">\n  <thead>\n    <tr style=\"text-align: right;\">\n      <th></th>\n      <th>county_code</th>\n      <th>precinct_id</th>\n      <th>precinct_name</th>\n    </tr>\n  </thead>\n  <tbody>\n    <tr>\n      <th>786</th>\n      <td>015</td>\n      <td>9</td>\n      <td>PUBLIC SAFETY COMPX</td>\n    </tr>\n    <tr>\n      <th>787</th>\n      <td>015</td>\n      <td>5</td>\n      <td>RH RECREATION COMPX</td>\n    </tr>\n    <tr>\n      <th>788</th>\n      <td>015</td>\n      <td>6</td>\n      <td>J.F.GREGORY PARK</td>\n    </tr>\n    <tr>\n      <th>1216</th>\n      <td>015</td>\n      <td>3</td>\n      <td>BLACK CREEK</td>\n    </tr>\n    <tr>\n      <th>1259</th>\n      <td>015</td>\n      <td>8</td>\n      <td>HWY 144 EAST</td>\n    </tr>\n    <tr>\n      <th>1264</th>\n      <td>015</td>\n      <td>7</td>\n      <td>KELLER</td>\n    </tr>\n    <tr>\n      <th>1265</th>\n      <td>015</td>\n      <td>10</td>\n      <td>DANIELSIDING</td>\n    </tr>\n    <tr>\n      <th>1266</th>\n      <td>015</td>\n      <td>4</td>\n      <td>WAYS STATION</td>\n    </tr>\n    <tr>\n      <th>1292</th>\n      <td>015</td>\n      <td>1</td>\n      <td>PEMBROKE</td>\n    </tr>\n    <tr>\n      <th>1294</th>\n      <td>015</td>\n      <td>2</td>\n      <td>ELLABELL</td>\n    </tr>\n  </tbody>\n</table>\n</div>"
     },
     "execution_count": 54,
     "metadata": {},
     "output_type": "execute_result"
    }
   ],
   "source": [
    "vtd_p[vtd_p.county_code=='015']"
   ],
   "metadata": {
    "collapsed": false,
    "pycharm": {
     "name": "#%%\n"
    }
   }
  },
  {
   "cell_type": "code",
   "execution_count": 16,
   "outputs": [
    {
     "data": {
      "text/plain": "     county_code precinct_id precinct_name\n2196         060         01A           01A\n2410         060         01B           01B\n2282         060         01C           01C\n2472         060         01D           01D\n2206         060         01E           01E\n...          ...         ...           ...\n2520         060       UC02B         UC02B\n2265         060       UC02C         UC02C\n2276         060       UC031         UC031\n2347         060       UC032         UC032\n2529         060        WL01           NaN\n\n[393 rows x 3 columns]",
      "text/html": "<div>\n<style scoped>\n    .dataframe tbody tr th:only-of-type {\n        vertical-align: middle;\n    }\n\n    .dataframe tbody tr th {\n        vertical-align: top;\n    }\n\n    .dataframe thead th {\n        text-align: right;\n    }\n</style>\n<table border=\"1\" class=\"dataframe\">\n  <thead>\n    <tr style=\"text-align: right;\">\n      <th></th>\n      <th>county_code</th>\n      <th>precinct_id</th>\n      <th>precinct_name</th>\n    </tr>\n  </thead>\n  <tbody>\n    <tr>\n      <th>2196</th>\n      <td>060</td>\n      <td>01A</td>\n      <td>01A</td>\n    </tr>\n    <tr>\n      <th>2410</th>\n      <td>060</td>\n      <td>01B</td>\n      <td>01B</td>\n    </tr>\n    <tr>\n      <th>2282</th>\n      <td>060</td>\n      <td>01C</td>\n      <td>01C</td>\n    </tr>\n    <tr>\n      <th>2472</th>\n      <td>060</td>\n      <td>01D</td>\n      <td>01D</td>\n    </tr>\n    <tr>\n      <th>2206</th>\n      <td>060</td>\n      <td>01E</td>\n      <td>01E</td>\n    </tr>\n    <tr>\n      <th>...</th>\n      <td>...</td>\n      <td>...</td>\n      <td>...</td>\n    </tr>\n    <tr>\n      <th>2520</th>\n      <td>060</td>\n      <td>UC02B</td>\n      <td>UC02B</td>\n    </tr>\n    <tr>\n      <th>2265</th>\n      <td>060</td>\n      <td>UC02C</td>\n      <td>UC02C</td>\n    </tr>\n    <tr>\n      <th>2276</th>\n      <td>060</td>\n      <td>UC031</td>\n      <td>UC031</td>\n    </tr>\n    <tr>\n      <th>2347</th>\n      <td>060</td>\n      <td>UC032</td>\n      <td>UC032</td>\n    </tr>\n    <tr>\n      <th>2529</th>\n      <td>060</td>\n      <td>WL01</td>\n      <td>NaN</td>\n    </tr>\n  </tbody>\n</table>\n<p>393 rows × 3 columns</p>\n</div>"
     },
     "execution_count": 16,
     "metadata": {},
     "output_type": "execute_result"
    }
   ],
   "source": [
    "df[df.county_code == '060'].sort_values(['precinct_id'])"
   ],
   "metadata": {
    "collapsed": false,
    "pycharm": {
     "name": "#%%\n"
    }
   }
  },
  {
   "cell_type": "code",
   "execution_count": 18,
   "outputs": [],
   "source": [
    "df_e = df_e.rename(columns={'county': 'county_name'})"
   ],
   "metadata": {
    "collapsed": false,
    "pycharm": {
     "name": "#%%\n"
    }
   }
  },
  {
   "cell_type": "code",
   "execution_count": 19,
   "outputs": [],
   "source": [
    "cd = db.county_details\n",
    "df_e = df_e.merge(cd, on='county_name', how='left')"
   ],
   "metadata": {
    "collapsed": false,
    "pycharm": {
     "name": "#%%\n"
    }
   }
  },
  {
   "cell_type": "code",
   "execution_count": 20,
   "outputs": [
    {
     "data": {
      "text/plain": "0"
     },
     "execution_count": 20,
     "metadata": {},
     "output_type": "execute_result"
    }
   ],
   "source": [
    "df_e.county_code.isna().sum()"
   ],
   "metadata": {
    "collapsed": false,
    "pycharm": {
     "name": "#%%\n"
    }
   }
  },
  {
   "cell_type": "code",
   "execution_count": 29,
   "outputs": [],
   "source": [
    "df1 = df_e[['county_name', 'county_code', 'precinct_name']].drop_duplicates().merge(df_p, on=['county_code', 'precinct_name'], how='left')"
   ],
   "metadata": {
    "collapsed": false,
    "pycharm": {
     "name": "#%%\n"
    }
   }
  },
  {
   "cell_type": "code",
   "execution_count": 30,
   "outputs": [
    {
     "data": {
      "text/plain": "472"
     },
     "execution_count": 30,
     "metadata": {},
     "output_type": "execute_result"
    }
   ],
   "source": [
    "df1.precinct_id.isna().sum()"
   ],
   "metadata": {
    "collapsed": false,
    "pycharm": {
     "name": "#%%\n"
    }
   }
  },
  {
   "cell_type": "code",
   "execution_count": 31,
   "outputs": [
    {
     "data": {
      "text/plain": "(324238, 4)"
     },
     "execution_count": 31,
     "metadata": {},
     "output_type": "execute_result"
    }
   ],
   "source": [
    "df_e.shape"
   ],
   "metadata": {
    "collapsed": false,
    "pycharm": {
     "name": "#%%\n"
    }
   }
  },
  {
   "cell_type": "code",
   "execution_count": 32,
   "outputs": [
    {
     "data": {
      "text/plain": "     county_name county_code             precinct_name precinct_id\n10         TROUP         141                 MCCLENDON         NaN\n20      CHARLTON         024                   WINKOUR         NaN\n31         FLOYD         057              FOSTERS MILL         NaN\n65       DOUGLAS         048    EPHESUS BAPTIST CHURCH         NaN\n69       DOUGLAS         048   GOLDEN METHODIST CHURCH         NaN\n...          ...         ...                       ...         ...\n2655     LAURENS         087                   FBC-FLC         NaN\n2656     LAURENS         087       FIRE DEPT STATION 5         NaN\n2658     LAURENS         087                  LCFS #10         NaN\n2661     LAURENS         087      RURAL FIRE STATION 7         NaN\n2663     LAURENS         087  WT ADAMS FIRE STATION 18         NaN\n\n[472 rows x 4 columns]",
      "text/html": "<div>\n<style scoped>\n    .dataframe tbody tr th:only-of-type {\n        vertical-align: middle;\n    }\n\n    .dataframe tbody tr th {\n        vertical-align: top;\n    }\n\n    .dataframe thead th {\n        text-align: right;\n    }\n</style>\n<table border=\"1\" class=\"dataframe\">\n  <thead>\n    <tr style=\"text-align: right;\">\n      <th></th>\n      <th>county_name</th>\n      <th>county_code</th>\n      <th>precinct_name</th>\n      <th>precinct_id</th>\n    </tr>\n  </thead>\n  <tbody>\n    <tr>\n      <th>10</th>\n      <td>TROUP</td>\n      <td>141</td>\n      <td>MCCLENDON</td>\n      <td>NaN</td>\n    </tr>\n    <tr>\n      <th>20</th>\n      <td>CHARLTON</td>\n      <td>024</td>\n      <td>WINKOUR</td>\n      <td>NaN</td>\n    </tr>\n    <tr>\n      <th>31</th>\n      <td>FLOYD</td>\n      <td>057</td>\n      <td>FOSTERS MILL</td>\n      <td>NaN</td>\n    </tr>\n    <tr>\n      <th>65</th>\n      <td>DOUGLAS</td>\n      <td>048</td>\n      <td>EPHESUS BAPTIST CHURCH</td>\n      <td>NaN</td>\n    </tr>\n    <tr>\n      <th>69</th>\n      <td>DOUGLAS</td>\n      <td>048</td>\n      <td>GOLDEN METHODIST CHURCH</td>\n      <td>NaN</td>\n    </tr>\n    <tr>\n      <th>...</th>\n      <td>...</td>\n      <td>...</td>\n      <td>...</td>\n      <td>...</td>\n    </tr>\n    <tr>\n      <th>2655</th>\n      <td>LAURENS</td>\n      <td>087</td>\n      <td>FBC-FLC</td>\n      <td>NaN</td>\n    </tr>\n    <tr>\n      <th>2656</th>\n      <td>LAURENS</td>\n      <td>087</td>\n      <td>FIRE DEPT STATION 5</td>\n      <td>NaN</td>\n    </tr>\n    <tr>\n      <th>2658</th>\n      <td>LAURENS</td>\n      <td>087</td>\n      <td>LCFS #10</td>\n      <td>NaN</td>\n    </tr>\n    <tr>\n      <th>2661</th>\n      <td>LAURENS</td>\n      <td>087</td>\n      <td>RURAL FIRE STATION 7</td>\n      <td>NaN</td>\n    </tr>\n    <tr>\n      <th>2663</th>\n      <td>LAURENS</td>\n      <td>087</td>\n      <td>WT ADAMS FIRE STATION 18</td>\n      <td>NaN</td>\n    </tr>\n  </tbody>\n</table>\n<p>472 rows × 4 columns</p>\n</div>"
     },
     "execution_count": 32,
     "metadata": {},
     "output_type": "execute_result"
    }
   ],
   "source": [
    "x = df1[df1.precinct_id.isna()]\n",
    "x"
   ],
   "metadata": {
    "collapsed": false,
    "pycharm": {
     "name": "#%%\n"
    }
   }
  },
  {
   "cell_type": "code",
   "execution_count": 33,
   "outputs": [
    {
     "data": {
      "text/plain": "     county_code precinct_id     precinct_name\n64           058          35    35 JOHNS CREEK\n1381         058          04      04 CHESTATEE\n1472         058          36        36 NICHOLS\n1683         058          19    19 OLD ATLANTA\n1780         058          02     02 BRANDYWINE\n1798         058          34         34 FOWLER\n1801         058          01      01 BIG CREEK\n1802         058          21  21 SOUTH FORSYTH\n1803         058          29           29 POLO\n1804         058          10         10 MIDWAY\n1805         058          15    15 HEARDSVILLE\n1806         058          37         37 SAWNEE\n1807         058          27        27 CONCORD\n1826         058          25     25 WINDERMERE\n1827         058          07        07 CUMMING\n1828         058          08       08 MASHBURN\n1847         058          06     06 CROSSROADS\n2493         058          16         16 OTWELL\n2494         058          05  05 COAL MOUNTAIN\n2495         058          03  03 BROWNS BRIDGE",
      "text/html": "<div>\n<style scoped>\n    .dataframe tbody tr th:only-of-type {\n        vertical-align: middle;\n    }\n\n    .dataframe tbody tr th {\n        vertical-align: top;\n    }\n\n    .dataframe thead th {\n        text-align: right;\n    }\n</style>\n<table border=\"1\" class=\"dataframe\">\n  <thead>\n    <tr style=\"text-align: right;\">\n      <th></th>\n      <th>county_code</th>\n      <th>precinct_id</th>\n      <th>precinct_name</th>\n    </tr>\n  </thead>\n  <tbody>\n    <tr>\n      <th>64</th>\n      <td>058</td>\n      <td>35</td>\n      <td>35 JOHNS CREEK</td>\n    </tr>\n    <tr>\n      <th>1381</th>\n      <td>058</td>\n      <td>04</td>\n      <td>04 CHESTATEE</td>\n    </tr>\n    <tr>\n      <th>1472</th>\n      <td>058</td>\n      <td>36</td>\n      <td>36 NICHOLS</td>\n    </tr>\n    <tr>\n      <th>1683</th>\n      <td>058</td>\n      <td>19</td>\n      <td>19 OLD ATLANTA</td>\n    </tr>\n    <tr>\n      <th>1780</th>\n      <td>058</td>\n      <td>02</td>\n      <td>02 BRANDYWINE</td>\n    </tr>\n    <tr>\n      <th>1798</th>\n      <td>058</td>\n      <td>34</td>\n      <td>34 FOWLER</td>\n    </tr>\n    <tr>\n      <th>1801</th>\n      <td>058</td>\n      <td>01</td>\n      <td>01 BIG CREEK</td>\n    </tr>\n    <tr>\n      <th>1802</th>\n      <td>058</td>\n      <td>21</td>\n      <td>21 SOUTH FORSYTH</td>\n    </tr>\n    <tr>\n      <th>1803</th>\n      <td>058</td>\n      <td>29</td>\n      <td>29 POLO</td>\n    </tr>\n    <tr>\n      <th>1804</th>\n      <td>058</td>\n      <td>10</td>\n      <td>10 MIDWAY</td>\n    </tr>\n    <tr>\n      <th>1805</th>\n      <td>058</td>\n      <td>15</td>\n      <td>15 HEARDSVILLE</td>\n    </tr>\n    <tr>\n      <th>1806</th>\n      <td>058</td>\n      <td>37</td>\n      <td>37 SAWNEE</td>\n    </tr>\n    <tr>\n      <th>1807</th>\n      <td>058</td>\n      <td>27</td>\n      <td>27 CONCORD</td>\n    </tr>\n    <tr>\n      <th>1826</th>\n      <td>058</td>\n      <td>25</td>\n      <td>25 WINDERMERE</td>\n    </tr>\n    <tr>\n      <th>1827</th>\n      <td>058</td>\n      <td>07</td>\n      <td>07 CUMMING</td>\n    </tr>\n    <tr>\n      <th>1828</th>\n      <td>058</td>\n      <td>08</td>\n      <td>08 MASHBURN</td>\n    </tr>\n    <tr>\n      <th>1847</th>\n      <td>058</td>\n      <td>06</td>\n      <td>06 CROSSROADS</td>\n    </tr>\n    <tr>\n      <th>2493</th>\n      <td>058</td>\n      <td>16</td>\n      <td>16 OTWELL</td>\n    </tr>\n    <tr>\n      <th>2494</th>\n      <td>058</td>\n      <td>05</td>\n      <td>05 COAL MOUNTAIN</td>\n    </tr>\n    <tr>\n      <th>2495</th>\n      <td>058</td>\n      <td>03</td>\n      <td>03 BROWNS BRIDGE</td>\n    </tr>\n  </tbody>\n</table>\n</div>"
     },
     "execution_count": 33,
     "metadata": {},
     "output_type": "execute_result"
    }
   ],
   "source": [
    "df_p[df_p.county_code=='058']"
   ],
   "metadata": {
    "collapsed": false,
    "pycharm": {
     "name": "#%%\n"
    }
   }
  },
  {
   "cell_type": "code",
   "execution_count": 40,
   "outputs": [
    {
     "data": {
      "text/plain": "     county_name county_code                   precinct_name precinct_id\n142      BALDWIN         005                     WEST THOMAS         NaN\n138      BALDWIN         005                       SCOTTBORO         NaN\n135      BALDWIN         005                      MERIWETHER         NaN\n1604       BRYAN         015                  NEW BEGINNINGS         NaN\n1606       BRYAN         015                  RH REC COMPLEX         NaN\n...          ...         ...                             ...         ...\n563         WARE         148   408 - MILLWOOD BAPTIST CHURCH         NaN\n557         WARE         148  304 - WARE BOE LEARNING CENTER         NaN\n124        WHITE         154               ROBERTSTOWN-HELEN         NaN\n2184      WILKES         157              YOUNG FAMER'S BLDG         NaN\n2182      WILKES         157           SENIOR CITIZEN CENTER         NaN\n\n[472 rows x 4 columns]",
      "text/html": "<div>\n<style scoped>\n    .dataframe tbody tr th:only-of-type {\n        vertical-align: middle;\n    }\n\n    .dataframe tbody tr th {\n        vertical-align: top;\n    }\n\n    .dataframe thead th {\n        text-align: right;\n    }\n</style>\n<table border=\"1\" class=\"dataframe\">\n  <thead>\n    <tr style=\"text-align: right;\">\n      <th></th>\n      <th>county_name</th>\n      <th>county_code</th>\n      <th>precinct_name</th>\n      <th>precinct_id</th>\n    </tr>\n  </thead>\n  <tbody>\n    <tr>\n      <th>142</th>\n      <td>BALDWIN</td>\n      <td>005</td>\n      <td>WEST THOMAS</td>\n      <td>NaN</td>\n    </tr>\n    <tr>\n      <th>138</th>\n      <td>BALDWIN</td>\n      <td>005</td>\n      <td>SCOTTBORO</td>\n      <td>NaN</td>\n    </tr>\n    <tr>\n      <th>135</th>\n      <td>BALDWIN</td>\n      <td>005</td>\n      <td>MERIWETHER</td>\n      <td>NaN</td>\n    </tr>\n    <tr>\n      <th>1604</th>\n      <td>BRYAN</td>\n      <td>015</td>\n      <td>NEW BEGINNINGS</td>\n      <td>NaN</td>\n    </tr>\n    <tr>\n      <th>1606</th>\n      <td>BRYAN</td>\n      <td>015</td>\n      <td>RH REC COMPLEX</td>\n      <td>NaN</td>\n    </tr>\n    <tr>\n      <th>...</th>\n      <td>...</td>\n      <td>...</td>\n      <td>...</td>\n      <td>...</td>\n    </tr>\n    <tr>\n      <th>563</th>\n      <td>WARE</td>\n      <td>148</td>\n      <td>408 - MILLWOOD BAPTIST CHURCH</td>\n      <td>NaN</td>\n    </tr>\n    <tr>\n      <th>557</th>\n      <td>WARE</td>\n      <td>148</td>\n      <td>304 - WARE BOE LEARNING CENTER</td>\n      <td>NaN</td>\n    </tr>\n    <tr>\n      <th>124</th>\n      <td>WHITE</td>\n      <td>154</td>\n      <td>ROBERTSTOWN-HELEN</td>\n      <td>NaN</td>\n    </tr>\n    <tr>\n      <th>2184</th>\n      <td>WILKES</td>\n      <td>157</td>\n      <td>YOUNG FAMER'S BLDG</td>\n      <td>NaN</td>\n    </tr>\n    <tr>\n      <th>2182</th>\n      <td>WILKES</td>\n      <td>157</td>\n      <td>SENIOR CITIZEN CENTER</td>\n      <td>NaN</td>\n    </tr>\n  </tbody>\n</table>\n<p>472 rows × 4 columns</p>\n</div>"
     },
     "execution_count": 40,
     "metadata": {},
     "output_type": "execute_result"
    }
   ],
   "source": [
    "x = x.sort_values(['county_name'])\n",
    "x"
   ],
   "metadata": {
    "collapsed": false,
    "pycharm": {
     "name": "#%%\n"
    }
   }
  },
  {
   "cell_type": "code",
   "execution_count": null,
   "outputs": [],
   "source": [],
   "metadata": {
    "collapsed": false,
    "pycharm": {
     "name": "#%%\n"
    }
   }
  }
 ],
 "metadata": {
  "kernelspec": {
   "display_name": "Python 3",
   "language": "python",
   "name": "python3"
  },
  "language_info": {
   "codemirror_mode": {
    "name": "ipython",
    "version": 2
   },
   "file_extension": ".py",
   "mimetype": "text/x-python",
   "name": "python",
   "nbconvert_exporter": "python",
   "pygments_lexer": "ipython2",
   "version": "2.7.6"
  }
 },
 "nbformat": 4,
 "nbformat_minor": 0
}