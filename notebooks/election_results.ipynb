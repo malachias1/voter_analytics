{
 "cells": [
  {
   "cell_type": "code",
   "execution_count": 53,
   "outputs": [
    {
     "name": "stdout",
     "output_type": "stream",
     "text": [
      "The autoreload extension is already loaded. To reload it, use:\n",
      "  %reload_ext autoreload\n"
     ]
    }
   ],
   "source": [
    "import pandas as pd\n",
    "import numpy as np\n",
    "from pathlib import Path\n",
    "%load_ext autoreload\n",
    "%autoreload 2"
   ],
   "metadata": {
    "collapsed": false,
    "pycharm": {
     "name": "#%%\n"
    }
   }
  },
  {
   "cell_type": "code",
   "execution_count": 54,
   "outputs": [],
   "source": [
    "from data.election_results_ingest import IngestElectionResults\n",
    "from data.voterdb import VoterDb"
   ],
   "metadata": {
    "collapsed": false,
    "pycharm": {
     "name": "#%%\n"
    }
   }
  },
  {
   "cell_type": "code",
   "execution_count": 58,
   "outputs": [],
   "source": [
    "root_dir = '~/Documents/data'\n",
    "ier = IngestElectionResults(root_dir)\n",
    "vdb = VoterDb(root_dir)"
   ],
   "metadata": {
    "collapsed": false,
    "pycharm": {
     "name": "#%%\n"
    }
   }
  },
  {
   "cell_type": "code",
   "execution_count": 59,
   "outputs": [],
   "source": [
    "p = Path('../election_results_download')"
   ],
   "metadata": {
    "collapsed": false,
    "pycharm": {
     "name": "#%%\n"
    }
   }
  },
  {
   "cell_type": "code",
   "execution_count": 64,
   "outputs": [
    {
     "name": "stdout",
     "output_type": "stream",
     "text": [
      "../election_results_download/Troup_2022_05_24.xml\n",
      "../election_results_download/Webster_2022_05_24.xml\n",
      "../election_results_download/Charlton_2022_05_24.xml\n",
      "../election_results_download/Floyd_2022_05_24.xml\n",
      "../election_results_download/Taylor_2022_05_24.xml\n",
      "../election_results_download/Calhoun_2022_05_24.xml\n",
      "../election_results_download/Douglas_2022_05_24.xml\n",
      "../election_results_download/Forsyth_2022_05_24.xml\n",
      "../election_results_download/Pulaski_2022_05_24.xml\n",
      "../election_results_download/Quitman_2022_05_24.xml\n",
      "../election_results_download/Appling_2022_05_24.xml\n",
      "../election_results_download/White_2022_05_24.xml\n",
      "../election_results_download/Baldwin_2022_05_24.xml\n",
      "../election_results_download/Pike_2022_05_24.xml\n",
      "../election_results_download/Echols_2022_05_24.xml\n",
      "../election_results_download/Haralson_2022_05_24.xml\n",
      "../election_results_download/Emanuel_2022_05_24.xml\n",
      "../election_results_download/Stephens_2022_05_24.xml\n",
      "../election_results_download/Bartow_2022_05_24.xml\n",
      "../election_results_download/Dodge_2022_05_24.xml\n",
      "../election_results_download/Tattnall_2022_05_24.xml\n",
      "../election_results_download/Habersham_2022_05_24.xml\n",
      "../election_results_download/Meriwether_2022_05_24.xml\n",
      "../election_results_download/Evans_2022_05_24.xml\n",
      "../election_results_download/Fayette_2022_05_24.xml\n",
      "../election_results_download/Worth_2022_05_24.xml\n",
      "../election_results_download/Franklin_2022_05_24.xml\n",
      "../election_results_download/Effingham_2022_05_24.xml\n",
      "../election_results_download/Heard_2022_05_24.xml\n",
      "../election_results_download/Coffee_2022_05_24.xml\n",
      "../election_results_download/Cobb_2022_05_24.xml\n",
      "../election_results_download/Seminole_2022_05_24.xml\n",
      "../election_results_download/Randolph_2022_05_24.xml\n",
      "../election_results_download/Jones_2022_05_24.xml\n",
      "../election_results_download/McIntosh_2022_05_24.xml\n",
      "../election_results_download/Houston_2022_05_24.xml\n",
      "../election_results_download/Clarke_2022_05_24.xml\n",
      "../election_results_download/Peach_2022_05_24.xml\n",
      "../election_results_download/Brooks_2022_05_24.xml\n",
      "../election_results_download/Ware_2022_05_24.xml\n",
      "../election_results_download/Lanier_2022_05_24.xml\n",
      "../election_results_download/Whitfield_2022_05_24.xml\n",
      "../election_results_download/Toombs_2022_05_24.xml\n",
      "../election_results_download/Bacon_2022_05_24.xml\n",
      "../election_results_download/Chattahoochee_2022_05_24.xml\n",
      "../election_results_download/Screven_2022_05_24.xml\n",
      "../election_results_download/Twiggs_2022_05_24.xml\n",
      "../election_results_download/Miller_2022_05_24.xml\n",
      "../election_results_download/Morgan_2022_05_24.xml\n",
      "../election_results_download/Dawson_2022_05_24.xml\n",
      "../election_results_download/Gilmer_2022_05_24.xml\n",
      "../election_results_download/Paulding_2022_05_24.xml\n",
      "../election_results_download/Newton_2022_05_24.xml\n",
      "../election_results_download/Dade_2022_05_24.xml\n",
      "../election_results_download/Brantley_2022_05_24.xml\n",
      "../election_results_download/Oglethorpe_2022_05_24.xml\n",
      "../election_results_download/Carroll_2022_05_24.xml\n",
      "../election_results_download/Stewart_2022_05_24.xml\n",
      "../election_results_download/Richmond_2022_05_24.xml\n",
      "../election_results_download/Clinch_2022_05_24.xml\n",
      "../election_results_download/Taliaferro_2022_05_24.xml\n",
      "../election_results_download/Tift_2022_05_24.xml\n",
      "../election_results_download/Grady_2022_05_24.xml\n",
      "../election_results_download/Jenkins_2022_05_24.xml\n",
      "../election_results_download/Marion_2022_05_24.xml\n",
      "../election_results_download/Bleckley_2022_05_24.xml\n",
      "../election_results_download/Decatur_2022_05_24.xml\n",
      "../election_results_download/Monroe_2022_05_24.xml\n",
      "../election_results_download/Wilkinson_2022_05_24.xml\n",
      "../election_results_download/Camden_2022_05_24.xml\n",
      "../election_results_download/Lee_2022_05_24.xml\n",
      "../election_results_download/Dooly_2022_05_24.xml\n",
      "../election_results_download/Pierce_2022_05_24.xml\n",
      "../election_results_download/Long_2022_05_24.xml\n",
      "../election_results_download/Burke_2022_05_24.xml\n",
      "../election_results_download/Jefferson_2022_05_24.xml\n",
      "../election_results_download/Jackson_2022_05_24.xml\n",
      "../election_results_download/Gwinnett_2022_05_24.xml\n",
      "../election_results_download/Sumter_2022_05_24.xml\n",
      "../election_results_download/Hart_2022_05_24.xml\n",
      "../election_results_download/Johnson_2022_05_24.xml\n",
      "../election_results_download/Telfair_2022_05_24.xml\n",
      "../election_results_download/Putnam_2022_05_24.xml\n",
      "../election_results_download/Oconee_2022_05_24.xml\n",
      "../election_results_download/Rabun_2022_05_24.xml\n",
      "../election_results_download/Pickens_2022_05_24.xml\n",
      "../election_results_download/Lincoln_2022_05_24.xml\n",
      "../election_results_download/Baker_2022_05_24.xml\n",
      "../election_results_download/Fulton_2022_05_24.xml\n",
      "../election_results_download/Bryan_2022_05_24.xml\n",
      "../election_results_download/Macon_2022_05_24.xml\n",
      "../election_results_download/Colquitt_2022_05_24.xml\n",
      "../election_results_download/Elbert_2022_05_24.xml\n",
      "../election_results_download/Dougherty_2022_05_24.xml\n",
      "../election_results_download/Glascock_2022_05_24.xml\n",
      "../election_results_download/Lamar_2022_05_24.xml\n",
      "../election_results_download/Union_2022_05_24.xml\n",
      "../election_results_download/Walton_2022_05_24.xml\n",
      "../election_results_download/Banks_2022_05_24.xml\n",
      "../election_results_download/Hall_2022_05_24.xml\n",
      "../election_results_download/Walker_2022_05_24.xml\n",
      "../election_results_download/Greene_2022_05_24.xml\n",
      "../election_results_download/Irwin_2022_05_24.xml\n",
      "../election_results_download/Bibb_2022_05_24.xml\n",
      "../election_results_download/Towns_2022_05_24.xml\n",
      "../election_results_download/Gordon_2022_05_24.xml\n",
      "../election_results_download/Polk_2022_05_24.xml\n",
      "../election_results_download/Ben_Hill_2022_05_24.xml\n",
      "../election_results_download/Barrow_2022_05_24.xml\n",
      "../election_results_download/Coweta_2022_05_24.xml\n",
      "../election_results_download/Berrien_2022_05_24.xml\n",
      "../election_results_download/Atkinson_2022_05_24.xml\n",
      "../election_results_download/Early_2022_05_24.xml\n",
      "../election_results_download/Columbia_2022_05_24.xml\n",
      "../election_results_download/McDuffie_2022_05_24.xml\n",
      "../election_results_download/Clay_2022_05_24.xml\n",
      "../election_results_download/Wilcox_2022_05_24.xml\n",
      "../election_results_download/Murray_2022_05_24.xml\n",
      "../election_results_download/Butts_2022_05_24.xml\n",
      "../election_results_download/Wheeler_2022_05_24.xml\n",
      "../election_results_download/Lowndes_2022_05_24.xml\n",
      "../election_results_download/Clayton_2022_05_24.xml\n",
      "../election_results_download/Crawford_2022_05_24.xml\n",
      "../election_results_download/Schley_2022_05_24.xml\n",
      "../election_results_download/Washington_2022_05_24.xml\n",
      "../election_results_download/Cook_2022_05_24.xml\n",
      "../election_results_download/Catoosa_2022_05_24.xml\n",
      "../election_results_download/Henry_2022_05_24.xml\n",
      "../election_results_download/Bulloch_2022_05_24.xml\n",
      "../election_results_download/Treutlen_2022_05_24.xml\n",
      "../election_results_download/Glynn_2022_05_24.xml\n",
      "../election_results_download/Chattooga_2022_05_24.xml\n",
      "../election_results_download/Wayne_2022_05_24.xml\n",
      "../election_results_download/Fannin_2022_05_24.xml\n",
      "../election_results_download/Wilkes_2022_05_24.xml\n",
      "../election_results_download/Chatham_2022_05_24.xml\n",
      "../election_results_download/Lumpkin_2022_05_24.xml\n",
      "../election_results_download/Jasper_2022_05_24.xml\n",
      "../election_results_download/Liberty_2022_05_24.xml\n",
      "../election_results_download/Warren_2022_05_24.xml\n",
      "../election_results_download/Hancock_2022_05_24.xml\n",
      "../election_results_download/Candler_2022_05_24.xml\n",
      "../election_results_download/Muscogee_2022_05_24.xml\n",
      "../election_results_download/Montgomery_2022_05_24.xml\n",
      "../election_results_download/Cherokee_2022_05_24.xml\n",
      "../election_results_download/Jeff_Davis_2022_05_24.xml\n",
      "../election_results_download/Talbot_2022_05_24.xml\n",
      "../election_results_download/Mitchell_2022_05_24.xml\n",
      "../election_results_download/Rockdale_2022_05_24.xml\n",
      "../election_results_download/Upson_2022_05_24.xml\n",
      "../election_results_download/Madison_2022_05_24.xml\n",
      "../election_results_download/Harris_2022_05_24.xml\n",
      "../election_results_download/DeKalb_2022_05_24.xml\n",
      "../election_results_download/Turner_2022_05_24.xml\n",
      "../election_results_download/Terrell_2022_05_24.xml\n",
      "../election_results_download/Laurens_2022_05_24.xml\n",
      "../election_results_download/Crisp_2022_05_24.xml\n",
      "../election_results_download/Spalding_2022_05_24.xml\n"
     ]
    }
   ],
   "source": [
    "ier.ingest(p)"
   ],
   "metadata": {
    "collapsed": false,
    "pycharm": {
     "name": "#%%\n"
    }
   }
  },
  {
   "cell_type": "code",
   "execution_count": 48,
   "outputs": [],
   "source": [],
   "metadata": {
    "collapsed": false,
    "pycharm": {
     "name": "#%%\n"
    }
   }
  },
  {
   "cell_type": "code",
   "execution_count": null,
   "outputs": [],
   "source": [],
   "metadata": {
    "collapsed": false,
    "pycharm": {
     "name": "#%%\n"
    }
   }
  }
 ],
 "metadata": {
  "kernelspec": {
   "display_name": "Python 3",
   "language": "python",
   "name": "python3"
  },
  "language_info": {
   "codemirror_mode": {
    "name": "ipython",
    "version": 2
   },
   "file_extension": ".py",
   "mimetype": "text/x-python",
   "name": "python",
   "nbconvert_exporter": "python",
   "pygments_lexer": "ipython2",
   "version": "2.7.6"
  }
 },
 "nbformat": 4,
 "nbformat_minor": 0
}