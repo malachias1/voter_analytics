{
 "cells": [
  {
   "cell_type": "code",
   "execution_count": 1,
   "metadata": {
    "collapsed": true,
    "pycharm": {
     "name": "#%%\n"
    }
   },
   "outputs": [],
   "source": [
    "%load_ext autoreload\n",
    "%autoreload 2"
   ]
  },
  {
   "cell_type": "code",
   "execution_count": 2,
   "outputs": [],
   "source": [
    "from segmentation.voter_segmentation import VoterSegmentation"
   ],
   "metadata": {
    "collapsed": false,
    "pycharm": {
     "name": "#%%\n"
    }
   }
  },
  {
   "cell_type": "code",
   "execution_count": 3,
   "outputs": [],
   "source": [
    "root_dir = '~/Documents/data'\n",
    "vs = VoterSegmentation(root_dir)"
   ],
   "metadata": {
    "collapsed": false,
    "pycharm": {
     "name": "#%%\n"
    }
   }
  },
  {
   "cell_type": "code",
   "execution_count": 41,
   "outputs": [
    {
     "name": "stdout",
     "output_type": "stream",
     "text": [
      "Gather time: 124.8\n",
      "County Info Time: 18.0\n",
      "First/Last Time: 33.5\n",
      "Add Missing Records Time: 142.6\n",
      "Pivot Time: 187.9\n",
      "Add County Time: 25.0\n",
      "Total Gather History Time: 532.4\n",
      "Drop Table Time: 0.3\n",
      "Create Table Time: 0.0\n",
      "Insert History Time: 167.7\n",
      "Create Index Time: 2.9\n"
     ]
    }
   ],
   "source": [
    "vs.rebuild_history()"
   ],
   "metadata": {
    "collapsed": false,
    "pycharm": {
     "name": "#%%\n"
    }
   }
  },
  {
   "cell_type": "markdown",
   "source": [],
   "metadata": {
    "collapsed": false,
    "pycharm": {
     "name": "#%% md\n"
    }
   }
  },
  {
   "cell_type": "code",
   "execution_count": 42,
   "outputs": [
    {
     "name": "stdout",
     "output_type": "stream",
     "text": [
      "Load Voter History Summary Time: 28.3\n",
      "Compute Ops Time: 1586.5\n",
      "Compute max_ballots_cast Time: 5.6\n",
      "Compute ballots_cast Time: 29.5\n",
      "Compute gn_max Time: 28.1\n",
      "Compute pn_max Time: 28.2\n",
      "Compute gn Time: 24.3\n",
      "Compute rn Time: 25.0\n",
      "Compute dn Time: 24.7\n",
      "Compute gr Time: 4.9\n",
      "Compute pr Time: 4.6\n",
      "Compute ra Time: 4.6\n",
      "Reorder Time: 4.7\n",
      "Score Voter Time: 1799.1\n",
      "Insert Score Time: 129.4\n",
      "Create Index Time: 2.7\n"
     ]
    }
   ],
   "source": [
    "vs.rebuild_voter_score()"
   ],
   "metadata": {
    "collapsed": false,
    "pycharm": {
     "name": "#%%\n"
    }
   }
  },
  {
   "cell_type": "code",
   "execution_count": null,
   "outputs": [],
   "source": [],
   "metadata": {
    "collapsed": false,
    "pycharm": {
     "name": "#%%\n"
    }
   }
  }
 ],
 "metadata": {
  "kernelspec": {
   "display_name": "Python 3",
   "language": "python",
   "name": "python3"
  },
  "language_info": {
   "codemirror_mode": {
    "name": "ipython",
    "version": 2
   },
   "file_extension": ".py",
   "mimetype": "text/x-python",
   "name": "python",
   "nbconvert_exporter": "python",
   "pygments_lexer": "ipython2",
   "version": "2.7.6"
  }
 },
 "nbformat": 4,
 "nbformat_minor": 0
}