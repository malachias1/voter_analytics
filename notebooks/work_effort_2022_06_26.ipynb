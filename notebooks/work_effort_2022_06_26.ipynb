{
 "cells": [
  {
   "cell_type": "markdown",
   "source": [
    "# Analyze Gonsalves Race\n",
    "\n",
    "Question 1: How many voters participated in the runoff."
   ],
   "metadata": {
    "collapsed": false,
    "pycharm": {
     "name": "#%% md\n"
    }
   }
  },
  {
   "cell_type": "code",
   "execution_count": 1,
   "outputs": [],
   "source": [
    "import pandas as pd\n",
    "%load_ext autoreload\n",
    "%autoreload 2"
   ],
   "metadata": {
    "collapsed": false,
    "pycharm": {
     "name": "#%%\n"
    }
   }
  },
  {
   "cell_type": "code",
   "execution_count": 2,
   "outputs": [],
   "source": [
    "from maps.blockgroups import MedianIncome\n",
    "from maps.elections import USHouseElectionResult\n",
    "import folium"
   ],
   "metadata": {
    "collapsed": false,
    "pycharm": {
     "name": "#%%\n"
    }
   }
  },
  {
   "cell_type": "code",
   "execution_count": 11,
   "outputs": [],
   "source": [
    "root_dir = '~/Documents/data'\n",
    "election_result_primary = USHouseElectionResult(root_dir, '20220524', '007')\n",
    "election_result_runoff = USHouseElectionResult(root_dir, '20220621', '007')"
   ],
   "metadata": {
    "collapsed": false,
    "pycharm": {
     "name": "#%%\n"
    }
   }
  },
  {
   "cell_type": "code",
   "execution_count": 20,
   "outputs": [],
   "source": [
    "primary_voter_history = election_result_primary.voter_history\n",
    "primary_voter_history = primary_voter_history[primary_voter_history.party=='R']\n",
    "\n",
    "runoff_voter_history = election_result_runoff.voter_history\n",
    "runoff_voter_history = runoff_voter_history[runoff_voter_history.party=='R']"
   ],
   "metadata": {
    "collapsed": false,
    "pycharm": {
     "name": "#%%\n"
    }
   }
  },
  {
   "cell_type": "code",
   "execution_count": 21,
   "outputs": [],
   "source": [
    "runoff_voters = set(runoff_voter_history.voter_id.unique())\n",
    "primary_voters = set(primary_voter_history.voter_id.unique())\n",
    "new_voters = runoff_voters - primary_voters"
   ],
   "metadata": {
    "collapsed": false,
    "pycharm": {
     "name": "#%%\n"
    }
   }
  },
  {
   "cell_type": "code",
   "execution_count": null,
   "outputs": [],
   "source": [],
   "metadata": {
    "collapsed": false,
    "pycharm": {
     "name": "#%%\n"
    }
   }
  }
 ],
 "metadata": {
  "kernelspec": {
   "display_name": "Python 3",
   "language": "python",
   "name": "python3"
  },
  "language_info": {
   "codemirror_mode": {
    "name": "ipython",
    "version": 2
   },
   "file_extension": ".py",
   "mimetype": "text/x-python",
   "name": "python",
   "nbconvert_exporter": "python",
   "pygments_lexer": "ipython2",
   "version": "2.7.6"
  }
 },
 "nbformat": 4,
 "nbformat_minor": 0
}