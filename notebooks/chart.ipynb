{
 "cells": [
  {
   "cell_type": "code",
   "execution_count": 1,
   "outputs": [],
   "source": [
    "import pandas as pd\n",
    "%load_ext autoreload\n",
    "%autoreload 2"
   ],
   "metadata": {
    "collapsed": false,
    "pycharm": {
     "name": "#%%\n"
    }
   }
  },
  {
   "cell_type": "code",
   "execution_count": 2,
   "outputs": [],
   "source": [
    "import django\n",
    "import os\n",
    "\n",
    "os.environ['DJANGO_SETTINGS_MODULE'] = 'dashboard.settings'\n",
    "os.environ[\"DJANGO_ALLOW_ASYNC_UNSAFE\"] = \"true\"\n",
    "django.setup()"
   ],
   "metadata": {
    "collapsed": false,
    "pycharm": {
     "name": "#%%\n"
    }
   }
  },
  {
   "cell_type": "code",
   "execution_count": 3,
   "outputs": [],
   "source": [
    "from analysis.models import PrimaryTrendsChart\n",
    "from hse_map.models import HseMap\n",
    "from voter.models import ListEdition\n",
    "from datetime import datetime"
   ],
   "metadata": {
    "collapsed": false,
    "pycharm": {
     "name": "#%%\n"
    }
   }
  },
  {
   "cell_type": "code",
   "execution_count": 4,
   "outputs": [],
   "source": [
    "# hd54 = HseMap.objects.get(district='054')\n",
    "# ptc = PrimaryTrendsChart(hd54, '../resources/map_config/hd54_primary_trends.json')\n",
    "# fig54 = ptc.chart\n",
    "# fig54.write_html('../workproducts/hd54_primary_trend_analysis.html')"
   ],
   "metadata": {
    "collapsed": false,
    "pycharm": {
     "name": "#%%\n"
    }
   }
  },
  {
   "cell_type": "code",
   "execution_count": 5,
   "outputs": [],
   "source": [
    "# edition_date = datetime.strptime('2022-08-05', '%Y-%m-%d')\n",
    "# edition = ListEdition.objects.get(date=edition_date)\n",
    "# hd51 = HseMap.objects.get(district='051')\n",
    "# hd51.edition = edition\n",
    "# ptc = PrimaryTrendsChart(hd51, '../resources/fig_config/hd51/primary_trends.json')\n",
    "# fig51 = ptc.chart\n",
    "# fig51.write_html('../workproducts/hd51/primary_trend_analysis.html')"
   ],
   "metadata": {
    "collapsed": false,
    "pycharm": {
     "name": "#%%\n"
    }
   }
  },
  {
   "cell_type": "code",
   "execution_count": 6,
   "outputs": [],
   "source": [
    "edition_date = datetime.strptime('2022-08-05', '%Y-%m-%d')\n",
    "edition = ListEdition.objects.get(date=edition_date)\n",
    "hd54 = HseMap.objects.get(district='054')\n",
    "hd54.edition = edition\n",
    "ptc = PrimaryTrendsChart(hd54, '../resources/fig_config/hd54/primary_trends.json')\n",
    "fig54 = ptc.chart\n",
    "fig54.write_html('../workproducts/hd54/primary_trend_analysis.html')"
   ],
   "metadata": {
    "collapsed": false,
    "pycharm": {
     "name": "#%%\n"
    }
   }
  }
 ],
 "metadata": {
  "kernelspec": {
   "display_name": "Python 3",
   "language": "python",
   "name": "python3"
  },
  "language_info": {
   "codemirror_mode": {
    "name": "ipython",
    "version": 2
   },
   "file_extension": ".py",
   "mimetype": "text/x-python",
   "name": "python",
   "nbconvert_exporter": "python",
   "pygments_lexer": "ipython2",
   "version": "2.7.6"
  }
 },
 "nbformat": 4,
 "nbformat_minor": 0
}