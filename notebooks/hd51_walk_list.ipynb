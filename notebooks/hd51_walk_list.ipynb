{
 "cells": [
  {
   "cell_type": "code",
   "execution_count": 2,
   "outputs": [],
   "source": [
    "import pandas as pd\n",
    "%load_ext autoreload\n",
    "%autoreload 2"
   ],
   "metadata": {
    "collapsed": false,
    "pycharm": {
     "name": "#%%\n"
    }
   }
  },
  {
   "cell_type": "code",
   "execution_count": 3,
   "outputs": [],
   "source": [
    "import django\n",
    "import os\n",
    "\n",
    "os.environ['DJANGO_SETTINGS_MODULE'] = 'dashboard.settings'\n",
    "os.environ[\"DJANGO_ALLOW_ASYNC_UNSAFE\"] = \"true\"\n",
    "django.setup()"
   ],
   "metadata": {
    "collapsed": false,
    "pycharm": {
     "name": "#%%\n"
    }
   }
  },
  {
   "cell_type": "code",
   "execution_count": 4,
   "outputs": [],
   "source": [
    "columns = [\n",
    "    \"voter_id\",\n",
    "    \"contacted\",\n",
    "    \"supporter\",\n",
    "    \"yardisgn\",\n",
    "    \"county_code\",\n",
    "    \"county_name\",\n",
    "    \"last_name\",\n",
    "    \"first_name\",\n",
    "    \"middle_maiden_name\",\n",
    "    \"name_suffix\",\n",
    "    \"race\",\n",
    "    \"gender\",\n",
    "    \"birthdate\",\n",
    "    \"dob\",\n",
    "    \"residence_house_number\",\n",
    "    \"residence_street_name\",\n",
    "    \"residence_apt_unit_nbr\",\n",
    "    \"residence_city\",\n",
    "    \"residence_zipcode\",\n",
    "    \"county_precinct_id\",\n",
    "    \"congressional_district\",\n",
    "    \"senate_district\",\n",
    "    \"house_district\",\n",
    "    \"judicial_district\",\n",
    "    \"commission_district\",\n",
    "    \"landline_number\",\n",
    "    \"cellphone_number\",\n",
    "    \"gopdel\",\n",
    "    \"prespref16\",\n",
    "    \"genpri16\",\n",
    "    \"genpri16run\",\n",
    "    \"gen16\",\n",
    "    \"sp18\",\n",
    "    \"pri18\",\n",
    "    \"pri18aory\",\n",
    "    \"prirunoff18\",\n",
    "    \"prirunoff18ay\",\n",
    "    \"gen18\",\n",
    "    \"gen18ro\",\n",
    "    \"novmu19\",\n",
    "    \"decmurunoff19\",\n",
    "    \"sp19\",\n",
    "    \"sprunoff19\",\n",
    "    \"sp20\",\n",
    "    \"prespref20\",\n",
    "    \"prespref20abs\",\n",
    "    \"prim20\",\n",
    "    \"prim20abs\",\n",
    "    \"prirunoff20\",\n",
    "    \"prirunoff20abs\",\n",
    "    \"gen20\",\n",
    "    \"genrunoff21\",\n",
    "    \"sp21\",\n",
    "    \"munov21\",\n",
    "    \"murunoff21\",\n",
    "    \"spec22\",\n",
    "    \"pri22\",\n",
    "    \"pri22abs\",\n",
    "    \"prirunoff2022\",\n",
    "    \"prirunoff2022abs\",\n",
    "    \"registrationaddresslatitude\",\n",
    "    \"registrationaddresslongitude\"\n",
    "]\n",
    "\n",
    "dtypes = {\n",
    "    \"voter_id\": str,\n",
    "    \"contacted\": str,\n",
    "    \"supporter\": str,\n",
    "    \"yardisgn\": str,\n",
    "    \"county_code\": str,\n",
    "    \"county_name\": str,\n",
    "    \"last_name\": str,\n",
    "    \"first_name\": str,\n",
    "    \"middle_maiden_name\": str,\n",
    "    \"name_suffix\": str,\n",
    "    \"race\": str,\n",
    "    \"gender\": str,\n",
    "    \"birthdate\": int,\n",
    "    \"dob\": str,\n",
    "    \"residence_house_number\": str,\n",
    "    \"residence_street_name\": str,\n",
    "    \"residence_apt_unit_nbr\": str,\n",
    "    \"residence_city\": str,\n",
    "    \"residence_zipcode\": str,\n",
    "    \"county_precinct_id\": str,\n",
    "    \"congressional_district\": str,\n",
    "    \"senate_district\": str,\n",
    "    \"house_district\": str,\n",
    "    \"judicial_district\": str,\n",
    "    \"commission_district\": str,\n",
    "    \"landline_number\": str,\n",
    "    \"cellphone_number\": str,\n",
    "    \"gopdel\": str,\n",
    "    \"prespref16\": str,\n",
    "    \"genpri16\": str,\n",
    "    \"genpri16run\": str,\n",
    "    \"gen16\": str,\n",
    "    \"sp18\": str,\n",
    "    \"pri18\": str,\n",
    "    \"pri18aory\": str,\n",
    "    \"prirunoff18\": str,\n",
    "    \"prirunoff18ay\": str,\n",
    "    \"gen18\": str,\n",
    "    \"gen18ro\": str,\n",
    "    \"novmu19\": str,\n",
    "    \"decmurunoff19\": str,\n",
    "    \"sp19\": str,\n",
    "    \"sprunoff19\": str,\n",
    "    \"sp20\": str,\n",
    "    \"prespref20\": str,\n",
    "    \"prespref20abs\": str,\n",
    "    \"prim20\": str,\n",
    "    \"prim20abs\": str,\n",
    "    \"prirunoff20\": str,\n",
    "    \"prirunoff20abs\": str,\n",
    "    \"gen20\": str,\n",
    "    \"genrunoff21\": str,\n",
    "    \"sp21\": str,\n",
    "    \"munov21\": str,\n",
    "    \"murunoff21\": str,\n",
    "    \"spec22\": str,\n",
    "    \"pri22\": str,\n",
    "    \"pri22abs\": str,\n",
    "    \"prirunoff2022\": str,\n",
    "    \"prirunoff2022abs\": str,\n",
    "    \"registrationaddresslatitude\": str,\n",
    "    \"registrationaddresslongitude\": str\n",
    "}"
   ],
   "metadata": {
    "collapsed": false,
    "pycharm": {
     "name": "#%%\n"
    }
   }
  },
  {
   "cell_type": "code",
   "execution_count": 5,
   "outputs": [],
   "source": [
    "\n",
    "wl = pd.read_csv('../resources/hd51/walk_list_2022-8-3.csv', names=columns, dtype=dtypes)"
   ],
   "metadata": {
    "collapsed": false,
    "pycharm": {
     "name": "#%%\",\",\n"
    }
   }
  },
  {
   "cell_type": "code",
   "execution_count": 6,
   "outputs": [],
   "source": [
    "def fix_voter_id(voter_id):\n",
    "    return f'{int(voter_id):08d}'\n",
    "\n",
    "\n",
    "def fix_county_code(county_code):\n",
    "    return f'{int(county_code):03d}'\n",
    "\n",
    "\n",
    "def fix_float(value):\n",
    "    return float(value) if len(value.strip()) > 0 else None\n",
    "\n",
    "\n",
    "def strip_column(value):\n",
    "    return value.strip()\n",
    "\n",
    "\n",
    "wl = wl.assign(voter_id=wl.voter_id.apply(fix_voter_id),\n",
    "               lat=wl.registrationaddresslatitude.apply(fix_float),\n",
    "               lon=wl.registrationaddresslongitude.apply(fix_float),\n",
    "               county_code=wl.county_code.apply(fix_county_code),\n",
    "               residence_apt_unit_nbr=wl.residence_apt_unit_nbr.apply(strip_column))\n"
   ],
   "metadata": {
    "collapsed": false,
    "pycharm": {
     "name": "#%%\n"
    }
   }
  },
  {
   "cell_type": "code",
   "execution_count": 52,
   "outputs": [],
   "source": [
    "import plotly.express as px\n",
    "from segmentation.utils import categorize_age\n",
    "import geopandas as gdf\n",
    "from hse_map.models import HseMap\n",
    "from voter.models import ListEdition\n",
    "from datetime import datetime"
   ],
   "metadata": {
    "collapsed": false,
    "pycharm": {
     "name": "#%%\n"
    }
   }
  },
  {
   "cell_type": "code",
   "execution_count": 85,
   "outputs": [],
   "source": [
    "wl = wl.assign(gen=categorize_age(wl.birthdate))\n",
    "wl_gdf = gdf.GeoDataFrame(wl, geometry=gdf.points_from_xy(wl.lon, wl.lat), crs=HseMap.CRS_LAT_LON)"
   ],
   "metadata": {
    "collapsed": false,
    "pycharm": {
     "name": "#%%\n"
    }
   }
  },
  {
   "cell_type": "code",
   "execution_count": 53,
   "outputs": [],
   "source": [
    "edition_date = datetime.strptime('2022-08-05', '%Y-%m-%d')\n",
    "edition = ListEdition.objects.get(date=edition_date)\n",
    "hd51 = HseMap.objects.get(district='051')\n",
    "hd51.edition = edition\n",
    "hd51_map = hd51.as_geodataframe\n",
    "hd51_vtd = hd51.district_vtd_map"
   ],
   "metadata": {
    "collapsed": false,
    "pycharm": {
     "name": "#%%\n"
    }
   }
  },
  {
   "cell_type": "code",
   "execution_count": null,
   "outputs": [],
   "source": [
    "hd51_vtd.head()"
   ],
   "metadata": {
    "collapsed": false,
    "pycharm": {
     "name": "#%%\n",
     "is_executing": true
    }
   }
  },
  {
   "cell_type": "code",
   "execution_count": null,
   "outputs": [],
   "source": [
    "hd51_map.sindex.valid_query_predicates"
   ],
   "metadata": {
    "collapsed": false,
    "pycharm": {
     "name": "#%%\n",
     "is_executing": true
    }
   }
  },
  {
   "cell_type": "code",
   "execution_count": null,
   "outputs": [],
   "source": [
    "wl_hd51_overlay = wl_gdf.overlay(hd51_vtd, how='union', keep_geom_type=False)\n",
    "wl_hd51_inside = wl_gdf.sjoin(hd51_map, how='inner')\n",
    "wl_hd51_outside = wl[~wl.voter_id.isin(wl_hd51_inside.voter_id)]\n",
    "print(f'There are {len(wl_hd51_outside.index)} outside HD51!')"
   ],
   "metadata": {
    "collapsed": false,
    "pycharm": {
     "name": "#%%\n",
     "is_executing": true
    }
   }
  },
  {
   "cell_type": "code",
   "execution_count": null,
   "outputs": [],
   "source": [
    "wl_hd51_overlay.head()"
   ],
   "metadata": {
    "collapsed": false,
    "pycharm": {
     "name": "#%%\n",
     "is_executing": true
    }
   }
  },
  {
   "cell_type": "code",
   "execution_count": 97,
   "outputs": [],
   "source": [
    "def build_hover_text(row):\n",
    "    return f\"\"\"\n",
    "    <b>{row.county_precinct_id}</b><br>\n",
    "    {row.first_name} {row.last_name}<br>\n",
    "    {row.residence_house_number} {row.residence_street_name} {row.residence_apt_unit_nbr}<br>\n",
    "    {row.residence_city} {row.residence_zipcode}<extra></extra>\n",
    "    \"\"\""
   ],
   "metadata": {
    "collapsed": false,
    "pycharm": {
     "name": "#%%\n"
    }
   }
  },
  {
   "cell_type": "code",
   "execution_count": null,
   "outputs": [],
   "source": [
    "wl_gdf = wl_gdf.assign(hover_text=wl_gdf.apply(build_hover_text, axis=1))\n",
    "wl_gdf.shape"
   ],
   "metadata": {
    "collapsed": false,
    "pycharm": {
     "name": "#%%\n",
     "is_executing": true
    }
   }
  },
  {
   "cell_type": "code",
   "execution_count": 104,
   "outputs": [],
   "source": [
    "from core.models import BaseFig, PartyTallyMapConfig"
   ],
   "metadata": {
    "collapsed": false,
    "pycharm": {
     "name": "#%%\n"
    }
   }
  },
  {
   "cell_type": "code",
   "execution_count": null,
   "outputs": [],
   "source": [
    "import json\n",
    "\n",
    "fig = px.scatter_mapbox(wl_gdf,\n",
    "                        lat=\"lat\",\n",
    "                        lon=\"lon\",\n",
    "                        color=\"county_precinct_id\",\n",
    "                        labels={'county_precinct_id': 'Precinct'},\n",
    "                        custom_data=['hover_text'],\n",
    "                        hover_data={\n",
    "                            \"county_precinct_id\":True,\n",
    "                            \"hover_text\": True\n",
    "                        })\n",
    "fig.update_layout(\n",
    "    mapbox={\n",
    "        'zoom': 11.5,\n",
    "        \"style\": \"open-street-map\",\n",
    "        \"layers\": [\n",
    "            {\n",
    "                \"source\": json.loads(hd51_map.geometry.to_json()),\n",
    "                \"below\": \"traces\",\n",
    "                \"type\": \"line\",\n",
    "                \"color\": \"purple\",\n",
    "                \"line\": {\"width\": 2},\n",
    "                \"name\": 'district_boundary'\n",
    "            },\n",
    "            {\n",
    "                \"source\": json.loads(hd51_vtd.geometry.to_json()),\n",
    "                \"below\": \"district_boundary\",\n",
    "                \"type\": \"line\",\n",
    "                \"color\": 'black',\n",
    "                \"line\": {\"width\": .75},\n",
    "            }\n",
    "        ],\n",
    "    },\n",
    "    margin={\"l\": 0, \"r\": 0, \"t\": 0, \"b\": 0})\n",
    "\n",
    "fig.update_traces(\n",
    "    hovertemplate='%{customdata[0]}',\n",
    "    hoverinfo=None\n",
    ")\n",
    "\n",
    "BaseFig.add_watermark(fig)\n",
    "\n",
    "config = PartyTallyMapConfig('../resources/fig_config/hd51/summary.json')\n",
    "\n",
    "BaseFig.add_logo(fig, config)"
   ],
   "metadata": {
    "collapsed": false,
    "pycharm": {
     "name": "#%%\n",
     "is_executing": true
    }
   }
  },
  {
   "cell_type": "code",
   "execution_count": 106,
   "outputs": [],
   "source": [
    "fig.write_html('../workproducts/hd51/walklist.html')"
   ],
   "metadata": {
    "collapsed": false,
    "pycharm": {
     "name": "#%%\n"
    }
   }
  },
  {
   "cell_type": "code",
   "execution_count": null,
   "outputs": [],
   "source": [
    "wl_hd51_outside.head()"
   ],
   "metadata": {
    "collapsed": false,
    "pycharm": {
     "name": "#%%\n",
     "is_executing": true
    }
   }
  },
  {
   "cell_type": "code",
   "execution_count": null,
   "outputs": [],
   "source": [
    "len(wl_hd51_outside)"
   ],
   "metadata": {
    "collapsed": false,
    "pycharm": {
     "name": "#%%\n",
     "is_executing": true
    }
   }
  },
  {
   "cell_type": "code",
   "execution_count": 15,
   "outputs": [],
   "source": [
    "wl_hd51_outside.drop(columns=['geometry']).to_csv('../workproducts/hd51/walk_list_lat_lon_outside_district.csv')"
   ],
   "metadata": {
    "collapsed": false,
    "pycharm": {
     "name": "#%%\n"
    }
   }
  },
  {
   "cell_type": "code",
   "execution_count": 16,
   "outputs": [],
   "source": [
    "from hse_map.models import HseMap\n",
    "from voter.models import ListEdition\n",
    "from datetime import datetime\n",
    "from segmentation.voter_segmentation import VoterSegmentation"
   ],
   "metadata": {
    "collapsed": false,
    "pycharm": {
     "name": "#%%\n"
    }
   }
  },
  {
   "cell_type": "code",
   "execution_count": 17,
   "outputs": [],
   "source": [
    "edition_date = datetime.strptime('2022-08-05', '%Y-%m-%d')\n",
    "edition = ListEdition.objects.get(date=edition_date)\n",
    "hd51 = HseMap.objects.get(district='051')\n",
    "hd51.edition = edition"
   ],
   "metadata": {
    "collapsed": false,
    "pycharm": {
     "name": "#%%\n"
    }
   }
  },
  {
   "cell_type": "code",
   "execution_count": 18,
   "outputs": [],
   "source": [
    "hd51_voter_ids = [v.voter_id for v in hd51.voters]"
   ],
   "metadata": {
    "collapsed": false,
    "pycharm": {
     "name": "#%%\n"
    }
   }
  },
  {
   "cell_type": "code",
   "execution_count": 19,
   "outputs": [],
   "source": [
    "wl_voter_ids = wl.voter_id.unique()"
   ],
   "metadata": {
    "collapsed": false,
    "pycharm": {
     "name": "#%%\n"
    }
   }
  },
  {
   "cell_type": "code",
   "execution_count": 20,
   "outputs": [],
   "source": [
    "missing = set(wl_voter_ids) - set(hd51_voter_ids)"
   ],
   "metadata": {
    "collapsed": false,
    "pycharm": {
     "name": "#%%\n"
    }
   }
  },
  {
   "cell_type": "code",
   "execution_count": 21,
   "outputs": [],
   "source": [
    "from voter.models import Voter\n",
    "\n",
    "inactive = Voter.objects.filter(status='I', hse='051', edition=edition)\n",
    "wl_inactive = wl[wl.voter_id.isin([v.voter_id for v in inactive])]\n",
    "wl_inactive.to_csv('../workproducts/hd51/walk_list_inactive.csv')"
   ],
   "metadata": {
    "collapsed": false,
    "pycharm": {
     "name": "#%%\n"
    }
   }
  },
  {
   "cell_type": "code",
   "execution_count": 22,
   "outputs": [
    {
     "data": {
      "text/plain": "528"
     },
     "execution_count": 22,
     "metadata": {},
     "output_type": "execute_result"
    }
   ],
   "source": [
    "len(wl_inactive)"
   ],
   "metadata": {
    "collapsed": false,
    "pycharm": {
     "name": "#%%\n"
    }
   }
  },
  {
   "cell_type": "code",
   "execution_count": 23,
   "outputs": [],
   "source": [
    "missing = missing - set(wl_inactive.voter_id)\n",
    "wl_not_in_district = wl[wl.voter_id.isin(missing)]\n",
    "wl_not_in_district.to_csv('../workproducts/hd51/walk_list_not_in_district.csv')"
   ],
   "metadata": {
    "collapsed": false,
    "pycharm": {
     "name": "#%%\n"
    }
   }
  },
  {
   "cell_type": "code",
   "execution_count": 24,
   "outputs": [
    {
     "data": {
      "text/plain": "472"
     },
     "execution_count": 24,
     "metadata": {},
     "output_type": "execute_result"
    }
   ],
   "source": [
    "len(wl_not_in_district)"
   ],
   "metadata": {
    "collapsed": false,
    "pycharm": {
     "name": "#%%\n"
    }
   }
  },
  {
   "cell_type": "code",
   "execution_count": 25,
   "outputs": [
    {
     "name": "stdout",
     "output_type": "stream",
     "text": [
      "Gather time: 19.8\n",
      "County Info Time: 0.0\n",
      "First/Last Time: 0.1\n",
      "Add Missing Records Time: 0.4\n",
      "Pivot Time: 3.6\n",
      "Add County Time: 0.0\n",
      "Load Voter History Summary Time: 0.0\n",
      "Compute Ops Time: 0.9\n",
      "Compute max_ballots_cast Time: 0.0\n",
      "Compute ballots_cast Time: 0.0\n",
      "Compute gn_max Time: 0.0\n",
      "Compute pn_max Time: 0.0\n",
      "Compute gn Time: 0.0\n",
      "Compute rn Time: 0.0\n",
      "Compute dn Time: 0.0\n",
      "Compute gr Time: 0.0\n",
      "Compute pr Time: 0.0\n",
      "Compute ra Time: 0.0\n",
      "Reorder Time: 0.0\n"
     ]
    }
   ],
   "source": [
    "hd51_vs = VoterSegmentation(hd51.voters)\n",
    "smry = hd51_vs.history_summary()\n",
    "score = hd51_vs.score_voters(smry)"
   ],
   "metadata": {
    "collapsed": false,
    "pycharm": {
     "name": "#%%\n"
    }
   }
  },
  {
   "cell_type": "code",
   "execution_count": 26,
   "outputs": [],
   "source": [
    "wl_score = wl[['voter_id']].merge(score, on='voter_id', how='inner')"
   ],
   "metadata": {
    "collapsed": false,
    "pycharm": {
     "name": "#%%\n"
    }
   }
  },
  {
   "cell_type": "code",
   "execution_count": 27,
   "outputs": [
    {
     "data": {
      "text/plain": "15326"
     },
     "execution_count": 27,
     "metadata": {},
     "output_type": "execute_result"
    }
   ],
   "source": [
    "len(wl_score)"
   ],
   "metadata": {
    "collapsed": false,
    "pycharm": {
     "name": "#%%\n"
    }
   }
  },
  {
   "cell_type": "code",
   "execution_count": 28,
   "outputs": [
    {
     "data": {
      "text/plain": "501"
     },
     "execution_count": 28,
     "metadata": {},
     "output_type": "execute_result"
    }
   ],
   "source": [
    "sum(wl_score.ra < 0.3)"
   ],
   "metadata": {
    "collapsed": false,
    "pycharm": {
     "name": "#%%\n"
    }
   }
  },
  {
   "cell_type": "code",
   "execution_count": 29,
   "outputs": [],
   "source": [
    "dems = wl[wl.voter_id.isin(wl_score[wl_score.ra < .4].voter_id)]\n",
    "dems.to_csv('../workproducts/hd51/walk_list_probable_dems.csv')"
   ],
   "metadata": {
    "collapsed": false,
    "pycharm": {
     "name": "#%%\n"
    }
   }
  },
  {
   "cell_type": "code",
   "execution_count": 30,
   "outputs": [
    {
     "data": {
      "text/plain": "(1133, 66)"
     },
     "execution_count": 30,
     "metadata": {},
     "output_type": "execute_result"
    }
   ],
   "source": [
    "\n",
    "dems.shape"
   ],
   "metadata": {
    "collapsed": false,
    "pycharm": {
     "name": "#%%\n"
    }
   }
  },
  {
   "cell_type": "code",
   "execution_count": 31,
   "outputs": [],
   "source": [
    "wl_inactive.to_csv('../workproducts/hd51/walk_list_inactive.csv')"
   ],
   "metadata": {
    "collapsed": false,
    "pycharm": {
     "name": "#%%\n"
    }
   }
  },
  {
   "cell_type": "code",
   "execution_count": 32,
   "outputs": [
    {
     "data": {
      "text/plain": "3272"
     },
     "execution_count": 32,
     "metadata": {},
     "output_type": "execute_result"
    }
   ],
   "source": [
    "sum(wl_score.ra > 0.5)"
   ],
   "metadata": {
    "collapsed": false,
    "pycharm": {
     "name": "#%%\n"
    }
   }
  },
  {
   "cell_type": "code",
   "execution_count": 33,
   "outputs": [
    {
     "data": {
      "text/plain": "7422"
     },
     "execution_count": 33,
     "metadata": {},
     "output_type": "execute_result"
    }
   ],
   "source": [
    "sum(score.ra > 0.5)"
   ],
   "metadata": {
    "collapsed": false,
    "pycharm": {
     "name": "#%%\n"
    }
   }
  },
  {
   "cell_type": "code",
   "execution_count": 34,
   "outputs": [
    {
     "data": {
      "text/plain": "   voter_id county_code 2014-05-20 2014-11-04 2016-05-24 2016-11-08  \\\n0  00023890         060         XP         GG         XP         GG   \n1  00024057         060         XP         XG         XP         GG   \n2  00024542         060         XP         GG         XP         GG   \n3  00028720         060         XP         GG         RP         GG   \n4  00029643         060         XP         XG         XP         GG   \n\n  2018-05-22 2018-11-06 2020-06-09 2020-11-03 2022-05-24  \n0         RP         GG         XP         GG         RP  \n1         XP         GG         XP         GG         RP  \n2         XP         GG         XP         GG         RP  \n3         XP         GG         XP         GG         RP  \n4         XP         XG         XP         GG         XP  ",
      "text/html": "<div>\n<style scoped>\n    .dataframe tbody tr th:only-of-type {\n        vertical-align: middle;\n    }\n\n    .dataframe tbody tr th {\n        vertical-align: top;\n    }\n\n    .dataframe thead th {\n        text-align: right;\n    }\n</style>\n<table border=\"1\" class=\"dataframe\">\n  <thead>\n    <tr style=\"text-align: right;\">\n      <th></th>\n      <th>voter_id</th>\n      <th>county_code</th>\n      <th>2014-05-20</th>\n      <th>2014-11-04</th>\n      <th>2016-05-24</th>\n      <th>2016-11-08</th>\n      <th>2018-05-22</th>\n      <th>2018-11-06</th>\n      <th>2020-06-09</th>\n      <th>2020-11-03</th>\n      <th>2022-05-24</th>\n    </tr>\n  </thead>\n  <tbody>\n    <tr>\n      <th>0</th>\n      <td>00023890</td>\n      <td>060</td>\n      <td>XP</td>\n      <td>GG</td>\n      <td>XP</td>\n      <td>GG</td>\n      <td>RP</td>\n      <td>GG</td>\n      <td>XP</td>\n      <td>GG</td>\n      <td>RP</td>\n    </tr>\n    <tr>\n      <th>1</th>\n      <td>00024057</td>\n      <td>060</td>\n      <td>XP</td>\n      <td>XG</td>\n      <td>XP</td>\n      <td>GG</td>\n      <td>XP</td>\n      <td>GG</td>\n      <td>XP</td>\n      <td>GG</td>\n      <td>RP</td>\n    </tr>\n    <tr>\n      <th>2</th>\n      <td>00024542</td>\n      <td>060</td>\n      <td>XP</td>\n      <td>GG</td>\n      <td>XP</td>\n      <td>GG</td>\n      <td>XP</td>\n      <td>GG</td>\n      <td>XP</td>\n      <td>GG</td>\n      <td>RP</td>\n    </tr>\n    <tr>\n      <th>3</th>\n      <td>00028720</td>\n      <td>060</td>\n      <td>XP</td>\n      <td>GG</td>\n      <td>RP</td>\n      <td>GG</td>\n      <td>XP</td>\n      <td>GG</td>\n      <td>XP</td>\n      <td>GG</td>\n      <td>RP</td>\n    </tr>\n    <tr>\n      <th>4</th>\n      <td>00029643</td>\n      <td>060</td>\n      <td>XP</td>\n      <td>XG</td>\n      <td>XP</td>\n      <td>GG</td>\n      <td>XP</td>\n      <td>XG</td>\n      <td>XP</td>\n      <td>GG</td>\n      <td>XP</td>\n    </tr>\n  </tbody>\n</table>\n</div>"
     },
     "execution_count": 34,
     "metadata": {},
     "output_type": "execute_result"
    }
   ],
   "source": [
    "smry.head()"
   ],
   "metadata": {
    "collapsed": false,
    "pycharm": {
     "name": "#%%\n"
    }
   }
  },
  {
   "cell_type": "code",
   "execution_count": 35,
   "outputs": [],
   "source": [
    "smry_r = smry[smry['2022-05-24']=='RP']"
   ],
   "metadata": {
    "collapsed": false,
    "pycharm": {
     "name": "#%%\n"
    }
   }
  },
  {
   "cell_type": "code",
   "execution_count": 102,
   "outputs": [
    {
     "data": {
      "text/plain": "4340"
     },
     "execution_count": 102,
     "metadata": {},
     "output_type": "execute_result"
    }
   ],
   "source": [
    "smry_d = smry[smry['2022-05-24']=='DP']\n",
    "len(smry_d)"
   ],
   "metadata": {
    "collapsed": false,
    "pycharm": {
     "name": "#%%\n"
    }
   }
  },
  {
   "cell_type": "code",
   "execution_count": 103,
   "outputs": [
    {
     "data": {
      "text/plain": "548"
     },
     "execution_count": 103,
     "metadata": {},
     "output_type": "execute_result"
    }
   ],
   "source": [
    "wl_in_smry_d = wl[wl.voter_id.isin(smry_d.voter_id)]\n",
    "len(wl_in_smry_d)"
   ],
   "metadata": {
    "collapsed": false,
    "pycharm": {
     "name": "#%%\n"
    }
   }
  },
  {
   "cell_type": "code",
   "execution_count": 36,
   "outputs": [
    {
     "data": {
      "text/plain": "6156"
     },
     "execution_count": 36,
     "metadata": {},
     "output_type": "execute_result"
    }
   ],
   "source": [
    "len(smry_r)"
   ],
   "metadata": {
    "collapsed": false,
    "pycharm": {
     "name": "#%%\n"
    }
   }
  },
  {
   "cell_type": "code",
   "execution_count": 40,
   "outputs": [],
   "source": [
    "wl_in_smry_r = wl[wl.voter_id.isin(smry_r.voter_id)]"
   ],
   "metadata": {
    "collapsed": false,
    "pycharm": {
     "name": "#%%\n"
    }
   }
  },
  {
   "cell_type": "code",
   "execution_count": 41,
   "outputs": [
    {
     "data": {
      "text/plain": "3877"
     },
     "execution_count": 41,
     "metadata": {},
     "output_type": "execute_result"
    }
   ],
   "source": [
    "len(smry_r) - len(wl_in_smry_r)"
   ],
   "metadata": {
    "collapsed": false,
    "pycharm": {
     "name": "#%%\n"
    }
   }
  },
  {
   "cell_type": "code",
   "execution_count": 43,
   "outputs": [],
   "source": [
    "smry_r_not_in_wl = smry_r[~smry_r.voter_id.isin(wl.voter_id)]"
   ],
   "metadata": {
    "collapsed": false,
    "pycharm": {
     "name": "#%%\n"
    }
   }
  },
  {
   "cell_type": "code",
   "execution_count": 44,
   "outputs": [
    {
     "data": {
      "text/plain": "    voter_id county_code 2014-05-20 2014-11-04 2016-05-24 2016-11-08  \\\n0   00023890         060         XP         GG         XP         GG   \n1   00024057         060         XP         XG         XP         GG   \n13  00052890         060         XP         GG         XP         GG   \n22  00085155         060         XP         GG         RP         GG   \n25  00104980         060         XP         GG         XP         GG   \n\n   2018-05-22 2018-11-06 2020-06-09 2020-11-03 2022-05-24  \n0          RP         GG         XP         GG         RP  \n1          XP         GG         XP         GG         RP  \n13         XP         GG         RP         GG         RP  \n22         XP         GG         RP         GG         RP  \n25         XP         GG         RP         GG         RP  ",
      "text/html": "<div>\n<style scoped>\n    .dataframe tbody tr th:only-of-type {\n        vertical-align: middle;\n    }\n\n    .dataframe tbody tr th {\n        vertical-align: top;\n    }\n\n    .dataframe thead th {\n        text-align: right;\n    }\n</style>\n<table border=\"1\" class=\"dataframe\">\n  <thead>\n    <tr style=\"text-align: right;\">\n      <th></th>\n      <th>voter_id</th>\n      <th>county_code</th>\n      <th>2014-05-20</th>\n      <th>2014-11-04</th>\n      <th>2016-05-24</th>\n      <th>2016-11-08</th>\n      <th>2018-05-22</th>\n      <th>2018-11-06</th>\n      <th>2020-06-09</th>\n      <th>2020-11-03</th>\n      <th>2022-05-24</th>\n    </tr>\n  </thead>\n  <tbody>\n    <tr>\n      <th>0</th>\n      <td>00023890</td>\n      <td>060</td>\n      <td>XP</td>\n      <td>GG</td>\n      <td>XP</td>\n      <td>GG</td>\n      <td>RP</td>\n      <td>GG</td>\n      <td>XP</td>\n      <td>GG</td>\n      <td>RP</td>\n    </tr>\n    <tr>\n      <th>1</th>\n      <td>00024057</td>\n      <td>060</td>\n      <td>XP</td>\n      <td>XG</td>\n      <td>XP</td>\n      <td>GG</td>\n      <td>XP</td>\n      <td>GG</td>\n      <td>XP</td>\n      <td>GG</td>\n      <td>RP</td>\n    </tr>\n    <tr>\n      <th>13</th>\n      <td>00052890</td>\n      <td>060</td>\n      <td>XP</td>\n      <td>GG</td>\n      <td>XP</td>\n      <td>GG</td>\n      <td>XP</td>\n      <td>GG</td>\n      <td>RP</td>\n      <td>GG</td>\n      <td>RP</td>\n    </tr>\n    <tr>\n      <th>22</th>\n      <td>00085155</td>\n      <td>060</td>\n      <td>XP</td>\n      <td>GG</td>\n      <td>RP</td>\n      <td>GG</td>\n      <td>XP</td>\n      <td>GG</td>\n      <td>RP</td>\n      <td>GG</td>\n      <td>RP</td>\n    </tr>\n    <tr>\n      <th>25</th>\n      <td>00104980</td>\n      <td>060</td>\n      <td>XP</td>\n      <td>GG</td>\n      <td>XP</td>\n      <td>GG</td>\n      <td>XP</td>\n      <td>GG</td>\n      <td>RP</td>\n      <td>GG</td>\n      <td>RP</td>\n    </tr>\n  </tbody>\n</table>\n</div>"
     },
     "execution_count": 44,
     "metadata": {},
     "output_type": "execute_result"
    }
   ],
   "source": [
    "smry_r_not_in_wl.head()"
   ],
   "metadata": {
    "collapsed": false,
    "pycharm": {
     "name": "#%%\n"
    }
   }
  },
  {
   "cell_type": "code",
   "execution_count": 45,
   "outputs": [
    {
     "data": {
      "text/plain": "16766"
     },
     "execution_count": 45,
     "metadata": {},
     "output_type": "execute_result"
    }
   ],
   "source": [
    "len(wl)"
   ],
   "metadata": {
    "collapsed": false,
    "pycharm": {
     "name": "#%%\n"
    }
   }
  },
  {
   "cell_type": "code",
   "execution_count": 46,
   "outputs": [
    {
     "name": "stdout",
     "output_type": "stream",
     "text": [
      "0.2857142857142857\n",
      "0.25\n",
      "0.21428571428571427\n",
      "0.17857142857142858\n",
      "0.14285714285714285\n",
      "0.10714285714285714\n",
      "0.07142857142857142\n"
     ]
    }
   ],
   "source": [
    "N = 7\n",
    "for i in range(N):\n",
    "    print(2*(N-i+1)/(N*(N+1)))"
   ],
   "metadata": {
    "collapsed": false,
    "pycharm": {
     "name": "#%%\n"
    }
   }
  },
  {
   "cell_type": "code",
   "execution_count": null,
   "outputs": [],
   "source": [],
   "metadata": {
    "collapsed": false,
    "pycharm": {
     "name": "#%%\n"
    }
   }
  }
 ],
 "metadata": {
  "kernelspec": {
   "display_name": "Python 3",
   "language": "python",
   "name": "python3"
  },
  "language_info": {
   "codemirror_mode": {
    "name": "ipython",
    "version": 2
   },
   "file_extension": ".py",
   "mimetype": "text/x-python",
   "name": "python",
   "nbconvert_exporter": "python",
   "pygments_lexer": "ipython2",
   "version": "2.7.6"
  }
 },
 "nbformat": 4,
 "nbformat_minor": 0
}