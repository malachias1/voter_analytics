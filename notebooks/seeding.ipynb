{
 "cells": [
  {
   "cell_type": "code",
   "execution_count": 1,
   "metadata": {
    "collapsed": true,
    "pycharm": {
     "name": "#%%\n"
    }
   },
   "outputs": [],
   "source": [
    "import pandas as pd\n",
    "import numpy as np\n",
    "from pathlib import Path\n",
    "%load_ext autoreload\n",
    "%autoreload 2"
   ]
  },
  {
   "cell_type": "code",
   "execution_count": 2,
   "outputs": [],
   "source": [
    "from data.voterdb import VoterDb\n",
    "from data.voter_list_ingest import IngestVoterList\n",
    "from util.search import VoterMatch"
   ],
   "metadata": {
    "collapsed": false,
    "pycharm": {
     "name": "#%%\n"
    }
   }
  },
  {
   "cell_type": "code",
   "execution_count": 3,
   "outputs": [],
   "source": [
    "root_dir = '~/Documents/data'\n",
    "voterdb = VoterDb(root_dir)\n"
   ],
   "metadata": {
    "collapsed": false,
    "pycharm": {
     "name": "#%%\n"
    }
   }
  },
  {
   "cell_type": "code",
   "execution_count": 4,
   "outputs": [
    {
     "ename": "IntegrityError",
     "evalue": "UNIQUE constraint failed: voter_search.voter_id",
     "output_type": "error",
     "traceback": [
      "\u001B[0;31m---------------------------------------------------------------------------\u001B[0m",
      "\u001B[0;31mIntegrityError\u001B[0m                            Traceback (most recent call last)",
      "Input \u001B[0;32mIn [4]\u001B[0m, in \u001B[0;36m<cell line: 1>\u001B[0;34m()\u001B[0m\n\u001B[0;32m----> 1\u001B[0m \u001B[43mvoterdb\u001B[49m\u001B[38;5;241;43m.\u001B[39;49m\u001B[43mrebuild_search_table\u001B[49m\u001B[43m(\u001B[49m\u001B[43m)\u001B[49m\n",
      "File \u001B[0;32m~/Documents/PycharmProjects/voter_analytics/data/voterdb.py:170\u001B[0m, in \u001B[0;36mVoterDb.rebuild_search_table\u001B[0;34m(cls)\u001B[0m\n\u001B[1;32m    168\u001B[0m cur\u001B[38;5;241m.\u001B[39mexecute(\u001B[38;5;124m'\u001B[39m\u001B[38;5;124mDELETE FROM voter_search;\u001B[39m\u001B[38;5;124m'\u001B[39m)\n\u001B[1;32m    169\u001B[0m \u001B[38;5;28mself\u001B[39m\u001B[38;5;241m.\u001B[39mcon\u001B[38;5;241m.\u001B[39mcommit()\n\u001B[0;32m--> 170\u001B[0m \u001B[43mcur\u001B[49m\u001B[38;5;241;43m.\u001B[39;49m\u001B[43mexecute\u001B[49m\u001B[43m(\u001B[49m\u001B[38;5;124;43mf\u001B[39;49m\u001B[38;5;124;43m\"\"\"\u001B[39;49m\n\u001B[1;32m    171\u001B[0m \u001B[38;5;124;43mINSERT INTO\u001B[39;49m\n\u001B[1;32m    172\u001B[0m \u001B[38;5;124;43m    voter_search\u001B[39;49m\n\u001B[1;32m    173\u001B[0m \u001B[38;5;124;43mSELECT \u001B[39;49m\n\u001B[1;32m    174\u001B[0m \u001B[38;5;124;43m    address_voter.voter_id AS voter_id, \u001B[39;49m\n\u001B[1;32m    175\u001B[0m \u001B[38;5;124;43m    address_voter.address_id AS address_id,\u001B[39;49m\n\u001B[1;32m    176\u001B[0m \u001B[38;5;124;43m    voter_name.last_name AS last_name, \u001B[39;49m\n\u001B[1;32m    177\u001B[0m \u001B[38;5;124;43m    voter_name.first_name AS first_name, \u001B[39;49m\n\u001B[1;32m    178\u001B[0m \u001B[38;5;124;43m    voter_name.middle_name AS middle_name,\u001B[39;49m\n\u001B[1;32m    179\u001B[0m \u001B[38;5;124;43m    residence_address.house_number AS house_number,\u001B[39;49m\n\u001B[1;32m    180\u001B[0m \u001B[38;5;124;43m    residence_address.zipcode AS zipcode\u001B[39;49m\n\u001B[1;32m    181\u001B[0m \u001B[38;5;124;43m    FROM \u001B[39;49m\n\u001B[1;32m    182\u001B[0m \u001B[38;5;124;43m    address_voter \u001B[39;49m\n\u001B[1;32m    183\u001B[0m \u001B[38;5;124;43m    LEFT JOIN voter_name ON address_voter.voter_id = voter_name.voter_id\u001B[39;49m\n\u001B[1;32m    184\u001B[0m \u001B[38;5;124;43m    LEFT JOIN residence_address ON residence_address.address_id = residence_address.address_id\u001B[39;49m\n\u001B[1;32m    185\u001B[0m \u001B[38;5;124;43m\u001B[39;49m\u001B[38;5;124;43m\"\"\"\u001B[39;49m\u001B[43m)\u001B[49m\n\u001B[1;32m    186\u001B[0m \u001B[38;5;28mself\u001B[39m\u001B[38;5;241m.\u001B[39mcon\u001B[38;5;241m.\u001B[39mcommit()\n",
      "\u001B[0;31mIntegrityError\u001B[0m: UNIQUE constraint failed: voter_search.voter_id"
     ]
    }
   ],
   "source": [
    "voterdb.rebuild_search_table()"
   ],
   "metadata": {
    "collapsed": false,
    "pycharm": {
     "name": "#%%\n"
    }
   }
  },
  {
   "cell_type": "code",
   "execution_count": 7,
   "outputs": [],
   "source": [
    "df = pd.read_sql_query(f\"select * from address_voter\", voterdb.con)"
   ],
   "metadata": {
    "collapsed": false,
    "pycharm": {
     "name": "#%%\n"
    }
   }
  },
  {
   "cell_type": "code",
   "execution_count": 8,
   "outputs": [],
   "source": [
    "df1 = pd.read_sql_query(f\"select voter_id, last_name, first_name, middle_name from voter_name\", voterdb.con)"
   ],
   "metadata": {
    "collapsed": false,
    "pycharm": {
     "name": "#%%\n"
    }
   }
  },
  {
   "cell_type": "code",
   "execution_count": 9,
   "outputs": [
    {
     "name": "stdout",
     "output_type": "stream",
     "text": [
      "(7491215, 2)\n",
      "(7491215, 4)\n"
     ]
    }
   ],
   "source": [
    "print(df.shape); print(df1.shape)"
   ],
   "metadata": {
    "collapsed": false,
    "pycharm": {
     "name": "#%%\n"
    }
   }
  },
  {
   "cell_type": "code",
   "execution_count": 10,
   "outputs": [],
   "source": [
    "df2 = pd.read_sql_query(f\"select address_id, house_number, zipcode from residence_address\", voterdb.con)"
   ],
   "metadata": {
    "collapsed": false,
    "pycharm": {
     "name": "#%%\n"
    }
   }
  },
  {
   "cell_type": "code",
   "execution_count": 11,
   "outputs": [
    {
     "data": {
      "text/plain": "   address_id  voter_id last_name first_name middle_name\n0     1134776  00025435    BEMBRY     BRENDA    NEWBERRY\n1     1134776  12752466    BEMBRY     ANDREW     BERNARD\n2     1134777  00032584   JOHNSON   JENNIFER         LEE\n3     1134777  04164211   JOHNSON     WALTER       KEVIN\n4     1134777  12028447   JOHNSON    REBECCA       GRACE",
      "text/html": "<div>\n<style scoped>\n    .dataframe tbody tr th:only-of-type {\n        vertical-align: middle;\n    }\n\n    .dataframe tbody tr th {\n        vertical-align: top;\n    }\n\n    .dataframe thead th {\n        text-align: right;\n    }\n</style>\n<table border=\"1\" class=\"dataframe\">\n  <thead>\n    <tr style=\"text-align: right;\">\n      <th></th>\n      <th>address_id</th>\n      <th>voter_id</th>\n      <th>last_name</th>\n      <th>first_name</th>\n      <th>middle_name</th>\n    </tr>\n  </thead>\n  <tbody>\n    <tr>\n      <th>0</th>\n      <td>1134776</td>\n      <td>00025435</td>\n      <td>BEMBRY</td>\n      <td>BRENDA</td>\n      <td>NEWBERRY</td>\n    </tr>\n    <tr>\n      <th>1</th>\n      <td>1134776</td>\n      <td>12752466</td>\n      <td>BEMBRY</td>\n      <td>ANDREW</td>\n      <td>BERNARD</td>\n    </tr>\n    <tr>\n      <th>2</th>\n      <td>1134777</td>\n      <td>00032584</td>\n      <td>JOHNSON</td>\n      <td>JENNIFER</td>\n      <td>LEE</td>\n    </tr>\n    <tr>\n      <th>3</th>\n      <td>1134777</td>\n      <td>04164211</td>\n      <td>JOHNSON</td>\n      <td>WALTER</td>\n      <td>KEVIN</td>\n    </tr>\n    <tr>\n      <th>4</th>\n      <td>1134777</td>\n      <td>12028447</td>\n      <td>JOHNSON</td>\n      <td>REBECCA</td>\n      <td>GRACE</td>\n    </tr>\n  </tbody>\n</table>\n</div>"
     },
     "execution_count": 11,
     "metadata": {},
     "output_type": "execute_result"
    }
   ],
   "source": [
    "df3 = df.merge(df1, how='inner', on=['voter_id'])\n",
    "df3.head()"
   ],
   "metadata": {
    "collapsed": false,
    "pycharm": {
     "name": "#%%\n"
    }
   }
  },
  {
   "cell_type": "code",
   "execution_count": 13,
   "outputs": [
    {
     "data": {
      "text/plain": "(7491215, 5)"
     },
     "execution_count": 13,
     "metadata": {},
     "output_type": "execute_result"
    }
   ],
   "source": [
    "df3.shape"
   ],
   "metadata": {
    "collapsed": false,
    "pycharm": {
     "name": "#%%\n"
    }
   }
  },
  {
   "cell_type": "code",
   "execution_count": 14,
   "outputs": [
    {
     "name": "stdout",
     "output_type": "stream",
     "text": [
      "(7491215, 7)\n"
     ]
    },
    {
     "data": {
      "text/plain": "   address_id  voter_id last_name first_name middle_name\n0     1134776  00025435    BEMBRY     BRENDA    NEWBERRY\n1     1134776  12752466    BEMBRY     ANDREW     BERNARD\n2     1134777  00032584   JOHNSON   JENNIFER         LEE\n3     1134777  04164211   JOHNSON     WALTER       KEVIN\n4     1134777  12028447   JOHNSON    REBECCA       GRACE",
      "text/html": "<div>\n<style scoped>\n    .dataframe tbody tr th:only-of-type {\n        vertical-align: middle;\n    }\n\n    .dataframe tbody tr th {\n        vertical-align: top;\n    }\n\n    .dataframe thead th {\n        text-align: right;\n    }\n</style>\n<table border=\"1\" class=\"dataframe\">\n  <thead>\n    <tr style=\"text-align: right;\">\n      <th></th>\n      <th>address_id</th>\n      <th>voter_id</th>\n      <th>last_name</th>\n      <th>first_name</th>\n      <th>middle_name</th>\n    </tr>\n  </thead>\n  <tbody>\n    <tr>\n      <th>0</th>\n      <td>1134776</td>\n      <td>00025435</td>\n      <td>BEMBRY</td>\n      <td>BRENDA</td>\n      <td>NEWBERRY</td>\n    </tr>\n    <tr>\n      <th>1</th>\n      <td>1134776</td>\n      <td>12752466</td>\n      <td>BEMBRY</td>\n      <td>ANDREW</td>\n      <td>BERNARD</td>\n    </tr>\n    <tr>\n      <th>2</th>\n      <td>1134777</td>\n      <td>00032584</td>\n      <td>JOHNSON</td>\n      <td>JENNIFER</td>\n      <td>LEE</td>\n    </tr>\n    <tr>\n      <th>3</th>\n      <td>1134777</td>\n      <td>04164211</td>\n      <td>JOHNSON</td>\n      <td>WALTER</td>\n      <td>KEVIN</td>\n    </tr>\n    <tr>\n      <th>4</th>\n      <td>1134777</td>\n      <td>12028447</td>\n      <td>JOHNSON</td>\n      <td>REBECCA</td>\n      <td>GRACE</td>\n    </tr>\n  </tbody>\n</table>\n</div>"
     },
     "execution_count": 14,
     "metadata": {},
     "output_type": "execute_result"
    }
   ],
   "source": [
    "df4 = df3.merge(df2, how='inner', on=['address_id'])\n",
    "print(df4.shape)\n",
    "df4.head()"
   ],
   "metadata": {
    "collapsed": false,
    "pycharm": {
     "name": "#%%\n"
    }
   }
  },
  {
   "cell_type": "code",
   "execution_count": 15,
   "outputs": [
    {
     "data": {
      "text/plain": "   address_id  voter_id last_name first_name middle_name house_number zipcode\n0     1134776  00025435    BEMBRY     BRENDA    NEWBERRY           28   31036\n1     1134776  12752466    BEMBRY     ANDREW     BERNARD           28   31036\n2     1134777  00032584   JOHNSON   JENNIFER         LEE           61   31036\n3     1134777  04164211   JOHNSON     WALTER       KEVIN           61   31036\n4     1134777  12028447   JOHNSON    REBECCA       GRACE           61   31036",
      "text/html": "<div>\n<style scoped>\n    .dataframe tbody tr th:only-of-type {\n        vertical-align: middle;\n    }\n\n    .dataframe tbody tr th {\n        vertical-align: top;\n    }\n\n    .dataframe thead th {\n        text-align: right;\n    }\n</style>\n<table border=\"1\" class=\"dataframe\">\n  <thead>\n    <tr style=\"text-align: right;\">\n      <th></th>\n      <th>address_id</th>\n      <th>voter_id</th>\n      <th>last_name</th>\n      <th>first_name</th>\n      <th>middle_name</th>\n      <th>house_number</th>\n      <th>zipcode</th>\n    </tr>\n  </thead>\n  <tbody>\n    <tr>\n      <th>0</th>\n      <td>1134776</td>\n      <td>00025435</td>\n      <td>BEMBRY</td>\n      <td>BRENDA</td>\n      <td>NEWBERRY</td>\n      <td>28</td>\n      <td>31036</td>\n    </tr>\n    <tr>\n      <th>1</th>\n      <td>1134776</td>\n      <td>12752466</td>\n      <td>BEMBRY</td>\n      <td>ANDREW</td>\n      <td>BERNARD</td>\n      <td>28</td>\n      <td>31036</td>\n    </tr>\n    <tr>\n      <th>2</th>\n      <td>1134777</td>\n      <td>00032584</td>\n      <td>JOHNSON</td>\n      <td>JENNIFER</td>\n      <td>LEE</td>\n      <td>61</td>\n      <td>31036</td>\n    </tr>\n    <tr>\n      <th>3</th>\n      <td>1134777</td>\n      <td>04164211</td>\n      <td>JOHNSON</td>\n      <td>WALTER</td>\n      <td>KEVIN</td>\n      <td>61</td>\n      <td>31036</td>\n    </tr>\n    <tr>\n      <th>4</th>\n      <td>1134777</td>\n      <td>12028447</td>\n      <td>JOHNSON</td>\n      <td>REBECCA</td>\n      <td>GRACE</td>\n      <td>61</td>\n      <td>31036</td>\n    </tr>\n  </tbody>\n</table>\n</div>"
     },
     "execution_count": 15,
     "metadata": {},
     "output_type": "execute_result"
    }
   ],
   "source": [
    "df4.head()"
   ],
   "metadata": {
    "collapsed": false,
    "pycharm": {
     "name": "#%%\n"
    }
   }
  },
  {
   "cell_type": "code",
   "execution_count": 19,
   "outputs": [
    {
     "name": "stdout",
     "output_type": "stream",
     "text": [
      "(7491215, 5)\n",
      "(7491215, 7)\n",
      "Index(['address_id', 'voter_id', 'last_name', 'first_name', 'middle_name',\n",
      "       'house_number', 'zipcode'],\n",
      "      dtype='object')\n"
     ]
    }
   ],
   "source": [
    "voterdb.rebuild_search_table()"
   ],
   "metadata": {
    "collapsed": false,
    "pycharm": {
     "name": "#%%\n"
    }
   }
  },
  {
   "cell_type": "code",
   "execution_count": 17,
   "outputs": [
    {
     "data": {
      "text/plain": "7491215"
     },
     "execution_count": 17,
     "metadata": {},
     "output_type": "execute_result"
    }
   ],
   "source": [
    "len(df4.voter_id.unique())"
   ],
   "metadata": {
    "collapsed": false,
    "pycharm": {
     "name": "#%%\n"
    }
   }
  },
  {
   "cell_type": "code",
   "execution_count": 22,
   "outputs": [
    {
     "data": {
      "text/plain": "   address_id  voter_id last_name first_name middle_name house_number zipcode\n0     2467196  03954433    MORRIS       JOHN      GRAHAM         1426   30809",
      "text/html": "<div>\n<style scoped>\n    .dataframe tbody tr th:only-of-type {\n        vertical-align: middle;\n    }\n\n    .dataframe tbody tr th {\n        vertical-align: top;\n    }\n\n    .dataframe thead th {\n        text-align: right;\n    }\n</style>\n<table border=\"1\" class=\"dataframe\">\n  <thead>\n    <tr style=\"text-align: right;\">\n      <th></th>\n      <th>address_id</th>\n      <th>voter_id</th>\n      <th>last_name</th>\n      <th>first_name</th>\n      <th>middle_name</th>\n      <th>house_number</th>\n      <th>zipcode</th>\n    </tr>\n  </thead>\n  <tbody>\n    <tr>\n      <th>0</th>\n      <td>2467196</td>\n      <td>03954433</td>\n      <td>MORRIS</td>\n      <td>JOHN</td>\n      <td>GRAHAM</td>\n      <td>1426</td>\n      <td>30809</td>\n    </tr>\n  </tbody>\n</table>\n</div>"
     },
     "execution_count": 22,
     "metadata": {},
     "output_type": "execute_result"
    }
   ],
   "source": [
    "voterdb.voter_search('GRAHAM', 'MORRIS', '1426', '30809')"
   ],
   "metadata": {
    "collapsed": false,
    "pycharm": {
     "name": "#%%\n"
    }
   }
  },
  {
   "cell_type": "code",
   "execution_count": null,
   "outputs": [],
   "source": [],
   "metadata": {
    "collapsed": false,
    "pycharm": {
     "name": "#%%\n"
    }
   }
  }
 ],
 "metadata": {
  "kernelspec": {
   "display_name": "Python 3",
   "language": "python",
   "name": "python3"
  },
  "language_info": {
   "codemirror_mode": {
    "name": "ipython",
    "version": 2
   },
   "file_extension": ".py",
   "mimetype": "text/x-python",
   "name": "python",
   "nbconvert_exporter": "python",
   "pygments_lexer": "ipython2",
   "version": "2.7.6"
  }
 },
 "nbformat": 4,
 "nbformat_minor": 0
}