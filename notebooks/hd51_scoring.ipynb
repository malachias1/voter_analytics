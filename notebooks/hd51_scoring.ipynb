{
 "cells": [
  {
   "cell_type": "code",
   "execution_count": 1,
   "outputs": [],
   "source": [
    "%load_ext autoreload\n",
    "%autoreload 2"
   ],
   "metadata": {
    "collapsed": false,
    "pycharm": {
     "name": "#%%\n"
    }
   }
  },
  {
   "cell_type": "code",
   "execution_count": 1,
   "outputs": [],
   "source": [
    "import django\n",
    "import os\n",
    "\n",
    "os.environ['DJANGO_SETTINGS_MODULE'] = 'dashboard.settings'\n",
    "os.environ[\"DJANGO_ALLOW_ASYNC_UNSAFE\"] = \"true\"\n",
    "django.setup()"
   ],
   "metadata": {
    "collapsed": false,
    "pycharm": {
     "name": "#%%\n"
    }
   }
  },
  {
   "cell_type": "code",
   "execution_count": 4,
   "outputs": [],
   "source": [
    "import pandas as pd\n",
    "from hse_map.models import HseMap\n",
    "from voter.models import ListEdition\n",
    "from datetime import datetime\n",
    "from segmentation.voter_segmentation import VoterSegmentation"
   ],
   "metadata": {
    "collapsed": false,
    "pycharm": {
     "name": "#%%\n"
    }
   }
  },
  {
   "cell_type": "code",
   "execution_count": 3,
   "outputs": [],
   "source": [
    "edition_date = datetime.strptime('2022-08-05', '%Y-%m-%d')\n",
    "edition = ListEdition.objects.get(date=edition_date)\n",
    "hd51 = HseMap.objects.get(district='051')\n",
    "hd51.edition = edition"
   ],
   "metadata": {
    "collapsed": false,
    "pycharm": {
     "name": "#%%\n"
    }
   }
  },
  {
   "cell_type": "code",
   "execution_count": 5,
   "outputs": [],
   "source": [
    "hd51_vs = VoterSegmentation(hd51.voters)"
   ],
   "metadata": {
    "collapsed": false,
    "pycharm": {
     "name": "#%%\n"
    }
   }
  },
  {
   "cell_type": "code",
   "execution_count": 6,
   "outputs": [
    {
     "name": "stdout",
     "output_type": "stream",
     "text": [
      "Gather time: 13.5\n",
      "County Info Time: 0.0\n",
      "First/Last Time: 0.1\n",
      "Add Missing Records Time: 0.4\n",
      "Pivot Time: 2.5\n",
      "Add County Time: 0.0\n"
     ]
    }
   ],
   "source": [
    "smry = hd51_vs.history_summary()"
   ],
   "metadata": {
    "collapsed": false,
    "pycharm": {
     "name": "#%%\n"
    }
   }
  },
  {
   "cell_type": "code",
   "execution_count": 7,
   "outputs": [
    {
     "data": {
      "text/plain": "   voter_id county_code 2014-05-20 2014-11-04 2016-05-24 2016-11-08  \\\n0  00023890         060         XP         GG         XP         GG   \n1  00024057         060         XP         XG         XP         GG   \n2  00024542         060         XP         GG         XP         GG   \n3  00028720         060         XP         GG         RP         GG   \n4  00029643         060         XP         XG         XP         GG   \n\n  2018-05-22 2018-11-06 2020-06-09 2020-11-03 2022-05-24  \n0         RP         GG         XP         GG         RP  \n1         XP         GG         XP         GG         RP  \n2         XP         GG         XP         GG         RP  \n3         XP         GG         XP         GG         RP  \n4         XP         XG         XP         GG         XP  ",
      "text/html": "<div>\n<style scoped>\n    .dataframe tbody tr th:only-of-type {\n        vertical-align: middle;\n    }\n\n    .dataframe tbody tr th {\n        vertical-align: top;\n    }\n\n    .dataframe thead th {\n        text-align: right;\n    }\n</style>\n<table border=\"1\" class=\"dataframe\">\n  <thead>\n    <tr style=\"text-align: right;\">\n      <th></th>\n      <th>voter_id</th>\n      <th>county_code</th>\n      <th>2014-05-20</th>\n      <th>2014-11-04</th>\n      <th>2016-05-24</th>\n      <th>2016-11-08</th>\n      <th>2018-05-22</th>\n      <th>2018-11-06</th>\n      <th>2020-06-09</th>\n      <th>2020-11-03</th>\n      <th>2022-05-24</th>\n    </tr>\n  </thead>\n  <tbody>\n    <tr>\n      <th>0</th>\n      <td>00023890</td>\n      <td>060</td>\n      <td>XP</td>\n      <td>GG</td>\n      <td>XP</td>\n      <td>GG</td>\n      <td>RP</td>\n      <td>GG</td>\n      <td>XP</td>\n      <td>GG</td>\n      <td>RP</td>\n    </tr>\n    <tr>\n      <th>1</th>\n      <td>00024057</td>\n      <td>060</td>\n      <td>XP</td>\n      <td>XG</td>\n      <td>XP</td>\n      <td>GG</td>\n      <td>XP</td>\n      <td>GG</td>\n      <td>XP</td>\n      <td>GG</td>\n      <td>RP</td>\n    </tr>\n    <tr>\n      <th>2</th>\n      <td>00024542</td>\n      <td>060</td>\n      <td>XP</td>\n      <td>GG</td>\n      <td>XP</td>\n      <td>GG</td>\n      <td>XP</td>\n      <td>GG</td>\n      <td>XP</td>\n      <td>GG</td>\n      <td>RP</td>\n    </tr>\n    <tr>\n      <th>3</th>\n      <td>00028720</td>\n      <td>060</td>\n      <td>XP</td>\n      <td>GG</td>\n      <td>RP</td>\n      <td>GG</td>\n      <td>XP</td>\n      <td>GG</td>\n      <td>XP</td>\n      <td>GG</td>\n      <td>RP</td>\n    </tr>\n    <tr>\n      <th>4</th>\n      <td>00029643</td>\n      <td>060</td>\n      <td>XP</td>\n      <td>XG</td>\n      <td>XP</td>\n      <td>GG</td>\n      <td>XP</td>\n      <td>XG</td>\n      <td>XP</td>\n      <td>GG</td>\n      <td>XP</td>\n    </tr>\n  </tbody>\n</table>\n</div>"
     },
     "execution_count": 7,
     "metadata": {},
     "output_type": "execute_result"
    }
   ],
   "source": [
    "smry.head()"
   ],
   "metadata": {
    "collapsed": false,
    "pycharm": {
     "name": "#%%\n"
    }
   }
  },
  {
   "cell_type": "code",
   "execution_count": 8,
   "outputs": [
    {
     "name": "stdout",
     "output_type": "stream",
     "text": [
      "Load Voter History Summary Time: 0.0\n",
      "Compute Ops Time: 1.0\n",
      "Compute max_ballots_cast Time: 0.0\n",
      "Compute ballots_cast Time: 0.1\n",
      "Compute gn_max Time: 0.0\n",
      "Compute pn_max Time: 0.1\n",
      "Compute gn Time: 0.0\n",
      "Compute rn Time: 0.0\n",
      "Compute dn Time: 0.0\n",
      "Compute gr Time: 0.0\n",
      "Compute pr Time: 0.0\n",
      "Compute ra Time: 0.0\n",
      "Reorder Time: 0.0\n"
     ]
    }
   ],
   "source": [
    "score = hd51_vs.score_voters(smry)"
   ],
   "metadata": {
    "collapsed": false,
    "pycharm": {
     "name": "#%%\n"
    }
   }
  },
  {
   "cell_type": "code",
   "execution_count": 9,
   "outputs": [
    {
     "data": {
      "text/plain": "   voter_id county_code  max_ballots_cast  ballots_cast  gn_max  pn_max  gn  \\\n0  00023890         060                 9             6       4       5   4   \n1  00024057         060                 9             4       4       5   3   \n2  00024542         060                 9             5       4       5   4   \n3  00028720         060                 9             6       4       5   4   \n4  00029643         060                 9             2       4       5   2   \n\n   rn  dn    gr   pr   ra  \n0   2   0  1.00  0.4  0.7  \n1   1   0  0.75  0.2  0.6  \n2   1   0  1.00  0.2  0.6  \n3   2   0  1.00  0.4  0.7  \n4   0   0  0.50  0.0  0.5  ",
      "text/html": "<div>\n<style scoped>\n    .dataframe tbody tr th:only-of-type {\n        vertical-align: middle;\n    }\n\n    .dataframe tbody tr th {\n        vertical-align: top;\n    }\n\n    .dataframe thead th {\n        text-align: right;\n    }\n</style>\n<table border=\"1\" class=\"dataframe\">\n  <thead>\n    <tr style=\"text-align: right;\">\n      <th></th>\n      <th>voter_id</th>\n      <th>county_code</th>\n      <th>max_ballots_cast</th>\n      <th>ballots_cast</th>\n      <th>gn_max</th>\n      <th>pn_max</th>\n      <th>gn</th>\n      <th>rn</th>\n      <th>dn</th>\n      <th>gr</th>\n      <th>pr</th>\n      <th>ra</th>\n    </tr>\n  </thead>\n  <tbody>\n    <tr>\n      <th>0</th>\n      <td>00023890</td>\n      <td>060</td>\n      <td>9</td>\n      <td>6</td>\n      <td>4</td>\n      <td>5</td>\n      <td>4</td>\n      <td>2</td>\n      <td>0</td>\n      <td>1.00</td>\n      <td>0.4</td>\n      <td>0.7</td>\n    </tr>\n    <tr>\n      <th>1</th>\n      <td>00024057</td>\n      <td>060</td>\n      <td>9</td>\n      <td>4</td>\n      <td>4</td>\n      <td>5</td>\n      <td>3</td>\n      <td>1</td>\n      <td>0</td>\n      <td>0.75</td>\n      <td>0.2</td>\n      <td>0.6</td>\n    </tr>\n    <tr>\n      <th>2</th>\n      <td>00024542</td>\n      <td>060</td>\n      <td>9</td>\n      <td>5</td>\n      <td>4</td>\n      <td>5</td>\n      <td>4</td>\n      <td>1</td>\n      <td>0</td>\n      <td>1.00</td>\n      <td>0.2</td>\n      <td>0.6</td>\n    </tr>\n    <tr>\n      <th>3</th>\n      <td>00028720</td>\n      <td>060</td>\n      <td>9</td>\n      <td>6</td>\n      <td>4</td>\n      <td>5</td>\n      <td>4</td>\n      <td>2</td>\n      <td>0</td>\n      <td>1.00</td>\n      <td>0.4</td>\n      <td>0.7</td>\n    </tr>\n    <tr>\n      <th>4</th>\n      <td>00029643</td>\n      <td>060</td>\n      <td>9</td>\n      <td>2</td>\n      <td>4</td>\n      <td>5</td>\n      <td>2</td>\n      <td>0</td>\n      <td>0</td>\n      <td>0.50</td>\n      <td>0.0</td>\n      <td>0.5</td>\n    </tr>\n  </tbody>\n</table>\n</div>"
     },
     "execution_count": 9,
     "metadata": {},
     "output_type": "execute_result"
    }
   ],
   "source": [
    "score.head()"
   ],
   "metadata": {
    "collapsed": false,
    "pycharm": {
     "name": "#%%\n"
    }
   }
  },
  {
   "cell_type": "code",
   "execution_count": 10,
   "outputs": [
    {
     "data": {
      "text/plain": "7422"
     },
     "execution_count": 10,
     "metadata": {},
     "output_type": "execute_result"
    }
   ],
   "source": [
    "sum(score.ra > 0.5)"
   ],
   "metadata": {
    "collapsed": false,
    "pycharm": {
     "name": "#%%\n"
    }
   }
  },
  {
   "cell_type": "code",
   "execution_count": 11,
   "outputs": [
    {
     "data": {
      "text/plain": "21349"
     },
     "execution_count": 11,
     "metadata": {},
     "output_type": "execute_result"
    }
   ],
   "source": [
    "sum(score.ra >= 0.5)"
   ],
   "metadata": {
    "collapsed": false,
    "pycharm": {
     "name": "#%%\n"
    }
   }
  },
  {
   "cell_type": "code",
   "execution_count": null,
   "outputs": [],
   "source": [],
   "metadata": {
    "collapsed": false,
    "pycharm": {
     "name": "#%%\n"
    }
   }
  }
 ],
 "metadata": {
  "kernelspec": {
   "display_name": "Python 3",
   "language": "python",
   "name": "python3"
  },
  "language_info": {
   "codemirror_mode": {
    "name": "ipython",
    "version": 2
   },
   "file_extension": ".py",
   "mimetype": "text/x-python",
   "name": "python",
   "nbconvert_exporter": "python",
   "pygments_lexer": "ipython2",
   "version": "2.7.6"
  }
 },
 "nbformat": 4,
 "nbformat_minor": 0
}