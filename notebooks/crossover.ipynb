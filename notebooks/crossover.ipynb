{
 "cells": [
  {
   "cell_type": "markdown",
   "metadata": {
    "pycharm": {
     "name": "#%% md\n"
    }
   },
   "source": [
    "# Crossover Analysis for State Wide 2022 General Election Primary\n",
    "\n",
    "According to Niesse<sup>1</sup>, Georgia Republican legislators are claiming that the primary was tainted by their opponents. The essential claim is the that Democrats influenced the outcome of the Republican Party Primary by pulling a Republican Party primary ballot rather than a Democratic ballot. This merits of this claim can be tested using the voting history provided by the Georgia Secretary of State. The essence of the test is to count how many voters with a history of voting mostly in Democratic primaries pulled a Republican Party primary ballot. One then compares that count to the total number of ballots cast in the Republican primary. The count is signiticant only if it is larger than the margin of victory.\n",
    "\n",
    "> **_Note:_** The voting history was retrieved on June 9th, 2022 from the Georgia Secretary of State website. The voting history is still being updated, so it is not quite in sync with the vote tallies yet. The voter list was retrieved in March 2022, so some voters will have registered and voted after the voter list was retieved. The number of unaccounted for voters will be noted below."
   ]
  },
  {
   "cell_type": "code",
   "execution_count": 6,
   "metadata": {
    "pycharm": {
     "name": "#%%\n"
    }
   },
   "outputs": [],
   "source": [
    "%load_ext autoreload\n",
    "%autoreload 2\n",
    "import numpy as np\n",
    "from segmentation.voter_segmentation import VoterSegmentation"
   ]
  },
  {
   "cell_type": "markdown",
   "source": [
    "Get an instance of the voter segmentation class."
   ],
   "metadata": {
    "collapsed": false,
    "pycharm": {
     "name": "#%% md\n"
    }
   }
  },
  {
   "cell_type": "code",
   "execution_count": 7,
   "metadata": {
    "pycharm": {
     "name": "#%%\n"
    }
   },
   "outputs": [],
   "source": [
    "root_dir = '~/Documents/data'\n",
    "vs = VoterSegmentation(root_dir)"
   ]
  },
  {
   "cell_type": "markdown",
   "source": [
    "Get a summary of the voter history. For the crossover analysis, voters are scored after excluding the 5/24 election. Scoring will yield an observed party for each voter among other factors."
   ],
   "metadata": {
    "collapsed": false,
    "pycharm": {
     "name": "#%% md\n"
    }
   }
  },
  {
   "cell_type": "code",
   "execution_count": 8,
   "metadata": {
    "pycharm": {
     "name": "#%%\n"
    }
   },
   "outputs": [],
   "source": [
    "hist = vs.voter_history_summary()"
   ]
  },
  {
   "cell_type": "code",
   "execution_count": 21,
   "metadata": {
    "pycharm": {
     "name": "#%%\n"
    }
   },
   "outputs": [
    {
     "name": "stdout",
     "output_type": "stream",
     "text": [
      "Load Voter History Summary Time: 29.1\n",
      "Compute Ops Time: 1141.3\n",
      "Compute max_ballots_cast Time: 4.7\n",
      "Compute ballots_cast Time: 11.1\n",
      "Compute gn_max Time: 12.6\n",
      "Compute pn_max Time: 15.8\n",
      "Compute gn Time: 11.9\n",
      "Compute rn Time: 10.7\n",
      "Compute dn Time: 11.5\n",
      "Compute gr Time: 3.9\n",
      "Compute pr Time: 3.6\n",
      "Compute ra Time: 3.5\n",
      "Reorder Time: 2.1\n"
     ]
    }
   ],
   "source": [
    "score = vs.score_voters(end=len(hist.columns)-1)"
   ]
  },
  {
   "cell_type": "markdown",
   "source": [
    "The first step is to get a list of the voters that pulled a Republican ballot according to the most recent (June 9th) update of the voting history."
   ],
   "metadata": {
    "collapsed": false,
    "pycharm": {
     "name": "#%% md\n"
    }
   }
  },
  {
   "cell_type": "code",
   "execution_count": 3,
   "outputs": [
    {
     "ename": "NameError",
     "evalue": "name 'hist' is not defined",
     "output_type": "error",
     "traceback": [
      "\u001B[0;31m---------------------------------------------------------------------------\u001B[0m",
      "\u001B[0;31mNameError\u001B[0m                                 Traceback (most recent call last)",
      "Input \u001B[0;32mIn [3]\u001B[0m, in \u001B[0;36m<cell line: 1>\u001B[0;34m()\u001B[0m\n\u001B[0;32m----> 1\u001B[0m hist_r \u001B[38;5;241m=\u001B[39m \u001B[43mhist\u001B[49m[hist\u001B[38;5;241m.\u001B[39mloc[:, \u001B[38;5;124m'\u001B[39m\u001B[38;5;124m2022-05-24\u001B[39m\u001B[38;5;124m'\u001B[39m]\u001B[38;5;241m==\u001B[39m\u001B[38;5;124m'\u001B[39m\u001B[38;5;124mRP\u001B[39m\u001B[38;5;124m'\u001B[39m]\n\u001B[1;32m      2\u001B[0m \u001B[38;5;28mprint\u001B[39m(\u001B[38;5;124mf\u001B[39m\u001B[38;5;124m'\u001B[39m\u001B[38;5;124mNo. of voters that put a Republican Party ballot \u001B[39m\u001B[38;5;132;01m{\u001B[39;00m\u001B[38;5;28mlen\u001B[39m(hist_r\u001B[38;5;241m.\u001B[39mindex)\u001B[38;5;132;01m}\u001B[39;00m\u001B[38;5;124m'\u001B[39m)\n",
      "\u001B[0;31mNameError\u001B[0m: name 'hist' is not defined"
     ]
    }
   ],
   "source": [
    "hist_r = hist[hist.loc[:, '2022-05-24']=='RP']\n",
    "print(f'No. of voters that put a Republican Party ballot {len(hist_r.index)}')"
   ],
   "metadata": {
    "collapsed": false,
    "pycharm": {
     "name": "#%%\n"
    }
   }
  },
  {
   "cell_type": "code",
   "execution_count": 2,
   "metadata": {
    "pycharm": {
     "name": "#%%\n"
    }
   },
   "outputs": [
    {
     "ename": "NameError",
     "evalue": "name 'hist_r' is not defined",
     "output_type": "error",
     "traceback": [
      "\u001B[0;31m---------------------------------------------------------------------------\u001B[0m",
      "\u001B[0;31mNameError\u001B[0m                                 Traceback (most recent call last)",
      "Input \u001B[0;32mIn [2]\u001B[0m, in \u001B[0;36m<cell line: 1>\u001B[0;34m()\u001B[0m\n\u001B[0;32m----> 1\u001B[0m score_r \u001B[38;5;241m=\u001B[39m \u001B[43mhist_r\u001B[49m\u001B[38;5;241m.\u001B[39mmerge(score, on\u001B[38;5;241m=\u001B[39m\u001B[38;5;124m'\u001B[39m\u001B[38;5;124mvoter_id\u001B[39m\u001B[38;5;124m'\u001B[39m, how\u001B[38;5;241m=\u001B[39m\u001B[38;5;124m'\u001B[39m\u001B[38;5;124minner\u001B[39m\u001B[38;5;124m'\u001B[39m)\n",
      "\u001B[0;31mNameError\u001B[0m: name 'hist_r' is not defined"
     ]
    }
   ],
   "source": [
    "score_r = hist_r.merge(score, on='voter_id', how='inner')"
   ]
  },
  {
   "cell_type": "markdown",
   "source": [
    "The score includes a primary participation rate. Let's get a count of the number of voters that never participated in a primary."
   ],
   "metadata": {
    "collapsed": false,
    "pycharm": {
     "name": "#%% md\n"
    }
   }
  },
  {
   "cell_type": "code",
   "execution_count": 24,
   "metadata": {
    "pycharm": {
     "name": "#%%\n"
    }
   },
   "outputs": [
    {
     "name": "stdout",
     "output_type": "stream",
     "text": [
      "No. voters in Republican primary that never participated in a primary is 305395\n",
      "which is 25.7% of the Republican primary participants.\n"
     ]
    }
   ],
   "source": [
    "no_history_count = len(score_r[score_r.pr == 0].index)\n",
    "print(f'No. voters in Republican primary that never participated in a primary is {no_history_count}')\n",
    "print(f'which is {no_history_count/len(hist_r.index)*100:.1f}% of the Republican primary participants.')\n"
   ]
  },
  {
   "cell_type": "code",
   "execution_count": 25,
   "metadata": {
    "pycharm": {
     "name": "#%%\n"
    }
   },
   "outputs": [
    {
     "data": {
      "text/plain": "798749"
     },
     "execution_count": 25,
     "metadata": {},
     "output_type": "execute_result"
    }
   ],
   "source": [
    "rep_history_count = len(score_r[score_r.ra > .5].index)\n",
    "rep_history_count"
   ]
  },
  {
   "cell_type": "code",
   "execution_count": 26,
   "metadata": {
    "pycharm": {
     "name": "#%%\n"
    }
   },
   "outputs": [
    {
     "data": {
      "text/plain": "57234"
     },
     "execution_count": 26,
     "metadata": {},
     "output_type": "execute_result"
    }
   ],
   "source": [
    "dem_history_count = len(score_r[(score_r.ra < .5)].index)\n",
    "dem_history_count"
   ]
  },
  {
   "cell_type": "code",
   "execution_count": 28,
   "outputs": [
    {
     "data": {
      "text/plain": "46412"
     },
     "execution_count": 28,
     "metadata": {},
     "output_type": "execute_result"
    }
   ],
   "source": [
    "first_rep_primary_count = len(score_r[(score_r.ra < .5) & (score_r.rn == 0)].index)\n",
    "first_rep_primary_count"
   ],
   "metadata": {
    "collapsed": false,
    "pycharm": {
     "name": "#%%\n"
    }
   }
  },
  {
   "cell_type": "code",
   "execution_count": 38,
   "outputs": [
    {
     "data": {
      "text/plain": "27033"
     },
     "execution_count": 38,
     "metadata": {},
     "output_type": "execute_result"
    }
   ],
   "source": [
    "weak_dem_count = len(score_r[(score_r.ra < .5) & (score_r.dn == 1)].index)\n",
    "weak_dem_count"
   ],
   "metadata": {
    "collapsed": false,
    "pycharm": {
     "name": "#%%\n"
    }
   }
  },
  {
   "cell_type": "code",
   "execution_count": 62,
   "metadata": {
    "pycharm": {
     "name": "#%%\n"
    }
   },
   "outputs": [
    {
     "data": {
      "text/plain": [
       "25302"
      ]
     },
     "execution_count": 62,
     "metadata": {},
     "output_type": "execute_result"
    }
   ],
   "source": [
    "ind_history_count = len(score_r[np.isclose(score_r.ra, .5) & (score_r.pr > 0)].index)\n",
    "ind_history_count"
   ]
  },
  {
   "cell_type": "code",
   "execution_count": 64,
   "metadata": {
    "pycharm": {
     "name": "#%%\n"
    }
   },
   "outputs": [
    {
     "data": {
      "text/plain": [
       "52.37524646994166"
      ]
     },
     "execution_count": 64,
     "metadata": {},
     "output_type": "execute_result"
    }
   ],
   "source": [
    "no_history = score_r[score_r.pr == 0]\n",
    "np.mean(2022-no_history.year_of_birth)"
   ]
  },
  {
   "cell_type": "code",
   "execution_count": 65,
   "metadata": {
    "pycharm": {
     "name": "#%%\n"
    }
   },
   "outputs": [
    {
     "data": {
      "text/plain": [
       "62.86274706213514"
      ]
     },
     "execution_count": 65,
     "metadata": {},
     "output_type": "execute_result"
    }
   ],
   "source": [
    "rep_history = score_r[score_r.ra > .5]\n",
    "np.mean(2022-rep_history.year_of_birth)"
   ]
  },
  {
   "cell_type": "code",
   "execution_count": 66,
   "metadata": {
    "pycharm": {
     "name": "#%%\n"
    }
   },
   "outputs": [
    {
     "data": {
      "text/plain": [
       "59.020706693683124"
      ]
     },
     "execution_count": 66,
     "metadata": {},
     "output_type": "execute_result"
    }
   ],
   "source": [
    "dem_history = score_r[(score_r.ra < .5)]\n",
    "np.mean(2022-dem_history.year_of_birth)"
   ]
  },
  {
   "cell_type": "code",
   "execution_count": 67,
   "metadata": {
    "pycharm": {
     "name": "#%%\n"
    }
   },
   "outputs": [
    {
     "data": {
      "text/plain": [
       "63.03821832266224"
      ]
     },
     "execution_count": 67,
     "metadata": {},
     "output_type": "execute_result"
    }
   ],
   "source": [
    "ind_history = score_r[np.isclose(score_r.ra, .5) & (score_r.pr > 0)]\n",
    "np.mean(2022-ind_history.year_of_birth)"
   ]
  },
  {
   "cell_type": "code",
   "execution_count": 21,
   "metadata": {
    "pycharm": {
     "name": "#%%\n"
    }
   },
   "outputs": [
    {
     "data": {
      "text/plain": [
       "1886510"
      ]
     },
     "execution_count": 21,
     "metadata": {},
     "output_type": "execute_result"
    }
   ],
   "source": [
    "1165907+720603"
   ]
  },
  {
   "cell_type": "code",
   "execution_count": 22,
   "metadata": {
    "pycharm": {
     "name": "#%%\n"
    }
   },
   "outputs": [
    {
     "data": {
      "text/plain": [
       "1910219"
      ]
     },
     "execution_count": 22,
     "metadata": {},
     "output_type": "execute_result"
    }
   ],
   "source": [
    "1178625+731594"
   ]
  },
  {
   "cell_type": "code",
   "execution_count": 23,
   "metadata": {
    "pycharm": {
     "name": "#%%\n"
    }
   },
   "outputs": [
    {
     "data": {
      "text/html": [
       "<div>\n",
       "<style scoped>\n",
       "    .dataframe tbody tr th:only-of-type {\n",
       "        vertical-align: middle;\n",
       "    }\n",
       "\n",
       "    .dataframe tbody tr th {\n",
       "        vertical-align: top;\n",
       "    }\n",
       "\n",
       "    .dataframe thead th {\n",
       "        text-align: right;\n",
       "    }\n",
       "</style>\n",
       "<table border=\"1\" class=\"dataframe\">\n",
       "  <thead>\n",
       "    <tr style=\"text-align: right;\">\n",
       "      <th></th>\n",
       "      <th>voter_id</th>\n",
       "      <th>county_code</th>\n",
       "      <th>max_ballots_cast</th>\n",
       "      <th>ballots_cast</th>\n",
       "      <th>gn_max</th>\n",
       "      <th>pn_max</th>\n",
       "      <th>gn</th>\n",
       "      <th>rn</th>\n",
       "      <th>dn</th>\n",
       "      <th>gr</th>\n",
       "      <th>pr</th>\n",
       "      <th>ra</th>\n",
       "    </tr>\n",
       "  </thead>\n",
       "  <tbody>\n",
       "    <tr>\n",
       "      <th>3266137</th>\n",
       "      <td>00001338</td>\n",
       "      <td>060</td>\n",
       "      <td>9</td>\n",
       "      <td>3</td>\n",
       "      <td>4</td>\n",
       "      <td>5</td>\n",
       "      <td>1</td>\n",
       "      <td>1</td>\n",
       "      <td>1</td>\n",
       "      <td>0.25</td>\n",
       "      <td>0.4</td>\n",
       "      <td>0.5</td>\n",
       "    </tr>\n",
       "    <tr>\n",
       "      <th>3266138</th>\n",
       "      <td>12814671</td>\n",
       "      <td>060</td>\n",
       "      <td>2</td>\n",
       "      <td>2</td>\n",
       "      <td>1</td>\n",
       "      <td>1</td>\n",
       "      <td>1</td>\n",
       "      <td>1</td>\n",
       "      <td>0</td>\n",
       "      <td>1.00</td>\n",
       "      <td>1.0</td>\n",
       "      <td>1.0</td>\n",
       "    </tr>\n",
       "    <tr>\n",
       "      <th>3266139</th>\n",
       "      <td>00001993</td>\n",
       "      <td>060</td>\n",
       "      <td>9</td>\n",
       "      <td>7</td>\n",
       "      <td>4</td>\n",
       "      <td>5</td>\n",
       "      <td>4</td>\n",
       "      <td>1</td>\n",
       "      <td>2</td>\n",
       "      <td>1.00</td>\n",
       "      <td>0.6</td>\n",
       "      <td>0.4</td>\n",
       "    </tr>\n",
       "    <tr>\n",
       "      <th>3266140</th>\n",
       "      <td>00002362</td>\n",
       "      <td>060</td>\n",
       "      <td>9</td>\n",
       "      <td>4</td>\n",
       "      <td>4</td>\n",
       "      <td>5</td>\n",
       "      <td>3</td>\n",
       "      <td>1</td>\n",
       "      <td>0</td>\n",
       "      <td>0.75</td>\n",
       "      <td>0.2</td>\n",
       "      <td>0.6</td>\n",
       "    </tr>\n",
       "    <tr>\n",
       "      <th>3266141</th>\n",
       "      <td>00002694</td>\n",
       "      <td>060</td>\n",
       "      <td>9</td>\n",
       "      <td>2</td>\n",
       "      <td>4</td>\n",
       "      <td>5</td>\n",
       "      <td>1</td>\n",
       "      <td>1</td>\n",
       "      <td>0</td>\n",
       "      <td>0.25</td>\n",
       "      <td>0.2</td>\n",
       "      <td>0.6</td>\n",
       "    </tr>\n",
       "    <tr>\n",
       "      <th>...</th>\n",
       "      <td>...</td>\n",
       "      <td>...</td>\n",
       "      <td>...</td>\n",
       "      <td>...</td>\n",
       "      <td>...</td>\n",
       "      <td>...</td>\n",
       "      <td>...</td>\n",
       "      <td>...</td>\n",
       "      <td>...</td>\n",
       "      <td>...</td>\n",
       "      <td>...</td>\n",
       "      <td>...</td>\n",
       "    </tr>\n",
       "    <tr>\n",
       "      <th>3811350</th>\n",
       "      <td>13257219</td>\n",
       "      <td>060</td>\n",
       "      <td>1</td>\n",
       "      <td>1</td>\n",
       "      <td>0</td>\n",
       "      <td>1</td>\n",
       "      <td>0</td>\n",
       "      <td>0</td>\n",
       "      <td>1</td>\n",
       "      <td>0.00</td>\n",
       "      <td>1.0</td>\n",
       "      <td>0.0</td>\n",
       "    </tr>\n",
       "    <tr>\n",
       "      <th>3811351</th>\n",
       "      <td>13257231</td>\n",
       "      <td>060</td>\n",
       "      <td>1</td>\n",
       "      <td>1</td>\n",
       "      <td>0</td>\n",
       "      <td>1</td>\n",
       "      <td>0</td>\n",
       "      <td>0</td>\n",
       "      <td>1</td>\n",
       "      <td>0.00</td>\n",
       "      <td>1.0</td>\n",
       "      <td>0.0</td>\n",
       "    </tr>\n",
       "    <tr>\n",
       "      <th>3811352</th>\n",
       "      <td>13257258</td>\n",
       "      <td>060</td>\n",
       "      <td>1</td>\n",
       "      <td>1</td>\n",
       "      <td>0</td>\n",
       "      <td>1</td>\n",
       "      <td>0</td>\n",
       "      <td>0</td>\n",
       "      <td>1</td>\n",
       "      <td>0.00</td>\n",
       "      <td>1.0</td>\n",
       "      <td>0.0</td>\n",
       "    </tr>\n",
       "    <tr>\n",
       "      <th>3811353</th>\n",
       "      <td>13257884</td>\n",
       "      <td>060</td>\n",
       "      <td>1</td>\n",
       "      <td>1</td>\n",
       "      <td>0</td>\n",
       "      <td>1</td>\n",
       "      <td>0</td>\n",
       "      <td>0</td>\n",
       "      <td>1</td>\n",
       "      <td>0.00</td>\n",
       "      <td>1.0</td>\n",
       "      <td>0.0</td>\n",
       "    </tr>\n",
       "    <tr>\n",
       "      <th>3811354</th>\n",
       "      <td>13258145</td>\n",
       "      <td>060</td>\n",
       "      <td>1</td>\n",
       "      <td>1</td>\n",
       "      <td>0</td>\n",
       "      <td>1</td>\n",
       "      <td>0</td>\n",
       "      <td>0</td>\n",
       "      <td>1</td>\n",
       "      <td>0.00</td>\n",
       "      <td>1.0</td>\n",
       "      <td>0.0</td>\n",
       "    </tr>\n",
       "  </tbody>\n",
       "</table>\n",
       "<p>545218 rows × 12 columns</p>\n",
       "</div>"
      ],
      "text/plain": [
       "         voter_id county_code  max_ballots_cast  ballots_cast  gn_max  pn_max  \\\n",
       "3266137  00001338         060                 9             3       4       5   \n",
       "3266138  12814671         060                 2             2       1       1   \n",
       "3266139  00001993         060                 9             7       4       5   \n",
       "3266140  00002362         060                 9             4       4       5   \n",
       "3266141  00002694         060                 9             2       4       5   \n",
       "...           ...         ...               ...           ...     ...     ...   \n",
       "3811350  13257219         060                 1             1       0       1   \n",
       "3811351  13257231         060                 1             1       0       1   \n",
       "3811352  13257258         060                 1             1       0       1   \n",
       "3811353  13257884         060                 1             1       0       1   \n",
       "3811354  13258145         060                 1             1       0       1   \n",
       "\n",
       "         gn  rn  dn    gr   pr   ra  \n",
       "3266137   1   1   1  0.25  0.4  0.5  \n",
       "3266138   1   1   0  1.00  1.0  1.0  \n",
       "3266139   4   1   2  1.00  0.6  0.4  \n",
       "3266140   3   1   0  0.75  0.2  0.6  \n",
       "3266141   1   1   0  0.25  0.2  0.6  \n",
       "...      ..  ..  ..   ...  ...  ...  \n",
       "3811350   0   0   1  0.00  1.0  0.0  \n",
       "3811351   0   0   1  0.00  1.0  0.0  \n",
       "3811352   0   0   1  0.00  1.0  0.0  \n",
       "3811353   0   0   1  0.00  1.0  0.0  \n",
       "3811354   0   0   1  0.00  1.0  0.0  \n",
       "\n",
       "[545218 rows x 12 columns]"
      ]
     },
     "execution_count": 23,
     "metadata": {},
     "output_type": "execute_result"
    }
   ],
   "source": [
    "vs_f = vs[vs.county_code == '060']\n",
    "vs_f"
   ]
  },
  {
   "cell_type": "code",
   "execution_count": 24,
   "metadata": {
    "pycharm": {
     "name": "#%%\n"
    }
   },
   "outputs": [
    {
     "data": {
      "text/plain": [
       "211119"
      ]
     },
     "execution_count": 24,
     "metadata": {},
     "output_type": "execute_result"
    }
   ],
   "source": [
    "sum(vs_f.ra < .5)"
   ]
  },
  {
   "cell_type": "code",
   "execution_count": 25,
   "metadata": {
    "pycharm": {
     "name": "#%%\n"
    }
   },
   "outputs": [
    {
     "data": {
      "text/plain": [
       "83649"
      ]
     },
     "execution_count": 25,
     "metadata": {},
     "output_type": "execute_result"
    }
   ],
   "source": [
    "sum(vs_f.ra > .5)"
   ]
  },
  {
   "cell_type": "code",
   "execution_count": 26,
   "metadata": {
    "pycharm": {
     "name": "#%%\n"
    }
   },
   "outputs": [
    {
     "data": {
      "text/plain": [
       "250216"
      ]
     },
     "execution_count": 26,
     "metadata": {},
     "output_type": "execute_result"
    }
   ],
   "source": [
    "sum(vs_f.ra == .5)"
   ]
  },
  {
   "cell_type": "code",
   "execution_count": 50,
   "metadata": {
    "pycharm": {
     "name": "#%%\n"
    }
   },
   "outputs": [],
   "source": [
    "vh = sut.db.voter_history_for_date(2022, 5, 24)"
   ]
  },
  {
   "cell_type": "code",
   "execution_count": 52,
   "metadata": {
    "pycharm": {
     "name": "#%%\n"
    }
   },
   "outputs": [
    {
     "data": {
      "text/html": [
       "<div>\n",
       "<style scoped>\n",
       "    .dataframe tbody tr th:only-of-type {\n",
       "        vertical-align: middle;\n",
       "    }\n",
       "\n",
       "    .dataframe tbody tr th {\n",
       "        vertical-align: top;\n",
       "    }\n",
       "\n",
       "    .dataframe thead th {\n",
       "        text-align: right;\n",
       "    }\n",
       "</style>\n",
       "<table border=\"1\" class=\"dataframe\">\n",
       "  <thead>\n",
       "    <tr style=\"text-align: right;\">\n",
       "      <th></th>\n",
       "      <th>voter_id</th>\n",
       "      <th>date</th>\n",
       "      <th>type</th>\n",
       "      <th>party</th>\n",
       "      <th>county_id</th>\n",
       "      <th>absentee</th>\n",
       "      <th>provisional</th>\n",
       "      <th>supplemental</th>\n",
       "    </tr>\n",
       "  </thead>\n",
       "  <tbody>\n",
       "    <tr>\n",
       "      <th>0</th>\n",
       "      <td>03391038</td>\n",
       "      <td>20220524</td>\n",
       "      <td>001</td>\n",
       "      <td>R</td>\n",
       "      <td>023</td>\n",
       "      <td>1</td>\n",
       "      <td>0</td>\n",
       "      <td>0</td>\n",
       "    </tr>\n",
       "    <tr>\n",
       "      <th>5</th>\n",
       "      <td>11039600</td>\n",
       "      <td>20220524</td>\n",
       "      <td>001</td>\n",
       "      <td>R</td>\n",
       "      <td>060</td>\n",
       "      <td>1</td>\n",
       "      <td>0</td>\n",
       "      <td>0</td>\n",
       "    </tr>\n",
       "    <tr>\n",
       "      <th>10</th>\n",
       "      <td>12416618</td>\n",
       "      <td>20220524</td>\n",
       "      <td>001</td>\n",
       "      <td>R</td>\n",
       "      <td>060</td>\n",
       "      <td>1</td>\n",
       "      <td>0</td>\n",
       "      <td>0</td>\n",
       "    </tr>\n",
       "    <tr>\n",
       "      <th>17</th>\n",
       "      <td>11720072</td>\n",
       "      <td>20220524</td>\n",
       "      <td>001</td>\n",
       "      <td>R</td>\n",
       "      <td>060</td>\n",
       "      <td>1</td>\n",
       "      <td>0</td>\n",
       "      <td>0</td>\n",
       "    </tr>\n",
       "    <tr>\n",
       "      <th>19</th>\n",
       "      <td>12828687</td>\n",
       "      <td>20220524</td>\n",
       "      <td>001</td>\n",
       "      <td>R</td>\n",
       "      <td>060</td>\n",
       "      <td>1</td>\n",
       "      <td>0</td>\n",
       "      <td>0</td>\n",
       "    </tr>\n",
       "    <tr>\n",
       "      <th>...</th>\n",
       "      <td>...</td>\n",
       "      <td>...</td>\n",
       "      <td>...</td>\n",
       "      <td>...</td>\n",
       "      <td>...</td>\n",
       "      <td>...</td>\n",
       "      <td>...</td>\n",
       "      <td>...</td>\n",
       "    </tr>\n",
       "    <tr>\n",
       "      <th>1969068</th>\n",
       "      <td>00067954</td>\n",
       "      <td>20220524</td>\n",
       "      <td>001</td>\n",
       "      <td>R</td>\n",
       "      <td>155</td>\n",
       "      <td>1</td>\n",
       "      <td>0</td>\n",
       "      <td>0</td>\n",
       "    </tr>\n",
       "    <tr>\n",
       "      <th>1969075</th>\n",
       "      <td>01303222</td>\n",
       "      <td>20220524</td>\n",
       "      <td>001</td>\n",
       "      <td>R</td>\n",
       "      <td>159</td>\n",
       "      <td>1</td>\n",
       "      <td>0</td>\n",
       "      <td>0</td>\n",
       "    </tr>\n",
       "    <tr>\n",
       "      <th>1969076</th>\n",
       "      <td>01646483</td>\n",
       "      <td>20220524</td>\n",
       "      <td>001</td>\n",
       "      <td>R</td>\n",
       "      <td>154</td>\n",
       "      <td>1</td>\n",
       "      <td>0</td>\n",
       "      <td>0</td>\n",
       "    </tr>\n",
       "    <tr>\n",
       "      <th>1969077</th>\n",
       "      <td>02782651</td>\n",
       "      <td>20220524</td>\n",
       "      <td>001</td>\n",
       "      <td>R</td>\n",
       "      <td>154</td>\n",
       "      <td>1</td>\n",
       "      <td>0</td>\n",
       "      <td>0</td>\n",
       "    </tr>\n",
       "    <tr>\n",
       "      <th>1969078</th>\n",
       "      <td>02780949</td>\n",
       "      <td>20220524</td>\n",
       "      <td>001</td>\n",
       "      <td>R</td>\n",
       "      <td>154</td>\n",
       "      <td>1</td>\n",
       "      <td>0</td>\n",
       "      <td>0</td>\n",
       "    </tr>\n",
       "  </tbody>\n",
       "</table>\n",
       "<p>1187026 rows × 8 columns</p>\n",
       "</div>"
      ],
      "text/plain": [
       "         voter_id      date type party county_id  absentee  provisional  \\\n",
       "0        03391038  20220524  001     R       023         1            0   \n",
       "5        11039600  20220524  001     R       060         1            0   \n",
       "10       12416618  20220524  001     R       060         1            0   \n",
       "17       11720072  20220524  001     R       060         1            0   \n",
       "19       12828687  20220524  001     R       060         1            0   \n",
       "...           ...       ...  ...   ...       ...       ...          ...   \n",
       "1969068  00067954  20220524  001     R       155         1            0   \n",
       "1969075  01303222  20220524  001     R       159         1            0   \n",
       "1969076  01646483  20220524  001     R       154         1            0   \n",
       "1969077  02782651  20220524  001     R       154         1            0   \n",
       "1969078  02780949  20220524  001     R       154         1            0   \n",
       "\n",
       "         supplemental  \n",
       "0                   0  \n",
       "5                   0  \n",
       "10                  0  \n",
       "17                  0  \n",
       "19                  0  \n",
       "...               ...  \n",
       "1969068             0  \n",
       "1969075             0  \n",
       "1969076             0  \n",
       "1969077             0  \n",
       "1969078             0  \n",
       "\n",
       "[1187026 rows x 8 columns]"
      ]
     },
     "execution_count": 52,
     "metadata": {},
     "output_type": "execute_result"
    }
   ],
   "source": [
    "vh_r = vh[vh.party=='R']\n",
    "vh_r"
   ]
  },
  {
   "cell_type": "code",
   "execution_count": 42,
   "outputs": [
    {
     "data": {
      "text/plain": "69086"
     },
     "execution_count": 42,
     "metadata": {},
     "output_type": "execute_result"
    }
   ],
   "source": [
    "hist_fulton = hist[hist.county_code == '060']\n",
    "hist_fulton_r = hist_fulton[hist_fulton.loc[:, '2022-05-24']=='RP']\n",
    "len(hist_fulton_r.index)"
   ],
   "metadata": {
    "collapsed": false,
    "pycharm": {
     "name": "#%%\n"
    }
   }
  },
  {
   "cell_type": "code",
   "execution_count": 43,
   "outputs": [
    {
     "data": {
      "text/plain": "114673"
     },
     "execution_count": 43,
     "metadata": {},
     "output_type": "execute_result"
    }
   ],
   "source": [
    "hist_fulton = hist[hist.county_code == '060']\n",
    "hist_fulton_d = hist_fulton[hist_fulton.loc[:, '2022-05-24']=='DP']\n",
    "len(hist_fulton_d.index)"
   ],
   "metadata": {
    "collapsed": false,
    "pycharm": {
     "name": "#%%\n"
    }
   }
  },
  {
   "cell_type": "code",
   "execution_count": 44,
   "outputs": [
    {
     "data": {
      "text/plain": "0.24900437006673667"
     },
     "execution_count": 44,
     "metadata": {},
     "output_type": "execute_result"
    }
   ],
   "source": [
    "(69086+114673)/737975"
   ],
   "metadata": {
    "collapsed": false,
    "pycharm": {
     "name": "#%%\n"
    }
   }
  },
  {
   "cell_type": "code",
   "execution_count": null,
   "outputs": [],
   "source": [],
   "metadata": {
    "collapsed": false,
    "pycharm": {
     "name": "#%%\n"
    }
   }
  }
 ],
 "metadata": {
  "kernelspec": {
   "display_name": "Python 3 (ipykernel)",
   "language": "python",
   "name": "python3"
  },
  "language_info": {
   "codemirror_mode": {
    "name": "ipython",
    "version": 3
   },
   "file_extension": ".py",
   "mimetype": "text/x-python",
   "name": "python",
   "nbconvert_exporter": "python",
   "pygments_lexer": "ipython3",
   "version": "3.9.12"
  }
 },
 "nbformat": 4,
 "nbformat_minor": 1
}