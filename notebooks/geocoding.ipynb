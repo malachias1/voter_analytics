{
 "cells": [
  {
   "cell_type": "code",
   "execution_count": 1,
   "outputs": [],
   "source": [
    "import pandas as pd\n",
    "%load_ext autoreload\n",
    "%autoreload 2"
   ],
   "metadata": {
    "collapsed": false,
    "pycharm": {
     "name": "#%%\n"
    }
   }
  },
  {
   "cell_type": "code",
   "execution_count": 2,
   "outputs": [],
   "source": [
    "import django\n",
    "import os\n",
    "\n",
    "os.environ['DJANGO_SETTINGS_MODULE'] = 'dashboard.settings'\n",
    "os.environ[\"DJANGO_ALLOW_ASYNC_UNSAFE\"] = \"true\"\n",
    "django.setup()"
   ],
   "metadata": {
    "collapsed": false,
    "pycharm": {
     "name": "#%%\n"
    }
   }
  },
  {
   "cell_type": "code",
   "execution_count": 4,
   "outputs": [],
   "source": [
    "import pandas as pd"
   ],
   "metadata": {
    "collapsed": false,
    "pycharm": {
     "name": "#%%\n"
    }
   }
  },
  {
   "cell_type": "code",
   "execution_count": 28,
   "outputs": [],
   "source": [
    "walklist = pd.read_csv('../resources/hd51/hd51_walklist.csv', dtype=str,\n",
    "                       engine='python', keep_default_na=False)"
   ],
   "metadata": {
    "collapsed": false,
    "pycharm": {
     "name": "#%%\n"
    }
   }
  },
  {
   "cell_type": "code",
   "execution_count": 29,
   "outputs": [
    {
     "data": {
      "text/plain": "       A1 Contacted Supporter Yardisgn County CountyName  LAST_NAME  \\\n0   99615                                  60     FULTON    DOWLING   \n1  115151                                  60     FULTON     YEAGER   \n2  117807                                  60     FULTON     DAHLEN   \n3  121602                                  60     FULTON     CARDEN   \n4  145174                                  60     FULTON  SHOEMAKER   \n\n  FIRST_NAME MIDDLE_MAIDEN_NAME NAME_SUFFIX  ... MUNOV21 MURUNOFF21 SPEC22  \\\n0  KATHERINE             KRAUSE              ...                             \n1     HARMON               TODD              ...                             \n2     STEVEN               JOHN              ...                             \n3        AMY             STAATS              ...                             \n4     SANDRA                  L              ...       A                     \n\n  Pri22 Pri22abs Prirunoff2022 Prirunoff2022ABS RegistrationAddressLatitude  \\\n0                                                                 33.926907   \n1                                                                 33.961134   \n2                                                                 33.995456   \n3                                                                 33.997614   \n4     R        A             R                Y                   34.051875   \n\n  RegistrationAddressLongitude  voter_id  \n0                   -84.360377  00099615  \n1                   -84.349388  00115151  \n2                   -84.287766  00117807  \n3                   -84.307868  00121602  \n4                   -84.387688  00145174  \n\n[5 rows x 63 columns]",
      "text/html": "<div>\n<style scoped>\n    .dataframe tbody tr th:only-of-type {\n        vertical-align: middle;\n    }\n\n    .dataframe tbody tr th {\n        vertical-align: top;\n    }\n\n    .dataframe thead th {\n        text-align: right;\n    }\n</style>\n<table border=\"1\" class=\"dataframe\">\n  <thead>\n    <tr style=\"text-align: right;\">\n      <th></th>\n      <th>A1</th>\n      <th>Contacted</th>\n      <th>Supporter</th>\n      <th>Yardisgn</th>\n      <th>County</th>\n      <th>CountyName</th>\n      <th>LAST_NAME</th>\n      <th>FIRST_NAME</th>\n      <th>MIDDLE_MAIDEN_NAME</th>\n      <th>NAME_SUFFIX</th>\n      <th>...</th>\n      <th>MUNOV21</th>\n      <th>MURUNOFF21</th>\n      <th>SPEC22</th>\n      <th>Pri22</th>\n      <th>Pri22abs</th>\n      <th>Prirunoff2022</th>\n      <th>Prirunoff2022ABS</th>\n      <th>RegistrationAddressLatitude</th>\n      <th>RegistrationAddressLongitude</th>\n      <th>voter_id</th>\n    </tr>\n  </thead>\n  <tbody>\n    <tr>\n      <th>0</th>\n      <td>99615</td>\n      <td></td>\n      <td></td>\n      <td></td>\n      <td>60</td>\n      <td>FULTON</td>\n      <td>DOWLING</td>\n      <td>KATHERINE</td>\n      <td>KRAUSE</td>\n      <td></td>\n      <td>...</td>\n      <td></td>\n      <td></td>\n      <td></td>\n      <td></td>\n      <td></td>\n      <td></td>\n      <td></td>\n      <td>33.926907</td>\n      <td>-84.360377</td>\n      <td>00099615</td>\n    </tr>\n    <tr>\n      <th>1</th>\n      <td>115151</td>\n      <td></td>\n      <td></td>\n      <td></td>\n      <td>60</td>\n      <td>FULTON</td>\n      <td>YEAGER</td>\n      <td>HARMON</td>\n      <td>TODD</td>\n      <td></td>\n      <td>...</td>\n      <td></td>\n      <td></td>\n      <td></td>\n      <td></td>\n      <td></td>\n      <td></td>\n      <td></td>\n      <td>33.961134</td>\n      <td>-84.349388</td>\n      <td>00115151</td>\n    </tr>\n    <tr>\n      <th>2</th>\n      <td>117807</td>\n      <td></td>\n      <td></td>\n      <td></td>\n      <td>60</td>\n      <td>FULTON</td>\n      <td>DAHLEN</td>\n      <td>STEVEN</td>\n      <td>JOHN</td>\n      <td></td>\n      <td>...</td>\n      <td></td>\n      <td></td>\n      <td></td>\n      <td></td>\n      <td></td>\n      <td></td>\n      <td></td>\n      <td>33.995456</td>\n      <td>-84.287766</td>\n      <td>00117807</td>\n    </tr>\n    <tr>\n      <th>3</th>\n      <td>121602</td>\n      <td></td>\n      <td></td>\n      <td></td>\n      <td>60</td>\n      <td>FULTON</td>\n      <td>CARDEN</td>\n      <td>AMY</td>\n      <td>STAATS</td>\n      <td></td>\n      <td>...</td>\n      <td></td>\n      <td></td>\n      <td></td>\n      <td></td>\n      <td></td>\n      <td></td>\n      <td></td>\n      <td>33.997614</td>\n      <td>-84.307868</td>\n      <td>00121602</td>\n    </tr>\n    <tr>\n      <th>4</th>\n      <td>145174</td>\n      <td></td>\n      <td></td>\n      <td></td>\n      <td>60</td>\n      <td>FULTON</td>\n      <td>SHOEMAKER</td>\n      <td>SANDRA</td>\n      <td>L</td>\n      <td></td>\n      <td>...</td>\n      <td>A</td>\n      <td></td>\n      <td></td>\n      <td>R</td>\n      <td>A</td>\n      <td>R</td>\n      <td>Y</td>\n      <td>34.051875</td>\n      <td>-84.387688</td>\n      <td>00145174</td>\n    </tr>\n  </tbody>\n</table>\n<p>5 rows × 63 columns</p>\n</div>"
     },
     "execution_count": 29,
     "metadata": {},
     "output_type": "execute_result"
    }
   ],
   "source": [
    "walklist = walklist.assign(voter_id=walklist.A1.apply(lambda x: f'{int(x):08d}'))\n",
    "walklist.head()"
   ],
   "metadata": {
    "collapsed": false,
    "pycharm": {
     "name": "#%%\n"
    }
   }
  },
  {
   "cell_type": "code",
   "execution_count": 30,
   "outputs": [],
   "source": [
    "from voter.models import Voter, ListEdition, ResidenceAddress\n",
    "from datetime import datetime"
   ],
   "metadata": {
    "collapsed": false,
    "pycharm": {
     "name": "#%%\n"
    }
   }
  },
  {
   "cell_type": "code",
   "execution_count": null,
   "outputs": [],
   "source": [
    "edition_date = datetime.strptime('2022-8-5', '%Y-%m-%d')\n",
    "edition = ListEdition.objects.get(date=edition_date)\n",
    "records = []\n",
    "for i in walklist.index:\n",
    "    row = walklist.loc[i]\n",
    "    v = Voter.objects.filter(voter_id=row.voter_id, edition=edition).first()\n",
    "    if v is None or v.hse != '051':\n",
    "        continue\n",
    "    a = v.residence_address_of.first()\n",
    "    records.append(\n",
    "        {\n",
    "            'street': f'{a.house_number} {a.street_name}',\n",
    "            'city': a.city,\n",
    "            'state': 'GA',\n",
    "            'zipcode': a.zipcode\n",
    "        }\n",
    "    )\n",
    "df = pd.DataFrame.from_records(records).drop_duplicates()\n",
    "df.shape"
   ],
   "metadata": {
    "collapsed": false,
    "pycharm": {
     "name": "#%%\n",
     "is_executing": true
    }
   }
  },
  {
   "cell_type": "code",
   "execution_count": 32,
   "outputs": [],
   "source": [
    "df = df.reset_index(drop=True)"
   ],
   "metadata": {
    "collapsed": false,
    "pycharm": {
     "name": "#%%\n"
    }
   }
  },
  {
   "cell_type": "code",
   "execution_count": 37,
   "outputs": [],
   "source": [
    "df1000 = df.head(1000)"
   ],
   "metadata": {
    "collapsed": false,
    "pycharm": {
     "name": "#%%\n"
    }
   }
  },
  {
   "cell_type": "code",
   "execution_count": 38,
   "outputs": [],
   "source": [
    "df1000.to_csv('../resources/hd51/geocode_upload1.csv', index=False)"
   ],
   "metadata": {
    "collapsed": false,
    "pycharm": {
     "name": "#%%\n"
    }
   }
  },
  {
   "cell_type": "code",
   "execution_count": 33,
   "outputs": [],
   "source": [
    "dfrest = df[1000:]"
   ],
   "metadata": {
    "collapsed": false,
    "pycharm": {
     "name": "#%%\n"
    }
   }
  },
  {
   "cell_type": "code",
   "execution_count": null,
   "outputs": [],
   "source": [
    "dfrest.shape"
   ],
   "metadata": {
    "collapsed": false,
    "pycharm": {
     "name": "#%%\n",
     "is_executing": true
    }
   }
  },
  {
   "cell_type": "code",
   "execution_count": 35,
   "outputs": [],
   "source": [
    "dfrest.to_csv('../resources/hd51/geocode_upload_rest.csv', index=False)"
   ],
   "metadata": {
    "collapsed": false,
    "pycharm": {
     "name": "#%%\n"
    }
   }
  },
  {
   "cell_type": "code",
   "execution_count": 3,
   "outputs": [],
   "source": [
    "from walklist.models import Walklist\n",
    "from hse_map.models import HseMap\n",
    "from datetime import datetime\n",
    "from voter.models import ListEdition"
   ],
   "metadata": {
    "collapsed": false,
    "pycharm": {
     "name": "#%%\n"
    }
   }
  },
  {
   "cell_type": "code",
   "execution_count": 4,
   "outputs": [],
   "source": [
    "edition_date = datetime.strptime('2022-08-05', '%Y-%m-%d')\n",
    "edition = ListEdition.objects.get(date=edition_date)\n",
    "hd51 = HseMap.objects.get(district='051')\n",
    "hd51.edition = edition"
   ],
   "metadata": {
    "collapsed": false,
    "pycharm": {
     "name": "#%%\n"
    }
   }
  },
  {
   "cell_type": "code",
   "execution_count": 38,
   "outputs": [],
   "source": [
    "walklist = Walklist(hd51)\n",
    "\n"
   ],
   "metadata": {
    "collapsed": false,
    "pycharm": {
     "name": "#%%\n"
    }
   }
  },
  {
   "cell_type": "code",
   "execution_count": null,
   "outputs": [],
   "source": [
    "d.head(20)"
   ],
   "metadata": {
    "collapsed": false,
    "pycharm": {
     "name": "#%%\n",
     "is_executing": true
    }
   }
  },
  {
   "cell_type": "code",
   "execution_count": null,
   "outputs": [],
   "source": [
    "m = walklist.build_address_score_map()"
   ],
   "metadata": {
    "collapsed": false,
    "pycharm": {
     "name": "#%%\n",
     "is_executing": true
    }
   }
  },
  {
   "cell_type": "code",
   "execution_count": null,
   "outputs": [],
   "source": [
    "m.show()"
   ],
   "metadata": {
    "collapsed": false,
    "pycharm": {
     "name": "#%%\n",
     "is_executing": true
    }
   }
  },
  {
   "cell_type": "code",
   "execution_count": null,
   "outputs": [],
   "source": [],
   "metadata": {
    "collapsed": false,
    "pycharm": {
     "name": "#%%\n"
    }
   }
  }
 ],
 "metadata": {
  "kernelspec": {
   "display_name": "Python 3",
   "language": "python",
   "name": "python3"
  },
  "language_info": {
   "codemirror_mode": {
    "name": "ipython",
    "version": 2
   },
   "file_extension": ".py",
   "mimetype": "text/x-python",
   "name": "python",
   "nbconvert_exporter": "python",
   "pygments_lexer": "ipython2",
   "version": "2.7.6"
  }
 },
 "nbformat": 4,
 "nbformat_minor": 0
}