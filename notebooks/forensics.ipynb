{
 "cells": [
  {
   "cell_type": "code",
   "execution_count": 1,
   "outputs": [],
   "source": [
    "%load_ext autoreload\n",
    "%autoreload 2"
   ],
   "metadata": {
    "collapsed": false,
    "pycharm": {
     "name": "#%%\n"
    }
   }
  },
  {
   "cell_type": "code",
   "execution_count": 2,
   "outputs": [],
   "source": [
    "import django\n",
    "import os\n",
    "\n",
    "os.environ['DJANGO_SETTINGS_MODULE'] = 'dashboard.settings'\n",
    "os.environ[\"DJANGO_ALLOW_ASYNC_UNSAFE\"] = \"true\"\n",
    "django.setup()"
   ],
   "metadata": {
    "collapsed": false,
    "pycharm": {
     "name": "#%%\n"
    }
   }
  },
  {
   "cell_type": "code",
   "execution_count": 20,
   "outputs": [],
   "source": [
    "import pandas as pd\n",
    "from data.voterdb import VoterDb"
   ],
   "metadata": {
    "collapsed": false,
    "pycharm": {
     "name": "#%%\n"
    }
   }
  },
  {
   "cell_type": "code",
   "execution_count": 21,
   "outputs": [],
   "source": [
    "db = VoterDb()"
   ],
   "metadata": {
    "collapsed": false,
    "pycharm": {
     "name": "#%%\n"
    }
   }
  },
  {
   "cell_type": "code",
   "execution_count": 90,
   "outputs": [
    {
     "data": {
      "text/plain": "652815"
     },
     "execution_count": 90,
     "metadata": {},
     "output_type": "execute_result"
    }
   ],
   "source": [
    "results = db.fetchall(f\"\"\"\n",
    "    select * from voter_history_summary where county_code='060'\n",
    "\"\"\")\n",
    "len(results)"
   ],
   "metadata": {
    "collapsed": false,
    "pycharm": {
     "name": "#%%\n"
    }
   }
  },
  {
   "cell_type": "code",
   "execution_count": 91,
   "outputs": [
    {
     "name": "stdout",
     "output_type": "stream",
     "text": [
      "total fulton voters = 652815\n"
     ]
    }
   ],
   "source": [
    "df = pd.DataFrame.from_records(results, columns=['voter_id', 'county_code',\n",
    "                                                 'd2014_05_20', 'd2014_11_04',\n",
    "                                                 'd2016_05_24', 'd2016_11_08',\n",
    "                                                 'd2018_05_22', 'd2018_11_06',\n",
    "                                                 'd2020_06_09', 'd2020_11_03',\n",
    "                                                 'd2022_05_24'])\n",
    "print(f'total fulton voters = {len(df.index)}')"
   ],
   "metadata": {
    "collapsed": false,
    "pycharm": {
     "name": "#%%\n"
    }
   }
  },
  {
   "cell_type": "markdown",
   "source": [],
   "metadata": {
    "collapsed": false,
    "pycharm": {
     "name": "#%% md\n"
    }
   }
  },
  {
   "cell_type": "code",
   "execution_count": 92,
   "outputs": [],
   "source": [
    "def only_one(row):\n",
    "    for x in row[2:9]:\n",
    "        if x is None:\n",
    "            continue\n",
    "        if x.find('X') == -1:\n",
    "            return False\n",
    "    return True"
   ],
   "metadata": {
    "collapsed": false,
    "pycharm": {
     "name": "#%%\n"
    }
   }
  },
  {
   "cell_type": "code",
   "execution_count": 93,
   "outputs": [
    {
     "name": "stdout",
     "output_type": "stream",
     "text": [
      "total fulton voters casting a ballot on 2020-11-3 = 523511\n",
      "total fulton voters with no history prior to 2020-11-3 = 89819\n",
      "Of the no history voters, the number of voters with opportunity for vote in 2018 general election = 44829\n",
      "turnout % fulton = 0.8019285708814902\n",
      "% no history fulton = 0.0856314384989045\n"
     ]
    }
   ],
   "source": [
    "df1 = df[df.d2020_11_03 == 'GG']\n",
    "print(f'total fulton voters casting a ballot on 2020-11-3 = {len(df1.index)}')\n",
    "df2 = df1.assign(only_2020=df1.apply(lambda row: only_one(row), axis=1))\n",
    "df3 = df2[df2.only_2020]\n",
    "print(f'total fulton voters with no history prior to 2020-11-3 = {len(df3.index)}')\n",
    "df4 = df3[df3.d2018_11_06 == 'XG']\n",
    "print(f'Of the no history voters, the number of voters with opportunity for vote in 2018 general election = {len(df4.index)}')\n",
    "print(f'turnout % fulton = {len(df1.index)/len(df.index)}')\n",
    "print(f'% no history fulton = {len(df4.index)/len(df1.index)}')\n"
   ],
   "metadata": {
    "collapsed": false,
    "pycharm": {
     "name": "#%%\n"
    }
   }
  },
  {
   "cell_type": "code",
   "execution_count": 94,
   "outputs": [
    {
     "name": "stdout",
     "output_type": "stream",
     "text": [
      "total cobb voters = 474865\n"
     ]
    }
   ],
   "source": [
    "results_cobb = db.fetchall(f\"\"\"\n",
    "    select * from voter_history_summary where county_code='033'\n",
    "\"\"\")\n",
    "\n",
    "df_cobb = pd.DataFrame.from_records(results_cobb, columns=['voter_id', 'county_code',\n",
    "                                                 'd2014_05_20', 'd2014_11_04',\n",
    "                                                 'd2016_05_24', 'd2016_11_08',\n",
    "                                                 'd2018_05_22', 'd2018_11_06',\n",
    "                                                 'd2020_06_09', 'd2020_11_03',\n",
    "                                                 'd2022_05_24'])\n",
    "print(f'total cobb voters = {len(df_cobb.index)}')"
   ],
   "metadata": {
    "collapsed": false,
    "pycharm": {
     "name": "#%%\n"
    }
   }
  },
  {
   "cell_type": "code",
   "execution_count": 95,
   "outputs": [
    {
     "name": "stdout",
     "output_type": "stream",
     "text": [
      "total cobb voters casting a ballot on 2020-11-3 = 394977\n",
      "total cobb voters with no history prior to 2020-11-3 = 62007\n",
      "Of the no history voters, the number of voters with opportunity for vote in 2018 general election = 31726\n",
      "turnout % cobb = 0.8317669232308129\n",
      "% no history cobb = 0.0803236644159027\n"
     ]
    }
   ],
   "source": [
    "df1_cobb = df_cobb[df_cobb.d2020_11_03 == 'GG']\n",
    "print(f'total cobb voters casting a ballot on 2020-11-3 = {len(df1_cobb.index)}')\n",
    "df2_cobb = df1_cobb.assign(only_2020=df1_cobb.apply(lambda row: only_one(row), axis=1))\n",
    "df3_cobb = df2_cobb[df2_cobb.only_2020]\n",
    "print(f'total cobb voters with no history prior to 2020-11-3 = {len(df3_cobb.index)}')\n",
    "df4_cobb = df3_cobb[df3_cobb.d2018_11_06 == 'XG']\n",
    "print(f'Of the no history voters, the number of voters with opportunity for vote in 2018 general election = {len(df4_cobb.index)}')\n",
    "print(f'turnout % cobb = {len(df1_cobb.index)/len(df_cobb.index)}')\n",
    "print(f'% no history cobb = {len(df4_cobb.index)/len(df1_cobb.index)}')"
   ],
   "metadata": {
    "collapsed": false,
    "pycharm": {
     "name": "#%%\n"
    }
   }
  },
  {
   "cell_type": "code",
   "execution_count": 78,
   "outputs": [],
   "source": [
    "from voter_history.models import VoterHistory\n"
   ],
   "metadata": {
    "collapsed": false,
    "pycharm": {
     "name": "#%%\n"
    }
   }
  },
  {
   "cell_type": "code",
   "execution_count": 96,
   "outputs": [
    {
     "data": {
      "text/plain": "(464734, 7)"
     },
     "execution_count": 96,
     "metadata": {},
     "output_type": "execute_result"
    }
   ],
   "source": [
    "k = VoterHistory.objects.get_history('060', '20201103')\n",
    "df5 = k[k.absentee]\n",
    "df5.shape"
   ],
   "metadata": {
    "collapsed": false,
    "pycharm": {
     "name": "#%%\n"
    }
   }
  },
  {
   "cell_type": "code",
   "execution_count": 98,
   "outputs": [
    {
     "name": "stdout",
     "output_type": "stream",
     "text": [
      "no history voters voting absentee or in advance = 34130\n",
      "% no history voters voting absentee or in advance = 0.7613375270472239\n",
      "% no history absentee fulton voters = 0.0651944276242524\n",
      "% only 1 or 2 voter households = 0.9951033002414811\n"
     ]
    }
   ],
   "source": [
    "df6 = df5[['voter_id']].merge(df4, on='voter_id', how='inner')\n",
    "print(f'no history voters voting absentee or in advance = {len(df6.index)}')\n",
    "print(f'% no history voters voting absentee or in advance = {len(df6.index)/len(df4.index)}')\n",
    "print(f'% no history absentee fulton voters = {len(df6.index)/len(df1.index)}')\n",
    "\n",
    "results = db.fetchall(f\"\"\"\n",
    "    select av.voter_id, av.address_id\n",
    "    from address_voter as av\n",
    "    join voter_precinct as vp on av.voter_id = vp.voter_id\n",
    "    join precinct_details pd on vp.precinct_id = pd.id\n",
    "    where pd.county_code = '060'\n",
    "\"\"\")\n",
    "df7 = pd.DataFrame.from_records(results, columns=['voter_id', 'address_id'])\n",
    "df8 = df7.merge(df6, on='voter_id', how='inner')\n",
    "df9 = df8.groupby(['address_id'])['address_id'].count().sort_values(ascending=False)\n",
    "print(f'% only 1 or 2 voter households = {len(df9[df9 <= 2].index)/len(df9.index)}')\n"
   ],
   "metadata": {
    "collapsed": false,
    "pycharm": {
     "name": "#%%\n"
    }
   }
  },
  {
   "cell_type": "code",
   "execution_count": 99,
   "outputs": [],
   "source": [
    "k_cobb = VoterHistory.objects.get_history('033', '20201103')\n",
    "df5_cobb = k_cobb[k_cobb.absentee]"
   ],
   "metadata": {
    "collapsed": false,
    "pycharm": {
     "name": "#%%\n"
    }
   }
  },
  {
   "cell_type": "code",
   "execution_count": 101,
   "outputs": [
    {
     "name": "stdout",
     "output_type": "stream",
     "text": [
      "no history voters voting absentee or in advance = 22133\n",
      "% no history voters voting absentee or in advance = 0.6976297043434407\n",
      "% no history absentee cobb voters = 0.05603617425824795\n",
      "% only 1 or 2 voter households = 1.0\n"
     ]
    }
   ],
   "source": [
    "df6_cobb = df5_cobb[['voter_id']].merge(df4_cobb, on='voter_id', how='inner')\n",
    "print(f'no history voters voting absentee or in advance = {len(df6_cobb.index)}')\n",
    "print(f'% no history voters voting absentee or in advance = {len(df6_cobb.index)/len(df4_cobb.index)}')\n",
    "print(f'% no history absentee cobb voters = {len(df6_cobb.index)/len(df1_cobb.index)}')\n",
    "results = db.fetchall(f\"\"\"\n",
    "    select av.voter_id, av.address_id\n",
    "    from address_voter as av\n",
    "    join voter_precinct as vp on av.voter_id = vp.voter_id\n",
    "    join precinct_details pd on vp.precinct_id = pd.id\n",
    "    where pd.county_code = '060'\n",
    "\"\"\")\n",
    "df7_cobb = pd.DataFrame.from_records(results, columns=['voter_id', 'address_id'])\n",
    "df8_cobb = df7_cobb.merge(df6_cobb, on='voter_id', how='inner')\n",
    "df9_cobb = df8_cobb.groupby(['address_id'])['address_id'].count().sort_values(ascending=False)\n",
    "print(f'% only 1 or 2 voter households = {len(df9_cobb[df9_cobb <= 2].index)/len(df9_cobb.index)}')"
   ],
   "metadata": {
    "collapsed": false,
    "pycharm": {
     "name": "#%%\n"
    }
   }
  },
  {
   "cell_type": "code",
   "execution_count": 65,
   "outputs": [
    {
     "data": {
      "text/plain": "race_id\nAI      113\nAP     2147\nBH    10633\nHP     1028\nOT      971\nU      2951\nWH    12025\nName: race_id, dtype: int64"
     },
     "execution_count": 65,
     "metadata": {},
     "output_type": "execute_result"
    }
   ],
   "source": [
    "df11.groupby(['race_id'])['race_id'].count()"
   ],
   "metadata": {
    "collapsed": false,
    "pycharm": {
     "name": "#%%\n"
    }
   }
  },
  {
   "cell_type": "code",
   "execution_count": null,
   "outputs": [],
   "source": [],
   "metadata": {
    "collapsed": false,
    "pycharm": {
     "name": "#%%\n"
    }
   }
  }
 ],
 "metadata": {
  "kernelspec": {
   "display_name": "Python 3",
   "language": "python",
   "name": "python3"
  },
  "language_info": {
   "codemirror_mode": {
    "name": "ipython",
    "version": 2
   },
   "file_extension": ".py",
   "mimetype": "text/x-python",
   "name": "python",
   "nbconvert_exporter": "python",
   "pygments_lexer": "ipython2",
   "version": "2.7.6"
  }
 },
 "nbformat": 4,
 "nbformat_minor": 0
}