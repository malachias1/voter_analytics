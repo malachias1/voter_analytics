{
 "cells": [
  {
   "cell_type": "code",
   "execution_count": 1,
   "outputs": [],
   "source": [
    "import pandas as pd\n",
    "%load_ext autoreload\n",
    "%autoreload 2"
   ],
   "metadata": {
    "collapsed": false,
    "pycharm": {
     "name": "#%%\n"
    }
   }
  },
  {
   "cell_type": "code",
   "execution_count": 2,
   "outputs": [],
   "source": [
    "import django\n",
    "import os\n",
    "\n",
    "os.environ['DJANGO_SETTINGS_MODULE'] = 'dashboard.settings'\n",
    "os.environ[\"DJANGO_ALLOW_ASYNC_UNSAFE\"] = \"true\"\n",
    "django.setup()"
   ],
   "metadata": {
    "collapsed": false,
    "pycharm": {
     "name": "#%%\n"
    }
   }
  },
  {
   "cell_type": "code",
   "execution_count": 18,
   "outputs": [],
   "source": [
    "from math import sqrt"
   ],
   "metadata": {
    "collapsed": false,
    "pycharm": {
     "name": "#%%\n"
    }
   }
  },
  {
   "cell_type": "code",
   "execution_count": 4,
   "outputs": [
    {
     "data": {
      "text/plain": "[0.25,\n 0.21428571428571427,\n 0.17857142857142858,\n 0.14285714285714285,\n 0.10714285714285714,\n 0.07142857142857142,\n 0.03571428571428571]"
     },
     "execution_count": 4,
     "metadata": {},
     "output_type": "execute_result"
    }
   ],
   "source": [
    "W = []\n",
    "N = 7\n",
    "for i in range(N):\n",
    "    W.append(2*(N - (i + 1) + 1)/(N*(N+1)))\n",
    "W"
   ],
   "metadata": {
    "collapsed": false,
    "pycharm": {
     "name": "#%%\n"
    }
   }
  },
  {
   "cell_type": "code",
   "execution_count": 19,
   "outputs": [
    {
     "data": {
      "text/plain": "               issue  race_rank  age_rank      group   weights\n0            economy          2         4  BH_a18_29  0.174964\n49           economy          1         4  HP_a18_29  0.188982\n98           economy          1         4  WH_a18_29  0.188982\n147        education          1         2  BH_a18_29  0.231455\n196        education          3         2  HP_a18_29  0.195615\n...              ...        ...       ...        ...       ...\n3871     immigration          5         3    HP_a65p  0.138321\n3920     immigration          5         3    WH_a65p  0.138321\n3969  climate_change          7         7    BH_a65p  0.035714\n4018  climate_change          7         7    HP_a65p  0.035714\n4067  climate_change          7         7    WH_a65p  0.035714\n\n[84 rows x 5 columns]",
      "text/html": "<div>\n<style scoped>\n    .dataframe tbody tr th:only-of-type {\n        vertical-align: middle;\n    }\n\n    .dataframe tbody tr th {\n        vertical-align: top;\n    }\n\n    .dataframe thead th {\n        text-align: right;\n    }\n</style>\n<table border=\"1\" class=\"dataframe\">\n  <thead>\n    <tr style=\"text-align: right;\">\n      <th></th>\n      <th>issue</th>\n      <th>race_rank</th>\n      <th>age_rank</th>\n      <th>group</th>\n      <th>weights</th>\n    </tr>\n  </thead>\n  <tbody>\n    <tr>\n      <th>0</th>\n      <td>economy</td>\n      <td>2</td>\n      <td>4</td>\n      <td>BH_a18_29</td>\n      <td>0.174964</td>\n    </tr>\n    <tr>\n      <th>49</th>\n      <td>economy</td>\n      <td>1</td>\n      <td>4</td>\n      <td>HP_a18_29</td>\n      <td>0.188982</td>\n    </tr>\n    <tr>\n      <th>98</th>\n      <td>economy</td>\n      <td>1</td>\n      <td>4</td>\n      <td>WH_a18_29</td>\n      <td>0.188982</td>\n    </tr>\n    <tr>\n      <th>147</th>\n      <td>education</td>\n      <td>1</td>\n      <td>2</td>\n      <td>BH_a18_29</td>\n      <td>0.231455</td>\n    </tr>\n    <tr>\n      <th>196</th>\n      <td>education</td>\n      <td>3</td>\n      <td>2</td>\n      <td>HP_a18_29</td>\n      <td>0.195615</td>\n    </tr>\n    <tr>\n      <th>...</th>\n      <td>...</td>\n      <td>...</td>\n      <td>...</td>\n      <td>...</td>\n      <td>...</td>\n    </tr>\n    <tr>\n      <th>3871</th>\n      <td>immigration</td>\n      <td>5</td>\n      <td>3</td>\n      <td>HP_a65p</td>\n      <td>0.138321</td>\n    </tr>\n    <tr>\n      <th>3920</th>\n      <td>immigration</td>\n      <td>5</td>\n      <td>3</td>\n      <td>WH_a65p</td>\n      <td>0.138321</td>\n    </tr>\n    <tr>\n      <th>3969</th>\n      <td>climate_change</td>\n      <td>7</td>\n      <td>7</td>\n      <td>BH_a65p</td>\n      <td>0.035714</td>\n    </tr>\n    <tr>\n      <th>4018</th>\n      <td>climate_change</td>\n      <td>7</td>\n      <td>7</td>\n      <td>HP_a65p</td>\n      <td>0.035714</td>\n    </tr>\n    <tr>\n      <th>4067</th>\n      <td>climate_change</td>\n      <td>7</td>\n      <td>7</td>\n      <td>WH_a65p</td>\n      <td>0.035714</td>\n    </tr>\n  </tbody>\n</table>\n<p>84 rows × 5 columns</p>\n</div>"
     },
     "execution_count": 19,
     "metadata": {},
     "output_type": "execute_result"
    }
   ],
   "source": [
    "priorities_by_race = pd.DataFrame.from_records([\n",
    "    {'race_id': 'BH', 'issue': 'economy', 'race_rank': 2},\n",
    "    {'race_id': 'BH', 'issue': 'education', 'race_rank': 1},\n",
    "    {'race_id': 'BH', 'issue': 'healthcare', 'race_rank': 3},\n",
    "    {'race_id': 'BH', 'issue': 'crime', 'race_rank': 4},\n",
    "    {'race_id': 'BH', 'issue': 'criminal_justice', 'race_rank': 5},\n",
    "    {'race_id': 'BH', 'issue': 'immigration', 'race_rank': 6},\n",
    "    {'race_id': 'BH', 'issue': 'climate_change', 'race_rank': 7},\n",
    "\n",
    "    {'race_id': 'HP', 'issue': 'economy', 'race_rank': 1},\n",
    "    {'race_id': 'HP', 'issue': 'education', 'race_rank': 3},\n",
    "    {'race_id': 'HP', 'issue': 'healthcare', 'race_rank': 2},\n",
    "    {'race_id': 'HP', 'issue': 'crime', 'race_rank': 4},\n",
    "    {'race_id': 'HP', 'issue': 'criminal_justice', 'race_rank': 6},\n",
    "    {'race_id': 'HP', 'issue': 'immigration', 'race_rank': 5},\n",
    "    {'race_id': 'HP', 'issue': 'climate_change', 'race_rank': 7},\n",
    "\n",
    "    {'race_id': 'WH', 'issue': 'economy', 'race_rank': 1},\n",
    "    {'race_id': 'WH', 'issue': 'education', 'race_rank': 3},\n",
    "    {'race_id': 'WH', 'issue': 'healthcare', 'race_rank': 2},\n",
    "    {'race_id': 'WH', 'issue': 'crime', 'race_rank': 4},\n",
    "    {'race_id': 'WH', 'issue': 'criminal_justice', 'race_rank': 6},\n",
    "    {'race_id': 'WH', 'issue': 'immigration', 'race_rank': 5},\n",
    "    {'race_id': 'WH', 'issue': 'climate_change', 'race_rank': 7}\n",
    "])\n",
    "\n",
    "priorities_by_age = pd.DataFrame.from_records([\n",
    "    {'age_group': 'a18_29', 'issue': 'economy', 'age_rank': 4},\n",
    "    {'age_group': 'a18_29', 'issue': 'education', 'age_rank': 2},\n",
    "    {'age_group': 'a18_29', 'issue': 'healthcare', 'age_rank': 1},\n",
    "    {'age_group': 'a18_29', 'issue': 'crime', 'age_rank': 6},\n",
    "    {'age_group': 'a18_29', 'issue': 'criminal_justice', 'age_rank': 5},\n",
    "    {'age_group': 'a18_29', 'issue': 'immigration', 'age_rank': 7},\n",
    "    {'age_group': 'a18_29', 'issue': 'climate_change', 'age_rank': 3},\n",
    "\n",
    "    {'age_group': 'a30_49', 'issue': 'economy', 'age_rank': 1},\n",
    "    {'age_group': 'a30_49', 'issue': 'education', 'age_rank': 2},\n",
    "    {'age_group': 'a30_49', 'issue': 'healthcare', 'age_rank': 3},\n",
    "    {'age_group': 'a30_49', 'issue': 'crime', 'age_rank': 4},\n",
    "    {'age_group': 'a30_49', 'issue': 'criminal_justice', 'age_rank': 5},\n",
    "    {'age_group': 'a30_49', 'issue': 'immigration', 'age_rank': 6},\n",
    "    {'age_group': 'a30_49', 'issue': 'climate_change', 'age_rank': 7},\n",
    "\n",
    "    {'age_group': 'a50_64', 'issue': 'economy', 'age_rank': 1},\n",
    "    {'age_group': 'a50_64', 'issue': 'education', 'age_rank': 5},\n",
    "    {'age_group': 'a50_64', 'issue': 'healthcare', 'age_rank': 2},\n",
    "    {'age_group': 'a50_64', 'issue': 'crime', 'age_rank': 3},\n",
    "    {'age_group': 'a50_64', 'issue': 'criminal_justice', 'age_rank': 6},\n",
    "    {'age_group': 'a50_64', 'issue': 'immigration', 'age_rank': 4},\n",
    "    {'age_group': 'a50_64', 'issue': 'climate_change', 'age_rank': 7},\n",
    "\n",
    "    {'age_group': 'a65p', 'issue': 'economy', 'age_rank': 1},\n",
    "    {'age_group': 'a65p', 'issue': 'education', 'age_rank': 5},\n",
    "    {'age_group': 'a65p', 'issue': 'healthcare', 'age_rank': 2},\n",
    "    {'age_group': 'a65p', 'issue': 'crime', 'age_rank': 4},\n",
    "    {'age_group': 'a65p', 'issue': 'criminal_justice', 'age_rank': 6},\n",
    "    {'age_group': 'a65p', 'issue': 'immigration', 'age_rank': 3},\n",
    "    {'age_group': 'a65p', 'issue': 'climate_change', 'age_rank': 7}\n",
    "\n",
    "])\n",
    "\n",
    "df = priorities_by_race[['race_id']].merge(priorities_by_age[['age_group']], how='cross')\n",
    "df = df.merge(priorities_by_race, on='race_id', how='inner')\n",
    "df = df.merge(priorities_by_age, on=['age_group', 'issue'], how='inner').drop_duplicates()\n",
    "df = df.assign(group=df.race_id + '_' + df.age_group).drop(columns=['race_id', 'age_group'])\n",
    "\n",
    "weights = []\n",
    "for i in df.index:\n",
    "    row = df.loc[i]\n",
    "    weights.append(sqrt(W[row.race_rank-1]*W[row.age_rank-1]))\n",
    "df = df.assign(weights=weights)\n",
    "df"
   ],
   "metadata": {
    "collapsed": false,
    "pycharm": {
     "name": "#%%\n"
    }
   }
  },
  {
   "cell_type": "code",
   "execution_count": 20,
   "outputs": [
    {
     "data": {
      "text/plain": "0.17496355305594127"
     },
     "execution_count": 20,
     "metadata": {},
     "output_type": "execute_result"
    }
   ],
   "source": [
    "sqrt(W[1]*W[3])"
   ],
   "metadata": {
    "collapsed": false,
    "pycharm": {
     "name": "#%%\n"
    }
   }
  },
  {
   "cell_type": "code",
   "execution_count": 21,
   "outputs": [
    {
     "data": {
      "text/plain": "0.9562324511318894"
     },
     "execution_count": 21,
     "metadata": {},
     "output_type": "execute_result"
    }
   ],
   "source": [
    "sum(df[df.group=='BH_a18_29'].weights)"
   ],
   "metadata": {
    "collapsed": false,
    "pycharm": {
     "name": "#%%\n"
    }
   }
  },
  {
   "cell_type": "code",
   "execution_count": 6,
   "outputs": [
    {
     "ename": "KeyboardInterrupt",
     "evalue": "",
     "output_type": "error",
     "traceback": [
      "\u001B[0;31m---------------------------------------------------------------------------\u001B[0m",
      "\u001B[0;31mKeyboardInterrupt\u001B[0m                         Traceback (most recent call last)",
      "Input \u001B[0;32mIn [6]\u001B[0m, in \u001B[0;36m<cell line: 4>\u001B[0;34m()\u001B[0m\n\u001B[1;32m      4\u001B[0m \u001B[38;5;28;01mfor\u001B[39;00m i \u001B[38;5;129;01min\u001B[39;00m priorities_by_age\u001B[38;5;241m.\u001B[39mindex:\n\u001B[1;32m      5\u001B[0m     age_row \u001B[38;5;241m=\u001B[39m priorities_by_age\u001B[38;5;241m.\u001B[39mloc[i]\n\u001B[0;32m----> 6\u001B[0m     \u001B[38;5;28;01mfor\u001B[39;00m j \u001B[38;5;129;01min\u001B[39;00m \u001B[43mpriorities_by_race\u001B[49m\u001B[38;5;241m.\u001B[39mindex:\n\u001B[1;32m      7\u001B[0m         race_row \u001B[38;5;241m=\u001B[39m priorities_by_race\u001B[38;5;241m.\u001B[39mloc[j]\n\u001B[1;32m      8\u001B[0m         \u001B[38;5;28mprint\u001B[39m(race_row)\n",
      "Input \u001B[0;32mIn [6]\u001B[0m, in \u001B[0;36m<cell line: 4>\u001B[0;34m()\u001B[0m\n\u001B[1;32m      4\u001B[0m \u001B[38;5;28;01mfor\u001B[39;00m i \u001B[38;5;129;01min\u001B[39;00m priorities_by_age\u001B[38;5;241m.\u001B[39mindex:\n\u001B[1;32m      5\u001B[0m     age_row \u001B[38;5;241m=\u001B[39m priorities_by_age\u001B[38;5;241m.\u001B[39mloc[i]\n\u001B[0;32m----> 6\u001B[0m     \u001B[38;5;28;01mfor\u001B[39;00m j \u001B[38;5;129;01min\u001B[39;00m \u001B[43mpriorities_by_race\u001B[49m\u001B[38;5;241m.\u001B[39mindex:\n\u001B[1;32m      7\u001B[0m         race_row \u001B[38;5;241m=\u001B[39m priorities_by_race\u001B[38;5;241m.\u001B[39mloc[j]\n\u001B[1;32m      8\u001B[0m         \u001B[38;5;28mprint\u001B[39m(race_row)\n",
      "File \u001B[0;32m_pydevd_bundle/pydevd_cython_darwin_39_64.pyx:1179\u001B[0m, in \u001B[0;36m_pydevd_bundle.pydevd_cython_darwin_39_64.SafeCallWrapper.__call__\u001B[0;34m()\u001B[0m\n",
      "File \u001B[0;32m_pydevd_bundle/pydevd_cython_darwin_39_64.pyx:620\u001B[0m, in \u001B[0;36m_pydevd_bundle.pydevd_cython_darwin_39_64.PyDBFrame.trace_dispatch\u001B[0;34m()\u001B[0m\n",
      "File \u001B[0;32m_pydevd_bundle/pydevd_cython_darwin_39_64.pyx:1095\u001B[0m, in \u001B[0;36m_pydevd_bundle.pydevd_cython_darwin_39_64.PyDBFrame.trace_dispatch\u001B[0;34m()\u001B[0m\n",
      "File \u001B[0;32m_pydevd_bundle/pydevd_cython_darwin_39_64.pyx:1053\u001B[0m, in \u001B[0;36m_pydevd_bundle.pydevd_cython_darwin_39_64.PyDBFrame.trace_dispatch\u001B[0;34m()\u001B[0m\n",
      "File \u001B[0;32m/Applications/PyCharm.app/Contents/plugins/python/helpers-pro/jupyter_debug/pydev_jupyter_plugin.py:165\u001B[0m, in \u001B[0;36mstop\u001B[0;34m(plugin, pydb, frame, event, args, stop_info, arg, step_cmd)\u001B[0m\n\u001B[1;32m    163\u001B[0m     frame \u001B[38;5;241m=\u001B[39m suspend_jupyter(main_debugger, thread, frame, step_cmd)\n\u001B[1;32m    164\u001B[0m     \u001B[38;5;28;01mif\u001B[39;00m frame:\n\u001B[0;32m--> 165\u001B[0m         \u001B[43mmain_debugger\u001B[49m\u001B[38;5;241;43m.\u001B[39;49m\u001B[43mdo_wait_suspend\u001B[49m\u001B[43m(\u001B[49m\u001B[43mthread\u001B[49m\u001B[43m,\u001B[49m\u001B[43m \u001B[49m\u001B[43mframe\u001B[49m\u001B[43m,\u001B[49m\u001B[43m \u001B[49m\u001B[43mevent\u001B[49m\u001B[43m,\u001B[49m\u001B[43m \u001B[49m\u001B[43marg\u001B[49m\u001B[43m)\u001B[49m\n\u001B[1;32m    166\u001B[0m         \u001B[38;5;28;01mreturn\u001B[39;00m \u001B[38;5;28;01mTrue\u001B[39;00m\n\u001B[1;32m    167\u001B[0m \u001B[38;5;28;01mreturn\u001B[39;00m \u001B[38;5;28;01mFalse\u001B[39;00m\n",
      "File \u001B[0;32m/Applications/PyCharm.app/Contents/plugins/python/helpers/pydev/pydevd.py:1155\u001B[0m, in \u001B[0;36mPyDB.do_wait_suspend\u001B[0;34m(self, thread, frame, event, arg, send_suspend_message, is_unhandled_exception)\u001B[0m\n\u001B[1;32m   1152\u001B[0m         from_this_thread\u001B[38;5;241m.\u001B[39mappend(frame_id)\n\u001B[1;32m   1154\u001B[0m \u001B[38;5;28;01mwith\u001B[39;00m \u001B[38;5;28mself\u001B[39m\u001B[38;5;241m.\u001B[39m_threads_suspended_single_notification\u001B[38;5;241m.\u001B[39mnotify_thread_suspended(thread_id, stop_reason):\n\u001B[0;32m-> 1155\u001B[0m     \u001B[38;5;28;43mself\u001B[39;49m\u001B[38;5;241;43m.\u001B[39;49m\u001B[43m_do_wait_suspend\u001B[49m\u001B[43m(\u001B[49m\u001B[43mthread\u001B[49m\u001B[43m,\u001B[49m\u001B[43m \u001B[49m\u001B[43mframe\u001B[49m\u001B[43m,\u001B[49m\u001B[43m \u001B[49m\u001B[43mevent\u001B[49m\u001B[43m,\u001B[49m\u001B[43m \u001B[49m\u001B[43marg\u001B[49m\u001B[43m,\u001B[49m\u001B[43m \u001B[49m\u001B[43msuspend_type\u001B[49m\u001B[43m,\u001B[49m\u001B[43m \u001B[49m\u001B[43mfrom_this_thread\u001B[49m\u001B[43m)\u001B[49m\n",
      "File \u001B[0;32m/Applications/PyCharm.app/Contents/plugins/python/helpers/pydev/pydevd.py:1170\u001B[0m, in \u001B[0;36mPyDB._do_wait_suspend\u001B[0;34m(self, thread, frame, event, arg, suspend_type, from_this_thread)\u001B[0m\n\u001B[1;32m   1167\u001B[0m             \u001B[38;5;28mself\u001B[39m\u001B[38;5;241m.\u001B[39m_call_mpl_hook()\n\u001B[1;32m   1169\u001B[0m         \u001B[38;5;28mself\u001B[39m\u001B[38;5;241m.\u001B[39mprocess_internal_commands()\n\u001B[0;32m-> 1170\u001B[0m         \u001B[43mtime\u001B[49m\u001B[38;5;241;43m.\u001B[39;49m\u001B[43msleep\u001B[49m\u001B[43m(\u001B[49m\u001B[38;5;241;43m0.01\u001B[39;49m\u001B[43m)\u001B[49m\n\u001B[1;32m   1172\u001B[0m \u001B[38;5;28mself\u001B[39m\u001B[38;5;241m.\u001B[39mcancel_async_evaluation(get_current_thread_id(thread), \u001B[38;5;28mstr\u001B[39m(\u001B[38;5;28mid\u001B[39m(frame)))\n\u001B[1;32m   1174\u001B[0m \u001B[38;5;66;03m# process any stepping instructions\u001B[39;00m\n",
      "\u001B[0;31mKeyboardInterrupt\u001B[0m: "
     ]
    }
   ],
   "source": [
    "from math import sqrt\n",
    "records = []\n",
    "\n",
    "for i in priorities_by_age.index:\n",
    "    age_row = priorities_by_age.loc[i]\n",
    "    for j in priorities_by_race.index:\n",
    "        race_row = priorities_by_race.loc[j]\n",
    "        print(race_row)\n",
    "        print(race_row['rank'])\n",
    "        w = sqrt(W[race_row['rank']-1]*W[age_row['rank']-1])\n",
    "        records.append({'race_age': f'{race_row.race_id}_{age_row.age_group}',\n",
    "                        'issue': race_row.issue,\n",
    "                        'weight': w})\n",
    "\n",
    "W_df= pd.DataFrame.from_records(records)\n",
    "W_df"
   ],
   "metadata": {
    "collapsed": false,
    "pycharm": {
     "name": "#%%\n"
    }
   }
  },
  {
   "cell_type": "code",
   "execution_count": 17,
   "outputs": [
    {
     "data": {
      "text/plain": "6.487320885255252"
     },
     "execution_count": 17,
     "metadata": {},
     "output_type": "execute_result"
    }
   ],
   "source": [
    "sum(W_df[W_df.race_age=='BH_a18_29'].weight)"
   ],
   "metadata": {
    "collapsed": false,
    "pycharm": {
     "name": "#%%\n"
    }
   }
  },
  {
   "cell_type": "code",
   "execution_count": 20,
   "outputs": [
    {
     "data": {
      "text/plain": "      race_age             issue    weight\n0    BH_a18_29           economy  0.174964\n1    BH_a18_29         education  0.188982\n2    BH_a18_29        healthcare  0.159719\n3    BH_a18_29             crime  0.142857\n4    BH_a18_29  criminal_justice  0.123718\n5    BH_a18_29       immigration  0.101015\n6    BH_a18_29    climate_change  0.071429\n21   BH_a18_29           economy  0.214286\n22   BH_a18_29         education  0.231455\n23   BH_a18_29        healthcare  0.195615\n24   BH_a18_29             crime  0.174964\n25   BH_a18_29  criminal_justice  0.151523\n26   BH_a18_29       immigration  0.123718\n27   BH_a18_29    climate_change  0.087482\n42   BH_a18_29           economy  0.231455\n43   BH_a18_29         education  0.250000\n44   BH_a18_29        healthcare  0.211289\n45   BH_a18_29             crime  0.188982\n46   BH_a18_29  criminal_justice  0.163663\n47   BH_a18_29       immigration  0.133631\n48   BH_a18_29    climate_change  0.094491\n63   BH_a18_29           economy  0.123718\n64   BH_a18_29         education  0.133631\n65   BH_a18_29        healthcare  0.112938\n66   BH_a18_29             crime  0.101015\n67   BH_a18_29  criminal_justice  0.087482\n68   BH_a18_29       immigration  0.071429\n69   BH_a18_29    climate_change  0.050508\n84   BH_a18_29           economy  0.151523\n85   BH_a18_29         education  0.163663\n86   BH_a18_29        healthcare  0.138321\n87   BH_a18_29             crime  0.123718\n88   BH_a18_29  criminal_justice  0.107143\n89   BH_a18_29       immigration  0.087482\n90   BH_a18_29    climate_change  0.061859\n105  BH_a18_29           economy  0.087482\n106  BH_a18_29         education  0.094491\n107  BH_a18_29        healthcare  0.079860\n108  BH_a18_29             crime  0.071429\n109  BH_a18_29  criminal_justice  0.061859\n110  BH_a18_29       immigration  0.050508\n111  BH_a18_29    climate_change  0.035714\n126  BH_a18_29           economy  0.195615\n127  BH_a18_29         education  0.211289\n128  BH_a18_29        healthcare  0.178571\n129  BH_a18_29             crime  0.159719\n130  BH_a18_29  criminal_justice  0.138321\n131  BH_a18_29       immigration  0.112938\n132  BH_a18_29    climate_change  0.079860",
      "text/html": "<div>\n<style scoped>\n    .dataframe tbody tr th:only-of-type {\n        vertical-align: middle;\n    }\n\n    .dataframe tbody tr th {\n        vertical-align: top;\n    }\n\n    .dataframe thead th {\n        text-align: right;\n    }\n</style>\n<table border=\"1\" class=\"dataframe\">\n  <thead>\n    <tr style=\"text-align: right;\">\n      <th></th>\n      <th>race_age</th>\n      <th>issue</th>\n      <th>weight</th>\n    </tr>\n  </thead>\n  <tbody>\n    <tr>\n      <th>0</th>\n      <td>BH_a18_29</td>\n      <td>economy</td>\n      <td>0.174964</td>\n    </tr>\n    <tr>\n      <th>1</th>\n      <td>BH_a18_29</td>\n      <td>education</td>\n      <td>0.188982</td>\n    </tr>\n    <tr>\n      <th>2</th>\n      <td>BH_a18_29</td>\n      <td>healthcare</td>\n      <td>0.159719</td>\n    </tr>\n    <tr>\n      <th>3</th>\n      <td>BH_a18_29</td>\n      <td>crime</td>\n      <td>0.142857</td>\n    </tr>\n    <tr>\n      <th>4</th>\n      <td>BH_a18_29</td>\n      <td>criminal_justice</td>\n      <td>0.123718</td>\n    </tr>\n    <tr>\n      <th>5</th>\n      <td>BH_a18_29</td>\n      <td>immigration</td>\n      <td>0.101015</td>\n    </tr>\n    <tr>\n      <th>6</th>\n      <td>BH_a18_29</td>\n      <td>climate_change</td>\n      <td>0.071429</td>\n    </tr>\n    <tr>\n      <th>21</th>\n      <td>BH_a18_29</td>\n      <td>economy</td>\n      <td>0.214286</td>\n    </tr>\n    <tr>\n      <th>22</th>\n      <td>BH_a18_29</td>\n      <td>education</td>\n      <td>0.231455</td>\n    </tr>\n    <tr>\n      <th>23</th>\n      <td>BH_a18_29</td>\n      <td>healthcare</td>\n      <td>0.195615</td>\n    </tr>\n    <tr>\n      <th>24</th>\n      <td>BH_a18_29</td>\n      <td>crime</td>\n      <td>0.174964</td>\n    </tr>\n    <tr>\n      <th>25</th>\n      <td>BH_a18_29</td>\n      <td>criminal_justice</td>\n      <td>0.151523</td>\n    </tr>\n    <tr>\n      <th>26</th>\n      <td>BH_a18_29</td>\n      <td>immigration</td>\n      <td>0.123718</td>\n    </tr>\n    <tr>\n      <th>27</th>\n      <td>BH_a18_29</td>\n      <td>climate_change</td>\n      <td>0.087482</td>\n    </tr>\n    <tr>\n      <th>42</th>\n      <td>BH_a18_29</td>\n      <td>economy</td>\n      <td>0.231455</td>\n    </tr>\n    <tr>\n      <th>43</th>\n      <td>BH_a18_29</td>\n      <td>education</td>\n      <td>0.250000</td>\n    </tr>\n    <tr>\n      <th>44</th>\n      <td>BH_a18_29</td>\n      <td>healthcare</td>\n      <td>0.211289</td>\n    </tr>\n    <tr>\n      <th>45</th>\n      <td>BH_a18_29</td>\n      <td>crime</td>\n      <td>0.188982</td>\n    </tr>\n    <tr>\n      <th>46</th>\n      <td>BH_a18_29</td>\n      <td>criminal_justice</td>\n      <td>0.163663</td>\n    </tr>\n    <tr>\n      <th>47</th>\n      <td>BH_a18_29</td>\n      <td>immigration</td>\n      <td>0.133631</td>\n    </tr>\n    <tr>\n      <th>48</th>\n      <td>BH_a18_29</td>\n      <td>climate_change</td>\n      <td>0.094491</td>\n    </tr>\n    <tr>\n      <th>63</th>\n      <td>BH_a18_29</td>\n      <td>economy</td>\n      <td>0.123718</td>\n    </tr>\n    <tr>\n      <th>64</th>\n      <td>BH_a18_29</td>\n      <td>education</td>\n      <td>0.133631</td>\n    </tr>\n    <tr>\n      <th>65</th>\n      <td>BH_a18_29</td>\n      <td>healthcare</td>\n      <td>0.112938</td>\n    </tr>\n    <tr>\n      <th>66</th>\n      <td>BH_a18_29</td>\n      <td>crime</td>\n      <td>0.101015</td>\n    </tr>\n    <tr>\n      <th>67</th>\n      <td>BH_a18_29</td>\n      <td>criminal_justice</td>\n      <td>0.087482</td>\n    </tr>\n    <tr>\n      <th>68</th>\n      <td>BH_a18_29</td>\n      <td>immigration</td>\n      <td>0.071429</td>\n    </tr>\n    <tr>\n      <th>69</th>\n      <td>BH_a18_29</td>\n      <td>climate_change</td>\n      <td>0.050508</td>\n    </tr>\n    <tr>\n      <th>84</th>\n      <td>BH_a18_29</td>\n      <td>economy</td>\n      <td>0.151523</td>\n    </tr>\n    <tr>\n      <th>85</th>\n      <td>BH_a18_29</td>\n      <td>education</td>\n      <td>0.163663</td>\n    </tr>\n    <tr>\n      <th>86</th>\n      <td>BH_a18_29</td>\n      <td>healthcare</td>\n      <td>0.138321</td>\n    </tr>\n    <tr>\n      <th>87</th>\n      <td>BH_a18_29</td>\n      <td>crime</td>\n      <td>0.123718</td>\n    </tr>\n    <tr>\n      <th>88</th>\n      <td>BH_a18_29</td>\n      <td>criminal_justice</td>\n      <td>0.107143</td>\n    </tr>\n    <tr>\n      <th>89</th>\n      <td>BH_a18_29</td>\n      <td>immigration</td>\n      <td>0.087482</td>\n    </tr>\n    <tr>\n      <th>90</th>\n      <td>BH_a18_29</td>\n      <td>climate_change</td>\n      <td>0.061859</td>\n    </tr>\n    <tr>\n      <th>105</th>\n      <td>BH_a18_29</td>\n      <td>economy</td>\n      <td>0.087482</td>\n    </tr>\n    <tr>\n      <th>106</th>\n      <td>BH_a18_29</td>\n      <td>education</td>\n      <td>0.094491</td>\n    </tr>\n    <tr>\n      <th>107</th>\n      <td>BH_a18_29</td>\n      <td>healthcare</td>\n      <td>0.079860</td>\n    </tr>\n    <tr>\n      <th>108</th>\n      <td>BH_a18_29</td>\n      <td>crime</td>\n      <td>0.071429</td>\n    </tr>\n    <tr>\n      <th>109</th>\n      <td>BH_a18_29</td>\n      <td>criminal_justice</td>\n      <td>0.061859</td>\n    </tr>\n    <tr>\n      <th>110</th>\n      <td>BH_a18_29</td>\n      <td>immigration</td>\n      <td>0.050508</td>\n    </tr>\n    <tr>\n      <th>111</th>\n      <td>BH_a18_29</td>\n      <td>climate_change</td>\n      <td>0.035714</td>\n    </tr>\n    <tr>\n      <th>126</th>\n      <td>BH_a18_29</td>\n      <td>economy</td>\n      <td>0.195615</td>\n    </tr>\n    <tr>\n      <th>127</th>\n      <td>BH_a18_29</td>\n      <td>education</td>\n      <td>0.211289</td>\n    </tr>\n    <tr>\n      <th>128</th>\n      <td>BH_a18_29</td>\n      <td>healthcare</td>\n      <td>0.178571</td>\n    </tr>\n    <tr>\n      <th>129</th>\n      <td>BH_a18_29</td>\n      <td>crime</td>\n      <td>0.159719</td>\n    </tr>\n    <tr>\n      <th>130</th>\n      <td>BH_a18_29</td>\n      <td>criminal_justice</td>\n      <td>0.138321</td>\n    </tr>\n    <tr>\n      <th>131</th>\n      <td>BH_a18_29</td>\n      <td>immigration</td>\n      <td>0.112938</td>\n    </tr>\n    <tr>\n      <th>132</th>\n      <td>BH_a18_29</td>\n      <td>climate_change</td>\n      <td>0.079860</td>\n    </tr>\n  </tbody>\n</table>\n</div>"
     },
     "execution_count": 20,
     "metadata": {},
     "output_type": "execute_result"
    }
   ],
   "source": [
    "W_df[W_df.race_age=='BH_a18_29']"
   ],
   "metadata": {
    "collapsed": false,
    "pycharm": {
     "name": "#%%\n"
    }
   }
  },
  {
   "cell_type": "code",
   "execution_count": null,
   "outputs": [],
   "source": [],
   "metadata": {
    "collapsed": false,
    "pycharm": {
     "name": "#%%\n"
    }
   }
  }
 ],
 "metadata": {
  "kernelspec": {
   "display_name": "Python 3",
   "language": "python",
   "name": "python3"
  },
  "language_info": {
   "codemirror_mode": {
    "name": "ipython",
    "version": 2
   },
   "file_extension": ".py",
   "mimetype": "text/x-python",
   "name": "python",
   "nbconvert_exporter": "python",
   "pygments_lexer": "ipython2",
   "version": "2.7.6"
  }
 },
 "nbformat": 4,
 "nbformat_minor": 0
}