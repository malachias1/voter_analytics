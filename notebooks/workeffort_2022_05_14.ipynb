{
 "cells": [
  {
   "cell_type": "markdown",
   "source": [
    "# Voter List Cleansing\n",
    "\n",
    "Start Time 5/14 8:10\n",
    "Stop 9:18 PM\n",
    "Start 9:30 PM\n",
    "Stop 10:40\n",
    "\n",
    "5/15\n",
    "Start 8:30 AM\n",
    "Stop 9:00 AM\n",
    "Start 1:45 PM\n"
   ],
   "metadata": {
    "collapsed": false,
    "pycharm": {
     "name": "#%% md\n"
    }
   }
  },
  {
   "cell_type": "code",
   "execution_count": 1,
   "outputs": [],
   "source": [
    "import pandas as pd\n",
    "import numpy as np\n",
    "from pathlib import Path\n",
    "%load_ext autoreload\n",
    "%autoreload 2"
   ],
   "metadata": {
    "collapsed": false,
    "pycharm": {
     "name": "#%%\n"
    }
   }
  },
  {
   "cell_type": "code",
   "execution_count": 2,
   "outputs": [],
   "source": [
    "from data.voterdb import VoterDb\n",
    "from data.voter_list_ingest import IngestVoterList\n",
    "from util.search import VoterMatch"
   ],
   "metadata": {
    "collapsed": false,
    "pycharm": {
     "name": "#%%\n"
    }
   }
  },
  {
   "cell_type": "code",
   "execution_count": 3,
   "outputs": [
    {
     "ename": "FileNotFoundError",
     "evalue": "[Errno 2] No such file or directory: '../resources/pull-5-14-2022_20220514161547-REV.csv'",
     "output_type": "error",
     "traceback": [
      "\u001B[0;31m---------------------------------------------------------------------------\u001B[0m",
      "\u001B[0;31mFileNotFoundError\u001B[0m                         Traceback (most recent call last)",
      "Input \u001B[0;32mIn [3]\u001B[0m, in \u001B[0;36m<cell line: 1>\u001B[0;34m()\u001B[0m\n\u001B[0;32m----> 1\u001B[0m sample \u001B[38;5;241m=\u001B[39m \u001B[43mpd\u001B[49m\u001B[38;5;241;43m.\u001B[39;49m\u001B[43mread_csv\u001B[49m\u001B[43m(\u001B[49m\u001B[38;5;124;43m'\u001B[39;49m\u001B[38;5;124;43m../resources/pull-5-14-2022_20220514161547-REV.csv\u001B[39;49m\u001B[38;5;124;43m'\u001B[39;49m\u001B[43m,\u001B[49m\u001B[43m \u001B[49m\u001B[43mdtype\u001B[49m\u001B[38;5;241;43m=\u001B[39;49m\u001B[38;5;28;43mstr\u001B[39;49m\u001B[43m)\u001B[49m\n\u001B[1;32m      2\u001B[0m \u001B[38;5;66;03m#sample = pd.read_csv('../resources/sample2.csv', dtype=str)\u001B[39;00m\n\u001B[1;32m      3\u001B[0m \u001B[38;5;28mprint\u001B[39m(sample\u001B[38;5;241m.\u001B[39mshape)\n",
      "File \u001B[0;32m/usr/local/lib/python3.9/site-packages/pandas/util/_decorators.py:311\u001B[0m, in \u001B[0;36mdeprecate_nonkeyword_arguments.<locals>.decorate.<locals>.wrapper\u001B[0;34m(*args, **kwargs)\u001B[0m\n\u001B[1;32m    305\u001B[0m \u001B[38;5;28;01mif\u001B[39;00m \u001B[38;5;28mlen\u001B[39m(args) \u001B[38;5;241m>\u001B[39m num_allow_args:\n\u001B[1;32m    306\u001B[0m     warnings\u001B[38;5;241m.\u001B[39mwarn(\n\u001B[1;32m    307\u001B[0m         msg\u001B[38;5;241m.\u001B[39mformat(arguments\u001B[38;5;241m=\u001B[39marguments),\n\u001B[1;32m    308\u001B[0m         \u001B[38;5;167;01mFutureWarning\u001B[39;00m,\n\u001B[1;32m    309\u001B[0m         stacklevel\u001B[38;5;241m=\u001B[39mstacklevel,\n\u001B[1;32m    310\u001B[0m     )\n\u001B[0;32m--> 311\u001B[0m \u001B[38;5;28;01mreturn\u001B[39;00m \u001B[43mfunc\u001B[49m\u001B[43m(\u001B[49m\u001B[38;5;241;43m*\u001B[39;49m\u001B[43margs\u001B[49m\u001B[43m,\u001B[49m\u001B[43m \u001B[49m\u001B[38;5;241;43m*\u001B[39;49m\u001B[38;5;241;43m*\u001B[39;49m\u001B[43mkwargs\u001B[49m\u001B[43m)\u001B[49m\n",
      "File \u001B[0;32m/usr/local/lib/python3.9/site-packages/pandas/io/parsers/readers.py:680\u001B[0m, in \u001B[0;36mread_csv\u001B[0;34m(filepath_or_buffer, sep, delimiter, header, names, index_col, usecols, squeeze, prefix, mangle_dupe_cols, dtype, engine, converters, true_values, false_values, skipinitialspace, skiprows, skipfooter, nrows, na_values, keep_default_na, na_filter, verbose, skip_blank_lines, parse_dates, infer_datetime_format, keep_date_col, date_parser, dayfirst, cache_dates, iterator, chunksize, compression, thousands, decimal, lineterminator, quotechar, quoting, doublequote, escapechar, comment, encoding, encoding_errors, dialect, error_bad_lines, warn_bad_lines, on_bad_lines, delim_whitespace, low_memory, memory_map, float_precision, storage_options)\u001B[0m\n\u001B[1;32m    665\u001B[0m kwds_defaults \u001B[38;5;241m=\u001B[39m _refine_defaults_read(\n\u001B[1;32m    666\u001B[0m     dialect,\n\u001B[1;32m    667\u001B[0m     delimiter,\n\u001B[0;32m   (...)\u001B[0m\n\u001B[1;32m    676\u001B[0m     defaults\u001B[38;5;241m=\u001B[39m{\u001B[38;5;124m\"\u001B[39m\u001B[38;5;124mdelimiter\u001B[39m\u001B[38;5;124m\"\u001B[39m: \u001B[38;5;124m\"\u001B[39m\u001B[38;5;124m,\u001B[39m\u001B[38;5;124m\"\u001B[39m},\n\u001B[1;32m    677\u001B[0m )\n\u001B[1;32m    678\u001B[0m kwds\u001B[38;5;241m.\u001B[39mupdate(kwds_defaults)\n\u001B[0;32m--> 680\u001B[0m \u001B[38;5;28;01mreturn\u001B[39;00m \u001B[43m_read\u001B[49m\u001B[43m(\u001B[49m\u001B[43mfilepath_or_buffer\u001B[49m\u001B[43m,\u001B[49m\u001B[43m \u001B[49m\u001B[43mkwds\u001B[49m\u001B[43m)\u001B[49m\n",
      "File \u001B[0;32m/usr/local/lib/python3.9/site-packages/pandas/io/parsers/readers.py:575\u001B[0m, in \u001B[0;36m_read\u001B[0;34m(filepath_or_buffer, kwds)\u001B[0m\n\u001B[1;32m    572\u001B[0m _validate_names(kwds\u001B[38;5;241m.\u001B[39mget(\u001B[38;5;124m\"\u001B[39m\u001B[38;5;124mnames\u001B[39m\u001B[38;5;124m\"\u001B[39m, \u001B[38;5;28;01mNone\u001B[39;00m))\n\u001B[1;32m    574\u001B[0m \u001B[38;5;66;03m# Create the parser.\u001B[39;00m\n\u001B[0;32m--> 575\u001B[0m parser \u001B[38;5;241m=\u001B[39m \u001B[43mTextFileReader\u001B[49m\u001B[43m(\u001B[49m\u001B[43mfilepath_or_buffer\u001B[49m\u001B[43m,\u001B[49m\u001B[43m \u001B[49m\u001B[38;5;241;43m*\u001B[39;49m\u001B[38;5;241;43m*\u001B[39;49m\u001B[43mkwds\u001B[49m\u001B[43m)\u001B[49m\n\u001B[1;32m    577\u001B[0m \u001B[38;5;28;01mif\u001B[39;00m chunksize \u001B[38;5;129;01mor\u001B[39;00m iterator:\n\u001B[1;32m    578\u001B[0m     \u001B[38;5;28;01mreturn\u001B[39;00m parser\n",
      "File \u001B[0;32m/usr/local/lib/python3.9/site-packages/pandas/io/parsers/readers.py:933\u001B[0m, in \u001B[0;36mTextFileReader.__init__\u001B[0;34m(self, f, engine, **kwds)\u001B[0m\n\u001B[1;32m    930\u001B[0m     \u001B[38;5;28mself\u001B[39m\u001B[38;5;241m.\u001B[39moptions[\u001B[38;5;124m\"\u001B[39m\u001B[38;5;124mhas_index_names\u001B[39m\u001B[38;5;124m\"\u001B[39m] \u001B[38;5;241m=\u001B[39m kwds[\u001B[38;5;124m\"\u001B[39m\u001B[38;5;124mhas_index_names\u001B[39m\u001B[38;5;124m\"\u001B[39m]\n\u001B[1;32m    932\u001B[0m \u001B[38;5;28mself\u001B[39m\u001B[38;5;241m.\u001B[39mhandles: IOHandles \u001B[38;5;241m|\u001B[39m \u001B[38;5;28;01mNone\u001B[39;00m \u001B[38;5;241m=\u001B[39m \u001B[38;5;28;01mNone\u001B[39;00m\n\u001B[0;32m--> 933\u001B[0m \u001B[38;5;28mself\u001B[39m\u001B[38;5;241m.\u001B[39m_engine \u001B[38;5;241m=\u001B[39m \u001B[38;5;28;43mself\u001B[39;49m\u001B[38;5;241;43m.\u001B[39;49m\u001B[43m_make_engine\u001B[49m\u001B[43m(\u001B[49m\u001B[43mf\u001B[49m\u001B[43m,\u001B[49m\u001B[43m \u001B[49m\u001B[38;5;28;43mself\u001B[39;49m\u001B[38;5;241;43m.\u001B[39;49m\u001B[43mengine\u001B[49m\u001B[43m)\u001B[49m\n",
      "File \u001B[0;32m/usr/local/lib/python3.9/site-packages/pandas/io/parsers/readers.py:1217\u001B[0m, in \u001B[0;36mTextFileReader._make_engine\u001B[0;34m(self, f, engine)\u001B[0m\n\u001B[1;32m   1213\u001B[0m     mode \u001B[38;5;241m=\u001B[39m \u001B[38;5;124m\"\u001B[39m\u001B[38;5;124mrb\u001B[39m\u001B[38;5;124m\"\u001B[39m\n\u001B[1;32m   1214\u001B[0m \u001B[38;5;66;03m# error: No overload variant of \"get_handle\" matches argument types\u001B[39;00m\n\u001B[1;32m   1215\u001B[0m \u001B[38;5;66;03m# \"Union[str, PathLike[str], ReadCsvBuffer[bytes], ReadCsvBuffer[str]]\"\u001B[39;00m\n\u001B[1;32m   1216\u001B[0m \u001B[38;5;66;03m# , \"str\", \"bool\", \"Any\", \"Any\", \"Any\", \"Any\", \"Any\"\u001B[39;00m\n\u001B[0;32m-> 1217\u001B[0m \u001B[38;5;28mself\u001B[39m\u001B[38;5;241m.\u001B[39mhandles \u001B[38;5;241m=\u001B[39m \u001B[43mget_handle\u001B[49m\u001B[43m(\u001B[49m\u001B[43m  \u001B[49m\u001B[38;5;66;43;03m# type: ignore[call-overload]\u001B[39;49;00m\n\u001B[1;32m   1218\u001B[0m \u001B[43m    \u001B[49m\u001B[43mf\u001B[49m\u001B[43m,\u001B[49m\n\u001B[1;32m   1219\u001B[0m \u001B[43m    \u001B[49m\u001B[43mmode\u001B[49m\u001B[43m,\u001B[49m\n\u001B[1;32m   1220\u001B[0m \u001B[43m    \u001B[49m\u001B[43mencoding\u001B[49m\u001B[38;5;241;43m=\u001B[39;49m\u001B[38;5;28;43mself\u001B[39;49m\u001B[38;5;241;43m.\u001B[39;49m\u001B[43moptions\u001B[49m\u001B[38;5;241;43m.\u001B[39;49m\u001B[43mget\u001B[49m\u001B[43m(\u001B[49m\u001B[38;5;124;43m\"\u001B[39;49m\u001B[38;5;124;43mencoding\u001B[39;49m\u001B[38;5;124;43m\"\u001B[39;49m\u001B[43m,\u001B[49m\u001B[43m \u001B[49m\u001B[38;5;28;43;01mNone\u001B[39;49;00m\u001B[43m)\u001B[49m\u001B[43m,\u001B[49m\n\u001B[1;32m   1221\u001B[0m \u001B[43m    \u001B[49m\u001B[43mcompression\u001B[49m\u001B[38;5;241;43m=\u001B[39;49m\u001B[38;5;28;43mself\u001B[39;49m\u001B[38;5;241;43m.\u001B[39;49m\u001B[43moptions\u001B[49m\u001B[38;5;241;43m.\u001B[39;49m\u001B[43mget\u001B[49m\u001B[43m(\u001B[49m\u001B[38;5;124;43m\"\u001B[39;49m\u001B[38;5;124;43mcompression\u001B[39;49m\u001B[38;5;124;43m\"\u001B[39;49m\u001B[43m,\u001B[49m\u001B[43m \u001B[49m\u001B[38;5;28;43;01mNone\u001B[39;49;00m\u001B[43m)\u001B[49m\u001B[43m,\u001B[49m\n\u001B[1;32m   1222\u001B[0m \u001B[43m    \u001B[49m\u001B[43mmemory_map\u001B[49m\u001B[38;5;241;43m=\u001B[39;49m\u001B[38;5;28;43mself\u001B[39;49m\u001B[38;5;241;43m.\u001B[39;49m\u001B[43moptions\u001B[49m\u001B[38;5;241;43m.\u001B[39;49m\u001B[43mget\u001B[49m\u001B[43m(\u001B[49m\u001B[38;5;124;43m\"\u001B[39;49m\u001B[38;5;124;43mmemory_map\u001B[39;49m\u001B[38;5;124;43m\"\u001B[39;49m\u001B[43m,\u001B[49m\u001B[43m \u001B[49m\u001B[38;5;28;43;01mFalse\u001B[39;49;00m\u001B[43m)\u001B[49m\u001B[43m,\u001B[49m\n\u001B[1;32m   1223\u001B[0m \u001B[43m    \u001B[49m\u001B[43mis_text\u001B[49m\u001B[38;5;241;43m=\u001B[39;49m\u001B[43mis_text\u001B[49m\u001B[43m,\u001B[49m\n\u001B[1;32m   1224\u001B[0m \u001B[43m    \u001B[49m\u001B[43merrors\u001B[49m\u001B[38;5;241;43m=\u001B[39;49m\u001B[38;5;28;43mself\u001B[39;49m\u001B[38;5;241;43m.\u001B[39;49m\u001B[43moptions\u001B[49m\u001B[38;5;241;43m.\u001B[39;49m\u001B[43mget\u001B[49m\u001B[43m(\u001B[49m\u001B[38;5;124;43m\"\u001B[39;49m\u001B[38;5;124;43mencoding_errors\u001B[39;49m\u001B[38;5;124;43m\"\u001B[39;49m\u001B[43m,\u001B[49m\u001B[43m \u001B[49m\u001B[38;5;124;43m\"\u001B[39;49m\u001B[38;5;124;43mstrict\u001B[39;49m\u001B[38;5;124;43m\"\u001B[39;49m\u001B[43m)\u001B[49m\u001B[43m,\u001B[49m\n\u001B[1;32m   1225\u001B[0m \u001B[43m    \u001B[49m\u001B[43mstorage_options\u001B[49m\u001B[38;5;241;43m=\u001B[39;49m\u001B[38;5;28;43mself\u001B[39;49m\u001B[38;5;241;43m.\u001B[39;49m\u001B[43moptions\u001B[49m\u001B[38;5;241;43m.\u001B[39;49m\u001B[43mget\u001B[49m\u001B[43m(\u001B[49m\u001B[38;5;124;43m\"\u001B[39;49m\u001B[38;5;124;43mstorage_options\u001B[39;49m\u001B[38;5;124;43m\"\u001B[39;49m\u001B[43m,\u001B[49m\u001B[43m \u001B[49m\u001B[38;5;28;43;01mNone\u001B[39;49;00m\u001B[43m)\u001B[49m\u001B[43m,\u001B[49m\n\u001B[1;32m   1226\u001B[0m \u001B[43m\u001B[49m\u001B[43m)\u001B[49m\n\u001B[1;32m   1227\u001B[0m \u001B[38;5;28;01massert\u001B[39;00m \u001B[38;5;28mself\u001B[39m\u001B[38;5;241m.\u001B[39mhandles \u001B[38;5;129;01mis\u001B[39;00m \u001B[38;5;129;01mnot\u001B[39;00m \u001B[38;5;28;01mNone\u001B[39;00m\n\u001B[1;32m   1228\u001B[0m f \u001B[38;5;241m=\u001B[39m \u001B[38;5;28mself\u001B[39m\u001B[38;5;241m.\u001B[39mhandles\u001B[38;5;241m.\u001B[39mhandle\n",
      "File \u001B[0;32m/usr/local/lib/python3.9/site-packages/pandas/io/common.py:789\u001B[0m, in \u001B[0;36mget_handle\u001B[0;34m(path_or_buf, mode, encoding, compression, memory_map, is_text, errors, storage_options)\u001B[0m\n\u001B[1;32m    784\u001B[0m \u001B[38;5;28;01melif\u001B[39;00m \u001B[38;5;28misinstance\u001B[39m(handle, \u001B[38;5;28mstr\u001B[39m):\n\u001B[1;32m    785\u001B[0m     \u001B[38;5;66;03m# Check whether the filename is to be opened in binary mode.\u001B[39;00m\n\u001B[1;32m    786\u001B[0m     \u001B[38;5;66;03m# Binary mode does not support 'encoding' and 'newline'.\u001B[39;00m\n\u001B[1;32m    787\u001B[0m     \u001B[38;5;28;01mif\u001B[39;00m ioargs\u001B[38;5;241m.\u001B[39mencoding \u001B[38;5;129;01mand\u001B[39;00m \u001B[38;5;124m\"\u001B[39m\u001B[38;5;124mb\u001B[39m\u001B[38;5;124m\"\u001B[39m \u001B[38;5;129;01mnot\u001B[39;00m \u001B[38;5;129;01min\u001B[39;00m ioargs\u001B[38;5;241m.\u001B[39mmode:\n\u001B[1;32m    788\u001B[0m         \u001B[38;5;66;03m# Encoding\u001B[39;00m\n\u001B[0;32m--> 789\u001B[0m         handle \u001B[38;5;241m=\u001B[39m \u001B[38;5;28;43mopen\u001B[39;49m\u001B[43m(\u001B[49m\n\u001B[1;32m    790\u001B[0m \u001B[43m            \u001B[49m\u001B[43mhandle\u001B[49m\u001B[43m,\u001B[49m\n\u001B[1;32m    791\u001B[0m \u001B[43m            \u001B[49m\u001B[43mioargs\u001B[49m\u001B[38;5;241;43m.\u001B[39;49m\u001B[43mmode\u001B[49m\u001B[43m,\u001B[49m\n\u001B[1;32m    792\u001B[0m \u001B[43m            \u001B[49m\u001B[43mencoding\u001B[49m\u001B[38;5;241;43m=\u001B[39;49m\u001B[43mioargs\u001B[49m\u001B[38;5;241;43m.\u001B[39;49m\u001B[43mencoding\u001B[49m\u001B[43m,\u001B[49m\n\u001B[1;32m    793\u001B[0m \u001B[43m            \u001B[49m\u001B[43merrors\u001B[49m\u001B[38;5;241;43m=\u001B[39;49m\u001B[43merrors\u001B[49m\u001B[43m,\u001B[49m\n\u001B[1;32m    794\u001B[0m \u001B[43m            \u001B[49m\u001B[43mnewline\u001B[49m\u001B[38;5;241;43m=\u001B[39;49m\u001B[38;5;124;43m\"\u001B[39;49m\u001B[38;5;124;43m\"\u001B[39;49m\u001B[43m,\u001B[49m\n\u001B[1;32m    795\u001B[0m \u001B[43m        \u001B[49m\u001B[43m)\u001B[49m\n\u001B[1;32m    796\u001B[0m     \u001B[38;5;28;01melse\u001B[39;00m:\n\u001B[1;32m    797\u001B[0m         \u001B[38;5;66;03m# Binary mode\u001B[39;00m\n\u001B[1;32m    798\u001B[0m         handle \u001B[38;5;241m=\u001B[39m \u001B[38;5;28mopen\u001B[39m(handle, ioargs\u001B[38;5;241m.\u001B[39mmode)\n",
      "\u001B[0;31mFileNotFoundError\u001B[0m: [Errno 2] No such file or directory: '../resources/pull-5-14-2022_20220514161547-REV.csv'"
     ]
    }
   ],
   "source": [
    "sample = pd.read_csv('../resources/pull-5-14-2022_20220514161547-REV.csv', dtype=str)\n",
    "#sample = pd.read_csv('../resources/sample2.csv', dtype=str)\n",
    "print(sample.shape)\n",
    "sample.columns = [\n",
    "    'apt_no',\n",
    "    'state',\n",
    "    'zipcode',\n",
    "    'name',\n",
    "    'first_name',\n",
    "    'last_name',\n",
    "    'precinct_id',\n",
    "    'cng',\n",
    "    'sen',\n",
    "    'hse',\n",
    "    'voter_id',\n",
    "    'street_address',\n",
    "    'city'\n",
    "]\n",
    "\n"
   ],
   "metadata": {
    "collapsed": false,
    "pycharm": {
     "name": "#%%\n"
    }
   }
  },
  {
   "cell_type": "code",
   "execution_count": 34,
   "outputs": [],
   "source": [
    "root_dir = '~/Documents/data'\n",
    "vm = VoterMatch(root_dir)\n",
    "\n",
    "matched, unmatched, not_matchable, duplicate_count = vm.match(sample, 'name')\n",
    "# matched.to_csv(Path('../resources/matched.csv'))\n",
    "# unmatched.to_csv(Path('../resources/unmatched.csv'))\n",
    "# not_matchable.to_csv(Path('../resources/not_matchable.csv'))"
   ],
   "metadata": {
    "collapsed": false,
    "pycharm": {
     "name": "#%%\n"
    }
   }
  },
  {
   "cell_type": "code",
   "execution_count": 35,
   "outputs": [],
   "source": [
    "matched2, unmatched2, not_matchable2, duplicate_count2 = vm.match(unmatched, 'split name')"
   ],
   "metadata": {
    "collapsed": false,
    "pycharm": {
     "name": "#%%\n"
    }
   }
  },
  {
   "cell_type": "code",
   "execution_count": 36,
   "outputs": [],
   "source": [
    "matched3, unmatched3, not_matchable3, duplicate_count3 = vm.match(unmatched2, 'split name+retry middle')"
   ],
   "metadata": {
    "collapsed": false,
    "pycharm": {
     "name": "#%%\n"
    }
   }
  },
  {
   "cell_type": "code",
   "execution_count": 27,
   "outputs": [
    {
     "data": {
      "text/plain": "     apt_no    state zipcode                name first_name   last_name  \\\n0        #1      NaN   30308        Eva van Leer        Eva    van Leer   \n1     #1101  Georgia   30305    Rufus Montgomery      Rufus  Montgomery   \n2      #127  Georgia   30328      Pichard Alford    Pichard      Alford   \n3       #13  Georgia   30308   Elizabeth Wharton  Elizabeth     Wharton   \n4     #1318  Georgia   30308      Myron Blackmon      Myron    Blackmon   \n...     ...      ...     ...                 ...        ...         ...   \n3294    NaN      NaN     NaN       Jules Mugnier      Jules     Mugnier   \n3295    NaN      NaN     NaN            TMugnier       Toni     Mugnier   \n3296    NaN      NaN     NaN      Cindy Raimondi      Cindy    Raimondi   \n3297    NaN      NaN     NaN      Louis Raimondi      Louis    Raimondi   \n3298    NaN      NaN     NaN  Gabriela Rodriguez   Gabriela   Rodriguez   \n\n     precinct_id  cng  sen  hse voter_id                street_address  \\\n0            NaN  NaN  NaN  NaN      NaN            799 Argonne Ave NE   \n1            08H    5   39   54      NaN  2626 Peachtree Road NW #1101   \n2          SS19A    6   56   45      NaN              7265 Glisten Ave   \n3           02L1    5   39   57      NaN     229 Ponce De Leon Ave, Ne   \n4            NaN   11  NaN  NaN      NaN         144 Ponce De Leon Ave   \n...          ...  ...  ...  ...      ...                           ...   \n3294        RW12  NaN  NaN   47      NaN         540 Bally Claire Lane   \n3295        RW12  NaN  NaN   47      NaN         540 Bally Claire Lane   \n3296        RW12  NaN  NaN   47      NaN        620 Estate Club Circle   \n3297        RW12  NaN  NaN   47      NaN        620 Estate Club Circle   \n3298        JC08  NaN  NaN   50      NaN            5405 Hampstead Way   \n\n               city  \n0           Atlanta  \n1           Atlanta  \n2     Sandy Springs  \n3           Atlanta  \n4           Atlanta  \n...             ...  \n3294        Roswell  \n3295        Roswell  \n3296        Roswell  \n3297        Roswell  \n3298    Johns Creek  \n\n[3299 rows x 13 columns]",
      "text/html": "<div>\n<style scoped>\n    .dataframe tbody tr th:only-of-type {\n        vertical-align: middle;\n    }\n\n    .dataframe tbody tr th {\n        vertical-align: top;\n    }\n\n    .dataframe thead th {\n        text-align: right;\n    }\n</style>\n<table border=\"1\" class=\"dataframe\">\n  <thead>\n    <tr style=\"text-align: right;\">\n      <th></th>\n      <th>apt_no</th>\n      <th>state</th>\n      <th>zipcode</th>\n      <th>name</th>\n      <th>first_name</th>\n      <th>last_name</th>\n      <th>precinct_id</th>\n      <th>cng</th>\n      <th>sen</th>\n      <th>hse</th>\n      <th>voter_id</th>\n      <th>street_address</th>\n      <th>city</th>\n    </tr>\n  </thead>\n  <tbody>\n    <tr>\n      <th>0</th>\n      <td>#1</td>\n      <td>NaN</td>\n      <td>30308</td>\n      <td>Eva van Leer</td>\n      <td>Eva</td>\n      <td>van Leer</td>\n      <td>NaN</td>\n      <td>NaN</td>\n      <td>NaN</td>\n      <td>NaN</td>\n      <td>NaN</td>\n      <td>799 Argonne Ave NE</td>\n      <td>Atlanta</td>\n    </tr>\n    <tr>\n      <th>1</th>\n      <td>#1101</td>\n      <td>Georgia</td>\n      <td>30305</td>\n      <td>Rufus Montgomery</td>\n      <td>Rufus</td>\n      <td>Montgomery</td>\n      <td>08H</td>\n      <td>5</td>\n      <td>39</td>\n      <td>54</td>\n      <td>NaN</td>\n      <td>2626 Peachtree Road NW #1101</td>\n      <td>Atlanta</td>\n    </tr>\n    <tr>\n      <th>2</th>\n      <td>#127</td>\n      <td>Georgia</td>\n      <td>30328</td>\n      <td>Pichard Alford</td>\n      <td>Pichard</td>\n      <td>Alford</td>\n      <td>SS19A</td>\n      <td>6</td>\n      <td>56</td>\n      <td>45</td>\n      <td>NaN</td>\n      <td>7265 Glisten Ave</td>\n      <td>Sandy Springs</td>\n    </tr>\n    <tr>\n      <th>3</th>\n      <td>#13</td>\n      <td>Georgia</td>\n      <td>30308</td>\n      <td>Elizabeth Wharton</td>\n      <td>Elizabeth</td>\n      <td>Wharton</td>\n      <td>02L1</td>\n      <td>5</td>\n      <td>39</td>\n      <td>57</td>\n      <td>NaN</td>\n      <td>229 Ponce De Leon Ave, Ne</td>\n      <td>Atlanta</td>\n    </tr>\n    <tr>\n      <th>4</th>\n      <td>#1318</td>\n      <td>Georgia</td>\n      <td>30308</td>\n      <td>Myron Blackmon</td>\n      <td>Myron</td>\n      <td>Blackmon</td>\n      <td>NaN</td>\n      <td>11</td>\n      <td>NaN</td>\n      <td>NaN</td>\n      <td>NaN</td>\n      <td>144 Ponce De Leon Ave</td>\n      <td>Atlanta</td>\n    </tr>\n    <tr>\n      <th>...</th>\n      <td>...</td>\n      <td>...</td>\n      <td>...</td>\n      <td>...</td>\n      <td>...</td>\n      <td>...</td>\n      <td>...</td>\n      <td>...</td>\n      <td>...</td>\n      <td>...</td>\n      <td>...</td>\n      <td>...</td>\n      <td>...</td>\n    </tr>\n    <tr>\n      <th>3294</th>\n      <td>NaN</td>\n      <td>NaN</td>\n      <td>NaN</td>\n      <td>Jules Mugnier</td>\n      <td>Jules</td>\n      <td>Mugnier</td>\n      <td>RW12</td>\n      <td>NaN</td>\n      <td>NaN</td>\n      <td>47</td>\n      <td>NaN</td>\n      <td>540 Bally Claire Lane</td>\n      <td>Roswell</td>\n    </tr>\n    <tr>\n      <th>3295</th>\n      <td>NaN</td>\n      <td>NaN</td>\n      <td>NaN</td>\n      <td>TMugnier</td>\n      <td>Toni</td>\n      <td>Mugnier</td>\n      <td>RW12</td>\n      <td>NaN</td>\n      <td>NaN</td>\n      <td>47</td>\n      <td>NaN</td>\n      <td>540 Bally Claire Lane</td>\n      <td>Roswell</td>\n    </tr>\n    <tr>\n      <th>3296</th>\n      <td>NaN</td>\n      <td>NaN</td>\n      <td>NaN</td>\n      <td>Cindy Raimondi</td>\n      <td>Cindy</td>\n      <td>Raimondi</td>\n      <td>RW12</td>\n      <td>NaN</td>\n      <td>NaN</td>\n      <td>47</td>\n      <td>NaN</td>\n      <td>620 Estate Club Circle</td>\n      <td>Roswell</td>\n    </tr>\n    <tr>\n      <th>3297</th>\n      <td>NaN</td>\n      <td>NaN</td>\n      <td>NaN</td>\n      <td>Louis Raimondi</td>\n      <td>Louis</td>\n      <td>Raimondi</td>\n      <td>RW12</td>\n      <td>NaN</td>\n      <td>NaN</td>\n      <td>47</td>\n      <td>NaN</td>\n      <td>620 Estate Club Circle</td>\n      <td>Roswell</td>\n    </tr>\n    <tr>\n      <th>3298</th>\n      <td>NaN</td>\n      <td>NaN</td>\n      <td>NaN</td>\n      <td>Gabriela Rodriguez</td>\n      <td>Gabriela</td>\n      <td>Rodriguez</td>\n      <td>JC08</td>\n      <td>NaN</td>\n      <td>NaN</td>\n      <td>50</td>\n      <td>NaN</td>\n      <td>5405 Hampstead Way</td>\n      <td>Johns Creek</td>\n    </tr>\n  </tbody>\n</table>\n<p>3299 rows × 13 columns</p>\n</div>"
     },
     "execution_count": 27,
     "metadata": {},
     "output_type": "execute_result"
    }
   ],
   "source": [
    "sample"
   ],
   "metadata": {
    "collapsed": false,
    "pycharm": {
     "name": "#%%\n"
    }
   }
  },
  {
   "cell_type": "code",
   "execution_count": 11,
   "outputs": [
    {
     "name": "stdout",
     "output_type": "stream",
     "text": [
      "      first_name   last_name               street_address  \\\n",
      "0          James     Edwards  1 Peachtree Hills Avenue NE   \n",
      "1         Sandra      Mcowen                 1 Regency Rd   \n",
      "2           Alan      Soskel              10 Creekline Dr   \n",
      "3          Frank       Duffy               10 Cumming St.   \n",
      "4        Charles        Cook  10 Geworge Wythe Place N.W.   \n",
      "5           Rick  Woroniecki          10 Glenlake Parkway   \n",
      "6           John     Masters           10 Lonox Point N.E   \n",
      "7          Donna       Slade            10 Parkmont Drive   \n",
      "8        Raleigh      Cannon           100 Cardinal Drive   \n",
      "9           Katy       Clark           100 idlegate court   \n",
      "10  Dargan Scott        Cole        100 Lake Forrest Lane   \n",
      "11      Jennifer        Ross              100 Osner Drive   \n",
      "12        Ashley      Groome         100 Peachtree St. NW   \n",
      "13          John      Walker      100 River Bluff Parkway   \n",
      "14         Danie      Alvero             100 Trammell Ct.   \n",
      "15         Chuck     O'brien            100 Vilamoura Way   \n",
      "16        Laurie       Rizan             1000 Fanfare Way   \n",
      "17         Kathy      Lisska          120 Willow Brook Dr   \n",
      "18        Andrew      Lisska       120 Willow Brook Drive   \n",
      "\n",
      "                       apt_no         city    state     zipcode   hse   sen  \\\n",
      "0                      Apt B2      Atlanta  Georgia       30305   057   039   \n",
      "1                         NaN   Alpharetta  Georgia       30022   051   014   \n",
      "2                         NaN      Roswell  Georgia       30076   048   014   \n",
      "3                         NaN   Alpharetta  Georgia       30009  None  None   \n",
      "4                         NaN          NaN      NaN       20218  None  None   \n",
      "5   South Tower STE 1,000-ACK      Atlanta  Georgia       30328  None  None   \n",
      "6                         NaN      Atlanta  Georgia  30324-3168  None  None   \n",
      "7                         NaN      Roswell  Georgia       30076  None  None   \n",
      "8                         NaN      Roswell  Georgia       30075  None  None   \n",
      "9                         NaN  Johns creek  Georgia       30022  None  None   \n",
      "10                        NaN      Atlanta  Georgia       30342  None  None   \n",
      "11                        NaN      Atlanta  Georgia       30342  None  None   \n",
      "12                 Suite 2200      Atlanta  Georgia       30303  None  None   \n",
      "13                        NaN      Roswell  Georgia       30075   049   056   \n",
      "14                        NaN   Alpharetta  Georgia       30009   049   021   \n",
      "15                        NaN  Johns Creek  Georgia       30022  None  None   \n",
      "16                        NaN   Alpharetta  Georgia       30009  None  None   \n",
      "17                        NaN      Roswell  Georgia       30076  None  None   \n",
      "18                        NaN      Roswell  Georgia       30076  None  None   \n",
      "\n",
      "    voter_id   cng precinct_id  names_found  found_zipcode  \\\n",
      "0   05103982   005         07J          222           True   \n",
      "1   02674606   006       RW22A            1           True   \n",
      "2   06173515   006        AP03            1           True   \n",
      "3       None  None        None            2          False   \n",
      "4       None  None        None          114          False   \n",
      "5       None  None        None            0          False   \n",
      "6       None  None        None           10          False   \n",
      "7       None  None        None            0          False   \n",
      "8       None  None        None            0          False   \n",
      "9       None  None        None            0          False   \n",
      "10      None  None        None            0          False   \n",
      "11      None  None        None           31          False   \n",
      "12      None  None        None            1          False   \n",
      "13  02522209   006       RW03A          245           True   \n",
      "14  02432059   006       AP021            1           True   \n",
      "15      None  None        None            0          False   \n",
      "16      None  None        None            1          False   \n",
      "17      None  None        None            1          False   \n",
      "18      None  None        None            1          False   \n",
      "\n",
      "    found_house_number  multiple_matches    standard_street_name  \n",
      "0                 True             False  PEACHTREE HILLS AVE NE  \n",
      "1                 True             False              REGENCY RD  \n",
      "2                 True             False            CREEKLINE DR  \n",
      "3                False             False                    None  \n",
      "4                False             False                    None  \n",
      "5                False             False                    None  \n",
      "6                False             False                    None  \n",
      "7                False             False                    None  \n",
      "8                False             False                    None  \n",
      "9                False             False                    None  \n",
      "10               False             False                    None  \n",
      "11               False             False                    None  \n",
      "12               False             False                    None  \n",
      "13                True             False        RIVER BLUFF PKWY  \n",
      "14                True             False             TRAMMELL CT  \n",
      "15               False             False                    None  \n",
      "16               False             False                    None  \n",
      "17               False             False                    None  \n",
      "18               False             False                    None  \n"
     ]
    }
   ],
   "source": [
    "print(df)"
   ],
   "metadata": {
    "collapsed": false,
    "pycharm": {
     "name": "#%%\n"
    }
   }
  },
  {
   "cell_type": "code",
   "execution_count": 11,
   "outputs": [],
   "source": [],
   "metadata": {
    "collapsed": false,
    "pycharm": {
     "name": "#%%\n"
    }
   }
  },
  {
   "cell_type": "code",
   "execution_count": null,
   "outputs": [],
   "source": [],
   "metadata": {
    "collapsed": false,
    "pycharm": {
     "name": "#%%\n"
    }
   }
  }
 ],
 "metadata": {
  "kernelspec": {
   "display_name": "Python 3",
   "language": "python",
   "name": "python3"
  },
  "language_info": {
   "codemirror_mode": {
    "name": "ipython",
    "version": 2
   },
   "file_extension": ".py",
   "mimetype": "text/x-python",
   "name": "python",
   "nbconvert_exporter": "python",
   "pygments_lexer": "ipython2",
   "version": "2.7.6"
  }
 },
 "nbformat": 4,
 "nbformat_minor": 0
}