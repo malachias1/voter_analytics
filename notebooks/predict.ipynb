{
 "cells": [
  {
   "cell_type": "code",
   "execution_count": 1,
   "outputs": [],
   "source": [
    "import pandas as pd\n",
    "%load_ext autoreload\n",
    "%autoreload 2"
   ],
   "metadata": {
    "collapsed": false,
    "pycharm": {
     "name": "#%%\n"
    }
   }
  },
  {
   "cell_type": "code",
   "execution_count": 2,
   "outputs": [],
   "source": [
    "import django\n",
    "import os\n",
    "\n",
    "os.environ['DJANGO_SETTINGS_MODULE'] = 'dashboard.settings'\n",
    "os.environ[\"DJANGO_ALLOW_ASYNC_UNSAFE\"] = \"true\"\n",
    "django.setup()"
   ],
   "metadata": {
    "collapsed": false,
    "pycharm": {
     "name": "#%%\n"
    }
   }
  },
  {
   "cell_type": "code",
   "execution_count": 3,
   "outputs": [],
   "source": [
    "from ml.models import PrimaryDataSet\n",
    "from hse_map.models import HseMap\n",
    "from voter.models import ListEdition, Voter\n",
    "from datetime import datetime\n",
    "import numpy as np"
   ],
   "metadata": {
    "collapsed": false,
    "pycharm": {
     "name": "#%%\n"
    }
   }
  },
  {
   "cell_type": "code",
   "execution_count": 4,
   "outputs": [],
   "source": [
    "edition_date = datetime.strptime('2022-08-05', '%Y-%m-%d')\n",
    "edition = ListEdition.objects.get(date=edition_date)\n",
    "# hd51 = HseMap.objects.get(district='051')\n",
    "# hd51.edition = edition"
   ],
   "metadata": {
    "collapsed": false,
    "pycharm": {
     "name": "#%%\n"
    }
   }
  },
  {
   "cell_type": "code",
   "execution_count": 5,
   "outputs": [
    {
     "name": "stdout",
     "output_type": "stream",
     "text": [
      "845997\n"
     ]
    }
   ],
   "source": [
    "voters = list(edition.voters_for_county('060'))\n",
    "print(len(voters))\n",
    "election_date = datetime.strptime('2022-05-24', '%Y-%m-%d')\n",
    "p = PrimaryDataSet(voters, election_date)"
   ],
   "metadata": {
    "collapsed": false,
    "pycharm": {
     "name": "#%%\n"
    }
   }
  },
  {
   "cell_type": "code",
   "execution_count": 11,
   "outputs": [],
   "source": [
    "X,y = p.dataset"
   ],
   "metadata": {
    "collapsed": false,
    "pycharm": {
     "name": "#%%\n"
    }
   }
  },
  {
   "cell_type": "code",
   "execution_count": 12,
   "outputs": [
    {
     "data": {
      "text/plain": "array([['WH', 'F', -84.41757649590238, 33.8532974237829, 1948],\n       ['WH', 'M', -84.41757649590238, 33.8532974237829, 1972],\n       ['WH', 'M', -84.41757649590238, 33.8532974237829, 1966],\n       ...,\n       ['BH', 'M', -84.23388657921305, 34.055501981710144, 2002],\n       ['BH', 'M', -84.23388657921305, 34.055501981710144, 1966],\n       ['WH', 'M', -84.23388657921305, 34.055501981710144, 1954]],\n      dtype=object)"
     },
     "execution_count": 12,
     "metadata": {},
     "output_type": "execute_result"
    }
   ],
   "source": [
    "X"
   ],
   "metadata": {
    "collapsed": false,
    "pycharm": {
     "name": "#%%\n"
    }
   }
  },
  {
   "cell_type": "code",
   "execution_count": 20,
   "outputs": [
    {
     "name": "stdout",
     "output_type": "stream",
     "text": [
      "Epoch 1/100\n",
      "1734/1734 - 2s - loss: 0.4075 - accuracy: 0.8119 - val_loss: 0.3846 - val_accuracy: 0.8241 - 2s/epoch - 1ms/step\n",
      "Epoch 2/100\n",
      "1734/1734 - 2s - loss: 0.3927 - accuracy: 0.8213 - val_loss: 0.3790 - val_accuracy: 0.8272 - 2s/epoch - 1ms/step\n",
      "Epoch 3/100\n",
      "1734/1734 - 2s - loss: 0.3906 - accuracy: 0.8231 - val_loss: 0.3784 - val_accuracy: 0.8289 - 2s/epoch - 1ms/step\n",
      "Epoch 4/100\n",
      "1734/1734 - 2s - loss: 0.3894 - accuracy: 0.8241 - val_loss: 0.3797 - val_accuracy: 0.8293 - 2s/epoch - 1ms/step\n",
      "Epoch 5/100\n",
      "1734/1734 - 2s - loss: 0.3884 - accuracy: 0.8250 - val_loss: 0.3793 - val_accuracy: 0.8295 - 2s/epoch - 1ms/step\n",
      "Epoch 6/100\n",
      "1734/1734 - 2s - loss: 0.3881 - accuracy: 0.8244 - val_loss: 0.3774 - val_accuracy: 0.8304 - 2s/epoch - 1ms/step\n",
      "Epoch 7/100\n",
      "1734/1734 - 2s - loss: 0.3875 - accuracy: 0.8256 - val_loss: 0.3764 - val_accuracy: 0.8317 - 2s/epoch - 1ms/step\n",
      "Epoch 8/100\n",
      "1734/1734 - 2s - loss: 0.3873 - accuracy: 0.8252 - val_loss: 0.3758 - val_accuracy: 0.8330 - 2s/epoch - 1ms/step\n",
      "Epoch 9/100\n",
      "1734/1734 - 2s - loss: 0.3872 - accuracy: 0.8253 - val_loss: 0.3757 - val_accuracy: 0.8302 - 2s/epoch - 1ms/step\n",
      "Epoch 10/100\n",
      "1734/1734 - 2s - loss: 0.3869 - accuracy: 0.8250 - val_loss: 0.3752 - val_accuracy: 0.8320 - 2s/epoch - 1ms/step\n",
      "Epoch 11/100\n",
      "1734/1734 - 2s - loss: 0.3868 - accuracy: 0.8254 - val_loss: 0.3765 - val_accuracy: 0.8296 - 2s/epoch - 1ms/step\n",
      "Epoch 12/100\n",
      "1734/1734 - 2s - loss: 0.3864 - accuracy: 0.8258 - val_loss: 0.3772 - val_accuracy: 0.8301 - 2s/epoch - 1ms/step\n",
      "Epoch 13/100\n",
      "1734/1734 - 2s - loss: 0.3861 - accuracy: 0.8259 - val_loss: 0.3762 - val_accuracy: 0.8315 - 2s/epoch - 1ms/step\n",
      "Epoch 14/100\n",
      "1734/1734 - 2s - loss: 0.3861 - accuracy: 0.8264 - val_loss: 0.3780 - val_accuracy: 0.8310 - 2s/epoch - 1ms/step\n",
      "Epoch 15/100\n",
      "1734/1734 - 2s - loss: 0.3858 - accuracy: 0.8264 - val_loss: 0.3763 - val_accuracy: 0.8310 - 2s/epoch - 1ms/step\n",
      "Epoch 16/100\n",
      "1734/1734 - 2s - loss: 0.3859 - accuracy: 0.8259 - val_loss: 0.3754 - val_accuracy: 0.8317 - 2s/epoch - 1ms/step\n",
      "Epoch 17/100\n",
      "1734/1734 - 2s - loss: 0.3857 - accuracy: 0.8260 - val_loss: 0.3755 - val_accuracy: 0.8319 - 2s/epoch - 1ms/step\n",
      "Epoch 18/100\n",
      "1734/1734 - 2s - loss: 0.3855 - accuracy: 0.8263 - val_loss: 0.3751 - val_accuracy: 0.8330 - 2s/epoch - 1ms/step\n",
      "Epoch 19/100\n",
      "1734/1734 - 2s - loss: 0.3855 - accuracy: 0.8266 - val_loss: 0.3752 - val_accuracy: 0.8322 - 2s/epoch - 1ms/step\n",
      "Epoch 20/100\n",
      "1734/1734 - 2s - loss: 0.3853 - accuracy: 0.8261 - val_loss: 0.3760 - val_accuracy: 0.8319 - 2s/epoch - 1ms/step\n",
      "Epoch 21/100\n",
      "1734/1734 - 2s - loss: 0.3849 - accuracy: 0.8265 - val_loss: 0.3766 - val_accuracy: 0.8300 - 2s/epoch - 1ms/step\n",
      "Epoch 22/100\n",
      "1734/1734 - 2s - loss: 0.3849 - accuracy: 0.8263 - val_loss: 0.3771 - val_accuracy: 0.8341 - 2s/epoch - 1ms/step\n",
      "Epoch 23/100\n",
      "1734/1734 - 2s - loss: 0.3851 - accuracy: 0.8268 - val_loss: 0.3750 - val_accuracy: 0.8320 - 2s/epoch - 1ms/step\n",
      "Epoch 24/100\n",
      "1734/1734 - 2s - loss: 0.3847 - accuracy: 0.8272 - val_loss: 0.3742 - val_accuracy: 0.8328 - 2s/epoch - 1ms/step\n",
      "Epoch 25/100\n",
      "1734/1734 - 2s - loss: 0.3847 - accuracy: 0.8260 - val_loss: 0.3747 - val_accuracy: 0.8321 - 2s/epoch - 1ms/step\n",
      "Epoch 26/100\n",
      "1734/1734 - 2s - loss: 0.3845 - accuracy: 0.8267 - val_loss: 0.3749 - val_accuracy: 0.8320 - 2s/epoch - 1ms/step\n",
      "Epoch 27/100\n",
      "1734/1734 - 2s - loss: 0.3845 - accuracy: 0.8270 - val_loss: 0.3731 - val_accuracy: 0.8344 - 2s/epoch - 1ms/step\n",
      "Epoch 28/100\n",
      "1734/1734 - 2s - loss: 0.3843 - accuracy: 0.8268 - val_loss: 0.3756 - val_accuracy: 0.8337 - 2s/epoch - 1ms/step\n",
      "Epoch 29/100\n",
      "1734/1734 - 2s - loss: 0.3844 - accuracy: 0.8266 - val_loss: 0.3751 - val_accuracy: 0.8297 - 2s/epoch - 1ms/step\n",
      "Epoch 30/100\n",
      "1734/1734 - 2s - loss: 0.3840 - accuracy: 0.8269 - val_loss: 0.3740 - val_accuracy: 0.8335 - 2s/epoch - 1ms/step\n",
      "Epoch 31/100\n",
      "1734/1734 - 2s - loss: 0.3840 - accuracy: 0.8269 - val_loss: 0.3735 - val_accuracy: 0.8317 - 2s/epoch - 1ms/step\n",
      "Epoch 32/100\n",
      "1734/1734 - 2s - loss: 0.3837 - accuracy: 0.8279 - val_loss: 0.3745 - val_accuracy: 0.8325 - 2s/epoch - 1ms/step\n",
      "Epoch 33/100\n",
      "1734/1734 - 2s - loss: 0.3839 - accuracy: 0.8277 - val_loss: 0.3740 - val_accuracy: 0.8328 - 2s/epoch - 1ms/step\n",
      "Epoch 34/100\n",
      "1734/1734 - 2s - loss: 0.3838 - accuracy: 0.8274 - val_loss: 0.3741 - val_accuracy: 0.8326 - 2s/epoch - 1ms/step\n",
      "Epoch 35/100\n",
      "1734/1734 - 2s - loss: 0.3837 - accuracy: 0.8274 - val_loss: 0.3743 - val_accuracy: 0.8323 - 2s/epoch - 1ms/step\n",
      "Epoch 36/100\n",
      "1734/1734 - 2s - loss: 0.3836 - accuracy: 0.8270 - val_loss: 0.3748 - val_accuracy: 0.8333 - 2s/epoch - 1ms/step\n",
      "Epoch 37/100\n",
      "1734/1734 - 2s - loss: 0.3835 - accuracy: 0.8274 - val_loss: 0.3760 - val_accuracy: 0.8320 - 2s/epoch - 1ms/step\n",
      "Epoch 38/100\n",
      "1734/1734 - 2s - loss: 0.3832 - accuracy: 0.8276 - val_loss: 0.3735 - val_accuracy: 0.8337 - 2s/epoch - 1ms/step\n",
      "Epoch 39/100\n",
      "1734/1734 - 2s - loss: 0.3835 - accuracy: 0.8280 - val_loss: 0.3751 - val_accuracy: 0.8343 - 2s/epoch - 1ms/step\n",
      "Epoch 40/100\n",
      "1734/1734 - 2s - loss: 0.3834 - accuracy: 0.8273 - val_loss: 0.3736 - val_accuracy: 0.8336 - 2s/epoch - 1ms/step\n",
      "Epoch 41/100\n",
      "1734/1734 - 2s - loss: 0.3833 - accuracy: 0.8278 - val_loss: 0.3740 - val_accuracy: 0.8344 - 2s/epoch - 1ms/step\n",
      "Epoch 42/100\n",
      "1734/1734 - 2s - loss: 0.3833 - accuracy: 0.8273 - val_loss: 0.3748 - val_accuracy: 0.8339 - 2s/epoch - 1ms/step\n",
      "Epoch 43/100\n",
      "1734/1734 - 2s - loss: 0.3831 - accuracy: 0.8279 - val_loss: 0.3745 - val_accuracy: 0.8308 - 2s/epoch - 1ms/step\n",
      "Epoch 44/100\n",
      "1734/1734 - 2s - loss: 0.3830 - accuracy: 0.8278 - val_loss: 0.3735 - val_accuracy: 0.8330 - 2s/epoch - 1ms/step\n",
      "Epoch 45/100\n",
      "1734/1734 - 2s - loss: 0.3829 - accuracy: 0.8277 - val_loss: 0.3746 - val_accuracy: 0.8345 - 2s/epoch - 1ms/step\n",
      "Epoch 46/100\n",
      "1734/1734 - 2s - loss: 0.3829 - accuracy: 0.8279 - val_loss: 0.3740 - val_accuracy: 0.8333 - 2s/epoch - 1ms/step\n",
      "Epoch 47/100\n",
      "1734/1734 - 2s - loss: 0.3828 - accuracy: 0.8280 - val_loss: 0.3768 - val_accuracy: 0.8296 - 2s/epoch - 1ms/step\n",
      "Epoch 48/100\n",
      "1734/1734 - 2s - loss: 0.3829 - accuracy: 0.8278 - val_loss: 0.3739 - val_accuracy: 0.8333 - 2s/epoch - 1ms/step\n",
      "Epoch 49/100\n",
      "1734/1734 - 2s - loss: 0.3828 - accuracy: 0.8282 - val_loss: 0.3740 - val_accuracy: 0.8326 - 2s/epoch - 1ms/step\n",
      "Epoch 50/100\n",
      "1734/1734 - 2s - loss: 0.3828 - accuracy: 0.8284 - val_loss: 0.3742 - val_accuracy: 0.8336 - 2s/epoch - 1ms/step\n",
      "Epoch 51/100\n",
      "1734/1734 - 2s - loss: 0.3828 - accuracy: 0.8277 - val_loss: 0.3750 - val_accuracy: 0.8335 - 2s/epoch - 1ms/step\n",
      "Epoch 52/100\n",
      "1734/1734 - 2s - loss: 0.3825 - accuracy: 0.8281 - val_loss: 0.3736 - val_accuracy: 0.8343 - 2s/epoch - 1ms/step\n",
      "Epoch 53/100\n",
      "1734/1734 - 2s - loss: 0.3825 - accuracy: 0.8282 - val_loss: 0.3736 - val_accuracy: 0.8341 - 2s/epoch - 1ms/step\n",
      "Epoch 54/100\n",
      "1734/1734 - 2s - loss: 0.3824 - accuracy: 0.8288 - val_loss: 0.3737 - val_accuracy: 0.8349 - 2s/epoch - 1ms/step\n",
      "Epoch 55/100\n",
      "1734/1734 - 2s - loss: 0.3825 - accuracy: 0.8284 - val_loss: 0.3743 - val_accuracy: 0.8341 - 2s/epoch - 1ms/step\n",
      "Epoch 56/100\n",
      "1734/1734 - 2s - loss: 0.3823 - accuracy: 0.8285 - val_loss: 0.3742 - val_accuracy: 0.8337 - 2s/epoch - 1ms/step\n",
      "Epoch 57/100\n",
      "1734/1734 - 2s - loss: 0.3824 - accuracy: 0.8280 - val_loss: 0.3743 - val_accuracy: 0.8344 - 2s/epoch - 1ms/step\n",
      "Epoch 58/100\n",
      "1734/1734 - 2s - loss: 0.3822 - accuracy: 0.8286 - val_loss: 0.3744 - val_accuracy: 0.8329 - 2s/epoch - 1ms/step\n",
      "Epoch 59/100\n",
      "1734/1734 - 2s - loss: 0.3820 - accuracy: 0.8287 - val_loss: 0.3740 - val_accuracy: 0.8338 - 2s/epoch - 1ms/step\n",
      "Epoch 60/100\n",
      "1734/1734 - 2s - loss: 0.3820 - accuracy: 0.8286 - val_loss: 0.3737 - val_accuracy: 0.8358 - 2s/epoch - 1ms/step\n",
      "Epoch 61/100\n",
      "1734/1734 - 2s - loss: 0.3818 - accuracy: 0.8294 - val_loss: 0.3745 - val_accuracy: 0.8323 - 2s/epoch - 1ms/step\n",
      "Epoch 62/100\n",
      "1734/1734 - 2s - loss: 0.3819 - accuracy: 0.8286 - val_loss: 0.3748 - val_accuracy: 0.8324 - 2s/epoch - 1ms/step\n",
      "Epoch 63/100\n",
      "1734/1734 - 2s - loss: 0.3820 - accuracy: 0.8289 - val_loss: 0.3743 - val_accuracy: 0.8324 - 2s/epoch - 1ms/step\n",
      "Epoch 64/100\n",
      "1734/1734 - 2s - loss: 0.3818 - accuracy: 0.8287 - val_loss: 0.3742 - val_accuracy: 0.8324 - 2s/epoch - 1ms/step\n",
      "Epoch 65/100\n",
      "1734/1734 - 2s - loss: 0.3816 - accuracy: 0.8289 - val_loss: 0.3740 - val_accuracy: 0.8331 - 2s/epoch - 1ms/step\n",
      "Epoch 66/100\n",
      "1734/1734 - 2s - loss: 0.3816 - accuracy: 0.8282 - val_loss: 0.3756 - val_accuracy: 0.8333 - 2s/epoch - 1ms/step\n",
      "Epoch 67/100\n",
      "1734/1734 - 2s - loss: 0.3816 - accuracy: 0.8286 - val_loss: 0.3736 - val_accuracy: 0.8314 - 2s/epoch - 1ms/step\n",
      "Epoch 68/100\n",
      "1734/1734 - 2s - loss: 0.3817 - accuracy: 0.8288 - val_loss: 0.3733 - val_accuracy: 0.8329 - 2s/epoch - 1ms/step\n",
      "Epoch 69/100\n",
      "1734/1734 - 2s - loss: 0.3816 - accuracy: 0.8287 - val_loss: 0.3747 - val_accuracy: 0.8324 - 2s/epoch - 1ms/step\n",
      "Epoch 70/100\n",
      "1734/1734 - 2s - loss: 0.3815 - accuracy: 0.8290 - val_loss: 0.3742 - val_accuracy: 0.8332 - 2s/epoch - 1ms/step\n",
      "Epoch 71/100\n",
      "1734/1734 - 2s - loss: 0.3815 - accuracy: 0.8285 - val_loss: 0.3746 - val_accuracy: 0.8315 - 2s/epoch - 1ms/step\n",
      "Epoch 72/100\n",
      "1734/1734 - 2s - loss: 0.3814 - accuracy: 0.8287 - val_loss: 0.3743 - val_accuracy: 0.8337 - 2s/epoch - 1ms/step\n",
      "Epoch 73/100\n",
      "1734/1734 - 2s - loss: 0.3814 - accuracy: 0.8290 - val_loss: 0.3739 - val_accuracy: 0.8316 - 2s/epoch - 1ms/step\n",
      "Epoch 74/100\n",
      "1734/1734 - 2s - loss: 0.3812 - accuracy: 0.8290 - val_loss: 0.3736 - val_accuracy: 0.8326 - 2s/epoch - 1ms/step\n",
      "Epoch 75/100\n",
      "1734/1734 - 2s - loss: 0.3813 - accuracy: 0.8290 - val_loss: 0.3738 - val_accuracy: 0.8330 - 2s/epoch - 1ms/step\n",
      "Epoch 76/100\n",
      "1734/1734 - 2s - loss: 0.3812 - accuracy: 0.8285 - val_loss: 0.3754 - val_accuracy: 0.8336 - 2s/epoch - 1ms/step\n",
      "Epoch 77/100\n",
      "1734/1734 - 2s - loss: 0.3812 - accuracy: 0.8291 - val_loss: 0.3743 - val_accuracy: 0.8328 - 2s/epoch - 1ms/step\n",
      "Epoch 78/100\n",
      "1734/1734 - 2s - loss: 0.3810 - accuracy: 0.8286 - val_loss: 0.3746 - val_accuracy: 0.8321 - 2s/epoch - 1ms/step\n",
      "Epoch 79/100\n",
      "1734/1734 - 2s - loss: 0.3811 - accuracy: 0.8288 - val_loss: 0.3740 - val_accuracy: 0.8329 - 2s/epoch - 1ms/step\n",
      "Epoch 80/100\n",
      "1734/1734 - 2s - loss: 0.3811 - accuracy: 0.8293 - val_loss: 0.3759 - val_accuracy: 0.8325 - 2s/epoch - 1ms/step\n",
      "Epoch 81/100\n",
      "1734/1734 - 2s - loss: 0.3809 - accuracy: 0.8289 - val_loss: 0.3737 - val_accuracy: 0.8337 - 2s/epoch - 1ms/step\n",
      "Epoch 82/100\n",
      "1734/1734 - 2s - loss: 0.3808 - accuracy: 0.8293 - val_loss: 0.3779 - val_accuracy: 0.8337 - 2s/epoch - 1ms/step\n",
      "Epoch 83/100\n",
      "1734/1734 - 2s - loss: 0.3810 - accuracy: 0.8298 - val_loss: 0.3743 - val_accuracy: 0.8322 - 2s/epoch - 1ms/step\n",
      "Epoch 84/100\n",
      "1734/1734 - 2s - loss: 0.3807 - accuracy: 0.8292 - val_loss: 0.3751 - val_accuracy: 0.8325 - 2s/epoch - 1ms/step\n",
      "Epoch 85/100\n",
      "1734/1734 - 2s - loss: 0.3807 - accuracy: 0.8295 - val_loss: 0.3757 - val_accuracy: 0.8324 - 2s/epoch - 1ms/step\n",
      "Epoch 86/100\n",
      "1734/1734 - 2s - loss: 0.3807 - accuracy: 0.8295 - val_loss: 0.3744 - val_accuracy: 0.8333 - 2s/epoch - 1ms/step\n",
      "Epoch 87/100\n",
      "1734/1734 - 2s - loss: 0.3806 - accuracy: 0.8293 - val_loss: 0.3733 - val_accuracy: 0.8323 - 2s/epoch - 1ms/step\n",
      "Epoch 88/100\n",
      "1734/1734 - 2s - loss: 0.3806 - accuracy: 0.8290 - val_loss: 0.3742 - val_accuracy: 0.8311 - 2s/epoch - 1ms/step\n",
      "Epoch 89/100\n",
      "1734/1734 - 2s - loss: 0.3805 - accuracy: 0.8294 - val_loss: 0.3737 - val_accuracy: 0.8333 - 2s/epoch - 1ms/step\n",
      "Epoch 90/100\n",
      "1734/1734 - 2s - loss: 0.3806 - accuracy: 0.8297 - val_loss: 0.3738 - val_accuracy: 0.8322 - 2s/epoch - 1ms/step\n",
      "Epoch 91/100\n",
      "1734/1734 - 2s - loss: 0.3805 - accuracy: 0.8301 - val_loss: 0.3757 - val_accuracy: 0.8330 - 2s/epoch - 1ms/step\n",
      "Epoch 92/100\n",
      "1734/1734 - 2s - loss: 0.3805 - accuracy: 0.8296 - val_loss: 0.3735 - val_accuracy: 0.8328 - 2s/epoch - 1ms/step\n",
      "Epoch 93/100\n",
      "1734/1734 - 2s - loss: 0.3804 - accuracy: 0.8295 - val_loss: 0.3749 - val_accuracy: 0.8328 - 2s/epoch - 1ms/step\n",
      "Epoch 94/100\n",
      "1734/1734 - 2s - loss: 0.3803 - accuracy: 0.8292 - val_loss: 0.3740 - val_accuracy: 0.8339 - 2s/epoch - 1ms/step\n",
      "Epoch 95/100\n",
      "1734/1734 - 2s - loss: 0.3803 - accuracy: 0.8297 - val_loss: 0.3752 - val_accuracy: 0.8315 - 2s/epoch - 1ms/step\n",
      "Epoch 96/100\n",
      "1734/1734 - 2s - loss: 0.3804 - accuracy: 0.8295 - val_loss: 0.3759 - val_accuracy: 0.8334 - 2s/epoch - 1ms/step\n",
      "Epoch 97/100\n",
      "1734/1734 - 2s - loss: 0.3802 - accuracy: 0.8296 - val_loss: 0.3755 - val_accuracy: 0.8310 - 2s/epoch - 1ms/step\n",
      "Epoch 98/100\n",
      "1734/1734 - 2s - loss: 0.3802 - accuracy: 0.8294 - val_loss: 0.3746 - val_accuracy: 0.8323 - 2s/epoch - 1ms/step\n",
      "Epoch 99/100\n",
      "1734/1734 - 2s - loss: 0.3799 - accuracy: 0.8297 - val_loss: 0.3738 - val_accuracy: 0.8325 - 2s/epoch - 1ms/step\n",
      "Epoch 100/100\n",
      "1734/1734 - 2s - loss: 0.3801 - accuracy: 0.8294 - val_loss: 0.3732 - val_accuracy: 0.8333 - 2s/epoch - 1ms/step\n",
      "Accuracy: 82.64\n"
     ]
    }
   ],
   "source": [
    "p.dosomething()"
   ],
   "metadata": {
    "collapsed": false,
    "pycharm": {
     "name": "#%%\n"
    }
   }
  },
  {
   "cell_type": "code",
   "execution_count": 6,
   "outputs": [],
   "source": [
    "v = Voter.objects.filter(county__county_code='060').first()"
   ],
   "metadata": {
    "collapsed": false,
    "pycharm": {
     "name": "#%%\n"
    }
   }
  },
  {
   "cell_type": "code",
   "execution_count": 19,
   "outputs": [
    {
     "name": "stdout",
     "output_type": "stream",
     "text": [
      "dict_keys(['loss', 'accuracy', 'val_loss', 'val_accuracy'])\n"
     ]
    },
    {
     "data": {
      "text/plain": "<Figure size 432x288 with 1 Axes>",
      "image/png": "[encoded data removed]"
     },
     "metadata": {
      "needs_background": "light"
     },
     "output_type": "display_data"
    },
    {
     "data": {
      "text/plain": "<Figure size 432x288 with 1 Axes>",
      "image/png": "[encoded data removed]"
     },
     "metadata": {
      "needs_background": "light"
     },
     "output_type": "display_data"
    }
   ],
   "source": [
    "import matplotlib.pyplot as plt\n",
    "history = p.history\n",
    "\n",
    "print(history.history.keys())\n",
    "# summarize history for accuracy\n",
    "plt.plot(history.history['accuracy'])\n",
    "plt.plot(history.history['val_accuracy'])\n",
    "plt.title('model accuracy')\n",
    "plt.ylabel('accuracy')\n",
    "plt.xlabel('epoch')\n",
    "plt.legend(['train', 'test'], loc='upper left')\n",
    "plt.show()\n",
    "# summarize history for loss\n",
    "plt.plot(history.history['loss'])\n",
    "plt.plot(history.history['val_loss'])\n",
    "plt.title('model loss')\n",
    "plt.ylabel('loss')\n",
    "plt.xlabel('epoch')\n",
    "plt.legend(['train', 'test'], loc='upper left')\n",
    "plt.show()"
   ],
   "metadata": {
    "collapsed": false,
    "pycharm": {
     "name": "#%%\n"
    }
   }
  },
  {
   "cell_type": "code",
   "execution_count": null,
   "outputs": [],
   "source": [],
   "metadata": {
    "collapsed": false,
    "pycharm": {
     "name": "#%%\n"
    }
   }
  }
 ],
 "metadata": {
  "kernelspec": {
   "display_name": "Python 3",
   "language": "python",
   "name": "python3"
  },
  "language_info": {
   "codemirror_mode": {
    "name": "ipython",
    "version": 2
   },
   "file_extension": ".py",
   "mimetype": "text/x-python",
   "name": "python",
   "nbconvert_exporter": "python",
   "pygments_lexer": "ipython2",
   "version": "2.7.6"
  }
 },
 "nbformat": 4,
 "nbformat_minor": 0
}