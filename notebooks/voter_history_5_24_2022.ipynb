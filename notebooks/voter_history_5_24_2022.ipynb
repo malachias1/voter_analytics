{
 "cells": [
  {
   "cell_type": "code",
   "execution_count": 1,
   "outputs": [],
   "source": [
    "import pandas as pd\n",
    "import numpy as np\n",
    "from pathlib import Path\n",
    "%load_ext autoreload\n",
    "%autoreload 2"
   ],
   "metadata": {
    "collapsed": false,
    "pycharm": {
     "name": "#%%\n"
    }
   }
  },
  {
   "cell_type": "code",
   "execution_count": 2,
   "outputs": [],
   "source": [
    "from data.voter_history_ingest import IngestVoterHistory\n",
    "from data.voterdb import VoterDb"
   ],
   "metadata": {
    "collapsed": false,
    "pycharm": {
     "name": "#%%\n"
    }
   }
  },
  {
   "cell_type": "code",
   "execution_count": 3,
   "outputs": [],
   "source": [
    "root_dir = '~/Documents/data'\n",
    "ivh = IngestVoterHistory(root_dir)\n",
    "vdb = VoterDb(root_dir)"
   ],
   "metadata": {
    "collapsed": false,
    "pycharm": {
     "name": "#%%\n"
    }
   }
  },
  {
   "cell_type": "code",
   "execution_count": 5,
   "outputs": [],
   "source": [
    "ivh.ingest_voter_history_year(2022)"
   ],
   "metadata": {
    "collapsed": false,
    "pycharm": {
     "name": "#%%\n"
    }
   }
  },
  {
   "cell_type": "code",
   "execution_count": 7,
   "outputs": [],
   "source": [
    "vh_2022 = vdb.voter_history_for_date(2022, 5, 24)"
   ],
   "metadata": {
    "collapsed": false,
    "pycharm": {
     "name": "#%%\n"
    }
   }
  },
  {
   "cell_type": "code",
   "execution_count": 8,
   "outputs": [],
   "source": [
    "cobb_vh_2022 = vh_2022[vh_2022.county_id=='033']"
   ],
   "metadata": {
    "collapsed": false,
    "pycharm": {
     "name": "#%%\n"
    }
   }
  },
  {
   "cell_type": "code",
   "execution_count": 9,
   "outputs": [
    {
     "name": "stdout",
     "output_type": "stream",
     "text": [
      "2022 turnout = 158941\n"
     ]
    }
   ],
   "source": [
    "print(f'2022 turnout = {len(cobb_vh_2022)}')"
   ],
   "metadata": {
    "collapsed": false,
    "pycharm": {
     "name": "#%%\n"
    }
   }
  },
  {
   "cell_type": "code",
   "execution_count": 24,
   "outputs": [
    {
     "name": "stdout",
     "output_type": "stream",
     "text": [
      "2022 turnout = 64282, 2020 turnout = 187884, 2018 turnout = 84331, \n"
     ]
    }
   ],
   "source": [
    "print(f'2022 turnout = {len(cobb_vh_2022)}, 2020 turnout = {len(cobb_vh_2020)}, 2018 turnout = {len(cobb_vh_2018)}, ')"
   ],
   "metadata": {
    "collapsed": false,
    "pycharm": {
     "name": "#%%\n"
    }
   }
  },
  {
   "cell_type": "code",
   "execution_count": 36,
   "outputs": [
    {
     "name": "stdout",
     "output_type": "stream",
     "text": [
      "2022 REP turnout = 35550, 2020 REP turnout = 71423, 2018 REP turnout = 42201, \n"
     ]
    }
   ],
   "source": [
    "print(f'2022 REP turnout = {sum(cobb_vh_2022.party==\"R\")}, 2020 REP turnout = {sum(cobb_vh_2020.party==\"R\")}, 2018 REP turnout = {sum(cobb_vh_2018.party==\"R\")}, ')"
   ],
   "metadata": {
    "collapsed": false,
    "pycharm": {
     "name": "#%%\n"
    }
   }
  },
  {
   "cell_type": "code",
   "execution_count": 35,
   "outputs": [],
   "source": [
    "FIELD_WIDTH = [3, 8, 8, 3, 2, 1, 1, 1]\n",
    "\n",
    "COL_NAMES = ['county_id',\n",
    "                 'voter_id',\n",
    "                 'date',\n",
    "                 'type',\n",
    "                 'party',\n",
    "                 'absentee',\n",
    "                 'provisional',\n",
    "                 'supplemental'\n",
    "                 ]\n",
    "COL_TYPES = {'county_id': str,\n",
    "                 'voter_id': str,\n",
    "                 'date': str,\n",
    "                 'type': str,\n",
    "                 'party': str,\n",
    "                 'absentee': bool,\n",
    "                 'provisional': bool,\n",
    "                 'supplemental': bool\n",
    "                 }"
   ],
   "metadata": {
    "collapsed": false,
    "pycharm": {
     "name": "#%%\n"
    }
   }
  },
  {
   "cell_type": "code",
   "execution_count": 36,
   "outputs": [],
   "source": [
    "df = pd.read_fwf('~/Downloads/36270.TXT', widths=FIELD_WIDTH, header=None, names=COL_NAMES,\n",
    "                         dtype=COL_TYPES, true_values=['Y'], false_values=['N'])"
   ],
   "metadata": {
    "collapsed": false,
    "pycharm": {
     "name": "#%%\n"
    }
   }
  },
  {
   "cell_type": "code",
   "execution_count": 37,
   "outputs": [
    {
     "data": {
      "text/plain": "1"
     },
     "execution_count": 37,
     "metadata": {},
     "output_type": "execute_result"
    }
   ],
   "source": [
    "len(df.date.unique())"
   ],
   "metadata": {
    "collapsed": false,
    "pycharm": {
     "name": "#%%\n"
    }
   }
  },
  {
   "cell_type": "code",
   "execution_count": 38,
   "outputs": [],
   "source": [
    "cobb_df = df[df.county_id=='033']"
   ],
   "metadata": {
    "collapsed": false,
    "pycharm": {
     "name": "#%%\n"
    }
   }
  },
  {
   "cell_type": "code",
   "execution_count": 40,
   "outputs": [
    {
     "data": {
      "text/plain": "0"
     },
     "execution_count": 40,
     "metadata": {},
     "output_type": "execute_result"
    }
   ],
   "source": [
    "sum(cobb_df.provisional)"
   ],
   "metadata": {
    "collapsed": false,
    "pycharm": {
     "name": "#%%\n"
    }
   }
  },
  {
   "cell_type": "code",
   "execution_count": 28,
   "outputs": [
    {
     "name": "stdout",
     "output_type": "stream",
     "text": [
      "['001']\n"
     ]
    }
   ],
   "source": [
    "print(cobb_df.type.unique())"
   ],
   "metadata": {
    "collapsed": false,
    "pycharm": {
     "name": "#%%\n"
    }
   }
  },
  {
   "cell_type": "code",
   "execution_count": 4,
   "outputs": [],
   "source": [
    "df = ivh.read_csv(2022, '~/Downloads')"
   ],
   "metadata": {
    "collapsed": false,
    "pycharm": {
     "name": "#%%\n"
    }
   }
  },
  {
   "cell_type": "code",
   "execution_count": 29,
   "outputs": [
    {
     "data": {
      "text/plain": "       county_id  voter_id      date type party  absentee  provisional  \\\n0            101  01654423  20220524  005   NaN      True        False   \n1            101  08401369  20220524  005   NaN      True        False   \n2            101  01658214  20220524  005   NaN      True        False   \n3            101  01657443  20220524  005   NaN      True        False   \n4            101  01654430  20220524  005   NaN      True        False   \n...          ...       ...       ...  ...   ...       ...          ...   \n914278       157  00226129  20220524  001     D      True        False   \n914279       159  01303222  20220524  001     R      True        False   \n914280       154  01646483  20220524  001     R      True        False   \n914281       154  02782651  20220524  001     R      True        False   \n914282       154  02780949  20220524  001     R      True        False   \n\n        supplemental  \n0              False  \n1              False  \n2              False  \n3              False  \n4              False  \n...              ...  \n914278         False  \n914279         False  \n914280         False  \n914281         False  \n914282         False  \n\n[914283 rows x 8 columns]",
      "text/html": "<div>\n<style scoped>\n    .dataframe tbody tr th:only-of-type {\n        vertical-align: middle;\n    }\n\n    .dataframe tbody tr th {\n        vertical-align: top;\n    }\n\n    .dataframe thead th {\n        text-align: right;\n    }\n</style>\n<table border=\"1\" class=\"dataframe\">\n  <thead>\n    <tr style=\"text-align: right;\">\n      <th></th>\n      <th>county_id</th>\n      <th>voter_id</th>\n      <th>date</th>\n      <th>type</th>\n      <th>party</th>\n      <th>absentee</th>\n      <th>provisional</th>\n      <th>supplemental</th>\n    </tr>\n  </thead>\n  <tbody>\n    <tr>\n      <th>0</th>\n      <td>101</td>\n      <td>01654423</td>\n      <td>20220524</td>\n      <td>005</td>\n      <td>NaN</td>\n      <td>True</td>\n      <td>False</td>\n      <td>False</td>\n    </tr>\n    <tr>\n      <th>1</th>\n      <td>101</td>\n      <td>08401369</td>\n      <td>20220524</td>\n      <td>005</td>\n      <td>NaN</td>\n      <td>True</td>\n      <td>False</td>\n      <td>False</td>\n    </tr>\n    <tr>\n      <th>2</th>\n      <td>101</td>\n      <td>01658214</td>\n      <td>20220524</td>\n      <td>005</td>\n      <td>NaN</td>\n      <td>True</td>\n      <td>False</td>\n      <td>False</td>\n    </tr>\n    <tr>\n      <th>3</th>\n      <td>101</td>\n      <td>01657443</td>\n      <td>20220524</td>\n      <td>005</td>\n      <td>NaN</td>\n      <td>True</td>\n      <td>False</td>\n      <td>False</td>\n    </tr>\n    <tr>\n      <th>4</th>\n      <td>101</td>\n      <td>01654430</td>\n      <td>20220524</td>\n      <td>005</td>\n      <td>NaN</td>\n      <td>True</td>\n      <td>False</td>\n      <td>False</td>\n    </tr>\n    <tr>\n      <th>...</th>\n      <td>...</td>\n      <td>...</td>\n      <td>...</td>\n      <td>...</td>\n      <td>...</td>\n      <td>...</td>\n      <td>...</td>\n      <td>...</td>\n    </tr>\n    <tr>\n      <th>914278</th>\n      <td>157</td>\n      <td>00226129</td>\n      <td>20220524</td>\n      <td>001</td>\n      <td>D</td>\n      <td>True</td>\n      <td>False</td>\n      <td>False</td>\n    </tr>\n    <tr>\n      <th>914279</th>\n      <td>159</td>\n      <td>01303222</td>\n      <td>20220524</td>\n      <td>001</td>\n      <td>R</td>\n      <td>True</td>\n      <td>False</td>\n      <td>False</td>\n    </tr>\n    <tr>\n      <th>914280</th>\n      <td>154</td>\n      <td>01646483</td>\n      <td>20220524</td>\n      <td>001</td>\n      <td>R</td>\n      <td>True</td>\n      <td>False</td>\n      <td>False</td>\n    </tr>\n    <tr>\n      <th>914281</th>\n      <td>154</td>\n      <td>02782651</td>\n      <td>20220524</td>\n      <td>001</td>\n      <td>R</td>\n      <td>True</td>\n      <td>False</td>\n      <td>False</td>\n    </tr>\n    <tr>\n      <th>914282</th>\n      <td>154</td>\n      <td>02780949</td>\n      <td>20220524</td>\n      <td>001</td>\n      <td>R</td>\n      <td>True</td>\n      <td>False</td>\n      <td>False</td>\n    </tr>\n  </tbody>\n</table>\n<p>914283 rows × 8 columns</p>\n</div>"
     },
     "execution_count": 29,
     "metadata": {},
     "output_type": "execute_result"
    }
   ],
   "source": [
    "df"
   ],
   "metadata": {
    "collapsed": false,
    "pycharm": {
     "name": "#%%\n"
    }
   }
  },
  {
   "cell_type": "code",
   "execution_count": 30,
   "outputs": [
    {
     "data": {
      "text/plain": "       county_id  voter_id      date type party  absentee  provisional  \\\n4453         033  03160162  20220405  005   NaN     False         True   \n4454         033  05071936  20220405  005   NaN     False        False   \n4455         033  03070987  20220405  005   NaN     False        False   \n4456         033  03722613  20220405  005   NaN     False        False   \n4457         033  03083006  20220405  005   NaN     False        False   \n...          ...       ...       ...  ...   ...       ...          ...   \n437579       033  05194225  20220524  001     D      True        False   \n437580       033  03729652  20220524  001     D      True        False   \n437583       033  02345968  20220524  001     D      True        False   \n437587       033  06416440  20220524  001     D      True        False   \n437588       033  03822788  20220524  001     R      True        False   \n\n        supplemental  \n4453           False  \n4454           False  \n4455           False  \n4456           False  \n4457           False  \n...              ...  \n437579         False  \n437580         False  \n437583         False  \n437587         False  \n437588         False  \n\n[74428 rows x 8 columns]",
      "text/html": "<div>\n<style scoped>\n    .dataframe tbody tr th:only-of-type {\n        vertical-align: middle;\n    }\n\n    .dataframe tbody tr th {\n        vertical-align: top;\n    }\n\n    .dataframe thead th {\n        text-align: right;\n    }\n</style>\n<table border=\"1\" class=\"dataframe\">\n  <thead>\n    <tr style=\"text-align: right;\">\n      <th></th>\n      <th>county_id</th>\n      <th>voter_id</th>\n      <th>date</th>\n      <th>type</th>\n      <th>party</th>\n      <th>absentee</th>\n      <th>provisional</th>\n      <th>supplemental</th>\n    </tr>\n  </thead>\n  <tbody>\n    <tr>\n      <th>4453</th>\n      <td>033</td>\n      <td>03160162</td>\n      <td>20220405</td>\n      <td>005</td>\n      <td>NaN</td>\n      <td>False</td>\n      <td>True</td>\n      <td>False</td>\n    </tr>\n    <tr>\n      <th>4454</th>\n      <td>033</td>\n      <td>05071936</td>\n      <td>20220405</td>\n      <td>005</td>\n      <td>NaN</td>\n      <td>False</td>\n      <td>False</td>\n      <td>False</td>\n    </tr>\n    <tr>\n      <th>4455</th>\n      <td>033</td>\n      <td>03070987</td>\n      <td>20220405</td>\n      <td>005</td>\n      <td>NaN</td>\n      <td>False</td>\n      <td>False</td>\n      <td>False</td>\n    </tr>\n    <tr>\n      <th>4456</th>\n      <td>033</td>\n      <td>03722613</td>\n      <td>20220405</td>\n      <td>005</td>\n      <td>NaN</td>\n      <td>False</td>\n      <td>False</td>\n      <td>False</td>\n    </tr>\n    <tr>\n      <th>4457</th>\n      <td>033</td>\n      <td>03083006</td>\n      <td>20220405</td>\n      <td>005</td>\n      <td>NaN</td>\n      <td>False</td>\n      <td>False</td>\n      <td>False</td>\n    </tr>\n    <tr>\n      <th>...</th>\n      <td>...</td>\n      <td>...</td>\n      <td>...</td>\n      <td>...</td>\n      <td>...</td>\n      <td>...</td>\n      <td>...</td>\n      <td>...</td>\n    </tr>\n    <tr>\n      <th>437579</th>\n      <td>033</td>\n      <td>05194225</td>\n      <td>20220524</td>\n      <td>001</td>\n      <td>D</td>\n      <td>True</td>\n      <td>False</td>\n      <td>False</td>\n    </tr>\n    <tr>\n      <th>437580</th>\n      <td>033</td>\n      <td>03729652</td>\n      <td>20220524</td>\n      <td>001</td>\n      <td>D</td>\n      <td>True</td>\n      <td>False</td>\n      <td>False</td>\n    </tr>\n    <tr>\n      <th>437583</th>\n      <td>033</td>\n      <td>02345968</td>\n      <td>20220524</td>\n      <td>001</td>\n      <td>D</td>\n      <td>True</td>\n      <td>False</td>\n      <td>False</td>\n    </tr>\n    <tr>\n      <th>437587</th>\n      <td>033</td>\n      <td>06416440</td>\n      <td>20220524</td>\n      <td>001</td>\n      <td>D</td>\n      <td>True</td>\n      <td>False</td>\n      <td>False</td>\n    </tr>\n    <tr>\n      <th>437588</th>\n      <td>033</td>\n      <td>03822788</td>\n      <td>20220524</td>\n      <td>001</td>\n      <td>R</td>\n      <td>True</td>\n      <td>False</td>\n      <td>False</td>\n    </tr>\n  </tbody>\n</table>\n<p>74428 rows × 8 columns</p>\n</div>"
     },
     "execution_count": 30,
     "metadata": {},
     "output_type": "execute_result"
    }
   ],
   "source": [
    "df_cobb = df[df.county_id=='033']\n",
    "df_cobb"
   ],
   "metadata": {
    "collapsed": false,
    "pycharm": {
     "name": "#%%\n"
    }
   }
  },
  {
   "cell_type": "code",
   "execution_count": 13,
   "outputs": [
    {
     "data": {
      "text/plain": "       county_id  voter_id      date type party  absentee  provisional  \\\n152498       033  08362848  20220524  001     R      True        False   \n152505       033  06707515  20220524  001     D      True        False   \n152511       033  03327282  20220524  001     D      True        False   \n152512       033  01511203  20220524  001     D      True        False   \n152517       033  03157313  20220524  001     R      True        False   \n...          ...       ...       ...  ...   ...       ...          ...   \n398599       033  05194225  20220524  001     D      True        False   \n398600       033  03729652  20220524  001     D      True        False   \n398603       033  02345968  20220524  001     D      True        False   \n398607       033  06416440  20220524  001     D      True        False   \n398608       033  03822788  20220524  001     R      True        False   \n\n        supplemental  \n152498         False  \n152505         False  \n152511         False  \n152512         False  \n152517         False  \n...              ...  \n398599         False  \n398600         False  \n398603         False  \n398607         False  \n398608         False  \n\n[64280 rows x 8 columns]",
      "text/html": "<div>\n<style scoped>\n    .dataframe tbody tr th:only-of-type {\n        vertical-align: middle;\n    }\n\n    .dataframe tbody tr th {\n        vertical-align: top;\n    }\n\n    .dataframe thead th {\n        text-align: right;\n    }\n</style>\n<table border=\"1\" class=\"dataframe\">\n  <thead>\n    <tr style=\"text-align: right;\">\n      <th></th>\n      <th>county_id</th>\n      <th>voter_id</th>\n      <th>date</th>\n      <th>type</th>\n      <th>party</th>\n      <th>absentee</th>\n      <th>provisional</th>\n      <th>supplemental</th>\n    </tr>\n  </thead>\n  <tbody>\n    <tr>\n      <th>152498</th>\n      <td>033</td>\n      <td>08362848</td>\n      <td>20220524</td>\n      <td>001</td>\n      <td>R</td>\n      <td>True</td>\n      <td>False</td>\n      <td>False</td>\n    </tr>\n    <tr>\n      <th>152505</th>\n      <td>033</td>\n      <td>06707515</td>\n      <td>20220524</td>\n      <td>001</td>\n      <td>D</td>\n      <td>True</td>\n      <td>False</td>\n      <td>False</td>\n    </tr>\n    <tr>\n      <th>152511</th>\n      <td>033</td>\n      <td>03327282</td>\n      <td>20220524</td>\n      <td>001</td>\n      <td>D</td>\n      <td>True</td>\n      <td>False</td>\n      <td>False</td>\n    </tr>\n    <tr>\n      <th>152512</th>\n      <td>033</td>\n      <td>01511203</td>\n      <td>20220524</td>\n      <td>001</td>\n      <td>D</td>\n      <td>True</td>\n      <td>False</td>\n      <td>False</td>\n    </tr>\n    <tr>\n      <th>152517</th>\n      <td>033</td>\n      <td>03157313</td>\n      <td>20220524</td>\n      <td>001</td>\n      <td>R</td>\n      <td>True</td>\n      <td>False</td>\n      <td>False</td>\n    </tr>\n    <tr>\n      <th>...</th>\n      <td>...</td>\n      <td>...</td>\n      <td>...</td>\n      <td>...</td>\n      <td>...</td>\n      <td>...</td>\n      <td>...</td>\n      <td>...</td>\n    </tr>\n    <tr>\n      <th>398599</th>\n      <td>033</td>\n      <td>05194225</td>\n      <td>20220524</td>\n      <td>001</td>\n      <td>D</td>\n      <td>True</td>\n      <td>False</td>\n      <td>False</td>\n    </tr>\n    <tr>\n      <th>398600</th>\n      <td>033</td>\n      <td>03729652</td>\n      <td>20220524</td>\n      <td>001</td>\n      <td>D</td>\n      <td>True</td>\n      <td>False</td>\n      <td>False</td>\n    </tr>\n    <tr>\n      <th>398603</th>\n      <td>033</td>\n      <td>02345968</td>\n      <td>20220524</td>\n      <td>001</td>\n      <td>D</td>\n      <td>True</td>\n      <td>False</td>\n      <td>False</td>\n    </tr>\n    <tr>\n      <th>398607</th>\n      <td>033</td>\n      <td>06416440</td>\n      <td>20220524</td>\n      <td>001</td>\n      <td>D</td>\n      <td>True</td>\n      <td>False</td>\n      <td>False</td>\n    </tr>\n    <tr>\n      <th>398608</th>\n      <td>033</td>\n      <td>03822788</td>\n      <td>20220524</td>\n      <td>001</td>\n      <td>R</td>\n      <td>True</td>\n      <td>False</td>\n      <td>False</td>\n    </tr>\n  </tbody>\n</table>\n<p>64280 rows × 8 columns</p>\n</div>"
     },
     "execution_count": 13,
     "metadata": {},
     "output_type": "execute_result"
    }
   ],
   "source": [
    "df_cobb_05_24 = df_cobb[df_cobb.date=='20220524']\n",
    "df_cobb_05_24"
   ],
   "metadata": {
    "collapsed": false,
    "pycharm": {
     "name": "#%%\n"
    }
   }
  },
  {
   "cell_type": "code",
   "execution_count": 41,
   "outputs": [],
   "source": [
    "ivh.ingest_voter_history_year(2017)\n",
    "ivh.ingest_voter_history_year(2016)\n",
    "ivh.ingest_voter_history_year(2015)\n",
    "ivh.ingest_voter_history_year(2014)"
   ],
   "metadata": {
    "collapsed": false,
    "pycharm": {
     "name": "#%%\n"
    }
   }
  },
  {
   "cell_type": "code",
   "execution_count": null,
   "outputs": [],
   "source": [],
   "metadata": {
    "collapsed": false,
    "pycharm": {
     "name": "#%%\n"
    }
   }
  }
 ],
 "metadata": {
  "kernelspec": {
   "display_name": "Python 3",
   "language": "python",
   "name": "python3"
  },
  "language_info": {
   "codemirror_mode": {
    "name": "ipython",
    "version": 2
   },
   "file_extension": ".py",
   "mimetype": "text/x-python",
   "name": "python",
   "nbconvert_exporter": "python",
   "pygments_lexer": "ipython2",
   "version": "2.7.6"
  }
 },
 "nbformat": 4,
 "nbformat_minor": 0
}