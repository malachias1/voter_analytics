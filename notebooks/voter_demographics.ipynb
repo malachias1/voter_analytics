{
 "cells": [
  {
   "cell_type": "code",
   "execution_count": 1,
   "outputs": [],
   "source": [
    "%load_ext autoreload\n",
    "%autoreload 2"
   ],
   "metadata": {
    "collapsed": false,
    "pycharm": {
     "name": "#%%\n"
    }
   }
  },
  {
   "cell_type": "code",
   "execution_count": 2,
   "outputs": [],
   "source": [
    "import django\n",
    "import os\n",
    "\n",
    "os.environ['DJANGO_SETTINGS_MODULE'] = 'dashboard.settings'\n",
    "os.environ[\"DJANGO_ALLOW_ASYNC_UNSAFE\"] = \"true\"\n",
    "django.setup()"
   ],
   "metadata": {
    "collapsed": false,
    "pycharm": {
     "name": "#%%\n"
    }
   }
  },
  {
   "cell_type": "code",
   "execution_count": 3,
   "outputs": [],
   "source": [
    "import pandas as pd\n",
    "from data.voterdb import VoterDb"
   ],
   "metadata": {
    "collapsed": false,
    "pycharm": {
     "name": "#%%\n"
    }
   }
  },
  {
   "cell_type": "code",
   "execution_count": 4,
   "outputs": [],
   "source": [
    "db = VoterDb()"
   ],
   "metadata": {
    "collapsed": false,
    "pycharm": {
     "name": "#%%\n"
    }
   }
  },
  {
   "cell_type": "code",
   "execution_count": 5,
   "outputs": [],
   "source": [
    "results = db.fetchall(f\"\"\"\n",
    "    select vs.voter_id, vs.date_added, vs.registration_date,\n",
    "     vd.race_id, vd.year_of_birth, vd.gender\n",
    "    from voter_status as vs\n",
    "    join voter_demographics vd on vs.voter_id = vd.voter_id\n",
    "    where vs.status = 'A'\n",
    "\"\"\")"
   ],
   "metadata": {
    "collapsed": false,
    "pycharm": {
     "name": "#%%\n"
    }
   }
  },
  {
   "cell_type": "code",
   "execution_count": 6,
   "outputs": [],
   "source": [
    "df = pd.DataFrame.from_records(results, columns=['voter_id', 'date_added', 'registration_date',\n",
    "                                                 'race_id', 'year_of_birth', 'gender'])\n"
   ],
   "metadata": {
    "collapsed": false,
    "pycharm": {
     "name": "#%%\n"
    }
   }
  },
  {
   "cell_type": "code",
   "execution_count": 8,
   "outputs": [],
   "source": [
    "df = df.assign(date_added=pd.to_datetime(df.date_added, errors='coerce', format='%Y%m%d'),\n",
    "               registration_date=pd.to_datetime(df.registration_date, errors='coerce', format='%Y-%m-%d'))"
   ],
   "metadata": {
    "collapsed": false,
    "pycharm": {
     "name": "#%%\n"
    }
   }
  },
  {
   "cell_type": "code",
   "execution_count": 9,
   "outputs": [
    {
     "data": {
      "text/plain": "   voter_id date_added registration_date race_id  year_of_birth gender\n0  01396328 1987-06-12        1987-06-12      WH           1969      M\n1  01396510 1988-09-28        1988-09-28      WH           1947      F\n2  01396535 1984-10-08        1984-10-08      WH           1947      M\n3  01396571 1979-03-20        1979-03-20      WH           1951      F\n4  01396606 1976-03-20        1976-03-20      WH           1948      M",
      "text/html": "<div>\n<style scoped>\n    .dataframe tbody tr th:only-of-type {\n        vertical-align: middle;\n    }\n\n    .dataframe tbody tr th {\n        vertical-align: top;\n    }\n\n    .dataframe thead th {\n        text-align: right;\n    }\n</style>\n<table border=\"1\" class=\"dataframe\">\n  <thead>\n    <tr style=\"text-align: right;\">\n      <th></th>\n      <th>voter_id</th>\n      <th>date_added</th>\n      <th>registration_date</th>\n      <th>race_id</th>\n      <th>year_of_birth</th>\n      <th>gender</th>\n    </tr>\n  </thead>\n  <tbody>\n    <tr>\n      <th>0</th>\n      <td>01396328</td>\n      <td>1987-06-12</td>\n      <td>1987-06-12</td>\n      <td>WH</td>\n      <td>1969</td>\n      <td>M</td>\n    </tr>\n    <tr>\n      <th>1</th>\n      <td>01396510</td>\n      <td>1988-09-28</td>\n      <td>1988-09-28</td>\n      <td>WH</td>\n      <td>1947</td>\n      <td>F</td>\n    </tr>\n    <tr>\n      <th>2</th>\n      <td>01396535</td>\n      <td>1984-10-08</td>\n      <td>1984-10-08</td>\n      <td>WH</td>\n      <td>1947</td>\n      <td>M</td>\n    </tr>\n    <tr>\n      <th>3</th>\n      <td>01396571</td>\n      <td>1979-03-20</td>\n      <td>1979-03-20</td>\n      <td>WH</td>\n      <td>1951</td>\n      <td>F</td>\n    </tr>\n    <tr>\n      <th>4</th>\n      <td>01396606</td>\n      <td>1976-03-20</td>\n      <td>1976-03-20</td>\n      <td>WH</td>\n      <td>1948</td>\n      <td>M</td>\n    </tr>\n  </tbody>\n</table>\n</div>"
     },
     "execution_count": 9,
     "metadata": {},
     "output_type": "execute_result"
    }
   ],
   "source": [
    "df.head()"
   ],
   "metadata": {
    "collapsed": false,
    "pycharm": {
     "name": "#%%\n"
    }
   }
  },
  {
   "cell_type": "code",
   "execution_count": 10,
   "outputs": [],
   "source": [
    "from datetime import datetime\n",
    "\n",
    "oct_2016 = datetime.strptime('20161001', '%Y%m%d')\n",
    "oct_2020 = datetime.strptime('20201001', '%Y%m%d')\n",
    "\n",
    "df_2016 = df[(df.date_added <= oct_2016) |  (df.registration_date <= oct_2016)]\n",
    "df_2020 = df[(df.date_added <= oct_2020) |  (df.registration_date <= oct_2020)]"
   ],
   "metadata": {
    "collapsed": false,
    "pycharm": {
     "name": "#%%\n"
    }
   }
  },
  {
   "cell_type": "code",
   "execution_count": 12,
   "outputs": [],
   "source": [
    "mean_age_2016 = (2016 - df_2016.year_of_birth).mean()"
   ],
   "metadata": {
    "collapsed": false,
    "pycharm": {
     "name": "#%%\n"
    }
   }
  },
  {
   "cell_type": "code",
   "execution_count": 13,
   "outputs": [],
   "source": [
    "mean_age_2020 = (2020 - df_2020.year_of_birth).mean()"
   ],
   "metadata": {
    "collapsed": false,
    "pycharm": {
     "name": "#%%\n"
    }
   }
  },
  {
   "cell_type": "code",
   "execution_count": 15,
   "outputs": [],
   "source": [
    "df_2020_2016 = df_2020[(df_2020.date_added > oct_2016)]"
   ],
   "metadata": {
    "collapsed": false,
    "pycharm": {
     "name": "#%%\n"
    }
   }
  },
  {
   "cell_type": "code",
   "execution_count": 16,
   "outputs": [],
   "source": [
    "mean_age_2020_2016 = (2020 - df_2020_2016.year_of_birth).mean()"
   ],
   "metadata": {
    "collapsed": false,
    "pycharm": {
     "name": "#%%\n"
    }
   }
  },
  {
   "cell_type": "code",
   "execution_count": 19,
   "outputs": [],
   "source": [
    "df_2016_wh = len(df_2016[df_2016.race_id == 'WH'].index)\n",
    "df_2016_nh = len(df_2016[df_2016.race_id != 'WH'].index)\n",
    "df_2020_wh = len(df_2020[df_2020.race_id == 'WH'].index)\n",
    "df_2020_nh = len(df_2020[df_2020.race_id != 'WH'].index)"
   ],
   "metadata": {
    "collapsed": false,
    "pycharm": {
     "name": "#%%\n"
    }
   }
  },
  {
   "cell_type": "code",
   "execution_count": 21,
   "outputs": [
    {
     "data": {
      "text/plain": "0.4318144753183718"
     },
     "execution_count": 21,
     "metadata": {},
     "output_type": "execute_result"
    }
   ],
   "source": [
    "df_2016_nh/len(df_2016.index)"
   ],
   "metadata": {
    "collapsed": false,
    "pycharm": {
     "name": "#%%\n"
    }
   }
  },
  {
   "cell_type": "code",
   "execution_count": 22,
   "outputs": [
    {
     "data": {
      "text/plain": "0.4643261572921852"
     },
     "execution_count": 22,
     "metadata": {},
     "output_type": "execute_result"
    }
   ],
   "source": [
    "df_2020_nh/len(df_2020.index)"
   ],
   "metadata": {
    "collapsed": false,
    "pycharm": {
     "name": "#%%\n"
    }
   }
  },
  {
   "cell_type": "code",
   "execution_count": 23,
   "outputs": [],
   "source": [
    "df_2020_2016_nh = len(df_2020_2016[df_2020_2016.race_id != 'WH'].index)"
   ],
   "metadata": {
    "collapsed": false,
    "pycharm": {
     "name": "#%%\n"
    }
   }
  },
  {
   "cell_type": "code",
   "execution_count": 24,
   "outputs": [
    {
     "data": {
      "text/plain": "0.5724153239231988"
     },
     "execution_count": 24,
     "metadata": {},
     "output_type": "execute_result"
    }
   ],
   "source": [
    "df_2020_2016_nh/len(df_2020_2016.index)"
   ],
   "metadata": {
    "collapsed": false,
    "pycharm": {
     "name": "#%%\n"
    }
   }
  },
  {
   "cell_type": "code",
   "execution_count": 25,
   "outputs": [
    {
     "data": {
      "text/plain": "1486622"
     },
     "execution_count": 25,
     "metadata": {},
     "output_type": "execute_result"
    }
   ],
   "source": [
    "6428800 - 4942178"
   ],
   "metadata": {
    "collapsed": false,
    "pycharm": {
     "name": "#%%\n"
    }
   }
  },
  {
   "cell_type": "code",
   "execution_count": 26,
   "outputs": [],
   "source": [
    "df_2020_2016_f = len(df_2020_2016[df_2020_2016.gender == 'F'].index)"
   ],
   "metadata": {
    "collapsed": false,
    "pycharm": {
     "name": "#%%\n"
    }
   }
  },
  {
   "cell_type": "code",
   "execution_count": 27,
   "outputs": [
    {
     "data": {
      "text/plain": "0.4907469252267614"
     },
     "execution_count": 27,
     "metadata": {},
     "output_type": "execute_result"
    }
   ],
   "source": [
    "df_2020_2016_f/len(df_2020_2016.index)"
   ],
   "metadata": {
    "collapsed": false,
    "pycharm": {
     "name": "#%%\n"
    }
   }
  },
  {
   "cell_type": "code",
   "execution_count": 28,
   "outputs": [],
   "source": [
    "df_2016_f = len(df_2016[df_2016.gender == 'F'].index)/len(df_2016.index)"
   ],
   "metadata": {
    "collapsed": false,
    "pycharm": {
     "name": "#%%\n"
    }
   }
  },
  {
   "cell_type": "code",
   "execution_count": 29,
   "outputs": [],
   "source": [
    "df_2020_f = len(df_2020[df_2020.gender == 'F'].index)/len(df_2020.index)"
   ],
   "metadata": {
    "collapsed": false,
    "pycharm": {
     "name": "#%%\n"
    }
   }
  },
  {
   "cell_type": "code",
   "execution_count": null,
   "outputs": [],
   "source": [],
   "metadata": {
    "collapsed": false,
    "pycharm": {
     "name": "#%%\n"
    }
   }
  }
 ],
 "metadata": {
  "kernelspec": {
   "display_name": "Python 3",
   "language": "python",
   "name": "python3"
  },
  "language_info": {
   "codemirror_mode": {
    "name": "ipython",
    "version": 2
   },
   "file_extension": ".py",
   "mimetype": "text/x-python",
   "name": "python",
   "nbconvert_exporter": "python",
   "pygments_lexer": "ipython2",
   "version": "2.7.6"
  }
 },
 "nbformat": 4,
 "nbformat_minor": 0
}