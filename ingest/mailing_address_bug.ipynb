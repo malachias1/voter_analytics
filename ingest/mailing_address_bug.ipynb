{
 "cells": [
  {
   "cell_type": "code",
   "execution_count": 1,
   "outputs": [],
   "source": [
    "import pandas as pd\n",
    "%load_ext autoreload\n",
    "%autoreload 2"
   ],
   "metadata": {
    "collapsed": false,
    "pycharm": {
     "name": "#%%\n"
    }
   }
  },
  {
   "cell_type": "code",
   "execution_count": 2,
   "outputs": [],
   "source": [
    "from data.mailing_address_management import MailingAddressManagement\n",
    "from data.voter_list import VoterList"
   ],
   "metadata": {
    "collapsed": false,
    "pycharm": {
     "name": "#%%\n"
    }
   }
  },
  {
   "cell_type": "code",
   "execution_count": 3,
   "outputs": [],
   "source": [
    "import django\n",
    "import os\n",
    "\n",
    "os.environ['DJANGO_SETTINGS_MODULE'] = 'dashboard.settings'\n",
    "os.environ[\"DJANGO_ALLOW_ASYNC_UNSAFE\"] = \"true\"\n",
    "django.setup()\n"
   ],
   "metadata": {
    "collapsed": false,
    "pycharm": {
     "name": "#%%\n"
    }
   }
  },
  {
   "cell_type": "code",
   "execution_count": 4,
   "outputs": [],
   "source": [
    "root_dir = '~/Documents/data'\n",
    "mam = MailingAddressManagement()"
   ],
   "metadata": {
    "collapsed": false,
    "pycharm": {
     "name": "#%%\n"
    }
   }
  },
  {
   "cell_type": "code",
   "execution_count": 5,
   "outputs": [],
   "source": [
    "vl = VoterList(root_dir)\n",
    "df = vl.read_csv('036')"
   ],
   "metadata": {
    "collapsed": false,
    "pycharm": {
     "name": "#%%\n"
    }
   }
  },
  {
   "cell_type": "code",
   "execution_count": 9,
   "outputs": [],
   "source": [
    "updates = mam.rebuild_voter_address_links(df)"
   ],
   "metadata": {
    "collapsed": false,
    "pycharm": {
     "name": "#%%\n"
    }
   }
  },
  {
   "cell_type": "code",
   "execution_count": 8,
   "outputs": [
    {
     "data": {
      "text/plain": "   address_id                                            key  voter_id\n0       48555  3044 HIDDEN FOREST CT; MARIETTA GA 30066-3112  12201332\n1      103393           465 SEBASTIAN DR; GROVETOWN GA 30813  03928133\n2      125211    3243 ALEXANDRIA DR; GROVETOWN GA 30813-4918  10590492\n3      138286        611 WALDEN GLEN LN; EVANS GA 30809-3138  11085857\n4      138286        611 WALDEN GLEN LN; EVANS GA 30809-3138  11769195",
      "text/html": "<div>\n<style scoped>\n    .dataframe tbody tr th:only-of-type {\n        vertical-align: middle;\n    }\n\n    .dataframe tbody tr th {\n        vertical-align: top;\n    }\n\n    .dataframe thead th {\n        text-align: right;\n    }\n</style>\n<table border=\"1\" class=\"dataframe\">\n  <thead>\n    <tr style=\"text-align: right;\">\n      <th></th>\n      <th>address_id</th>\n      <th>key</th>\n      <th>voter_id</th>\n    </tr>\n  </thead>\n  <tbody>\n    <tr>\n      <th>0</th>\n      <td>48555</td>\n      <td>3044 HIDDEN FOREST CT; MARIETTA GA 30066-3112</td>\n      <td>12201332</td>\n    </tr>\n    <tr>\n      <th>1</th>\n      <td>103393</td>\n      <td>465 SEBASTIAN DR; GROVETOWN GA 30813</td>\n      <td>03928133</td>\n    </tr>\n    <tr>\n      <th>2</th>\n      <td>125211</td>\n      <td>3243 ALEXANDRIA DR; GROVETOWN GA 30813-4918</td>\n      <td>10590492</td>\n    </tr>\n    <tr>\n      <th>3</th>\n      <td>138286</td>\n      <td>611 WALDEN GLEN LN; EVANS GA 30809-3138</td>\n      <td>11085857</td>\n    </tr>\n    <tr>\n      <th>4</th>\n      <td>138286</td>\n      <td>611 WALDEN GLEN LN; EVANS GA 30809-3138</td>\n      <td>11769195</td>\n    </tr>\n  </tbody>\n</table>\n</div>"
     },
     "execution_count": 8,
     "metadata": {},
     "output_type": "execute_result"
    }
   ],
   "source": [
    "updates.head()"
   ],
   "metadata": {
    "collapsed": false,
    "pycharm": {
     "name": "#%%\n"
    }
   }
  },
  {
   "cell_type": "code",
   "execution_count": 10,
   "outputs": [],
   "source": [
    "mam.replace(updates)"
   ],
   "metadata": {
    "collapsed": false,
    "pycharm": {
     "name": "#%%\n"
    }
   }
  },
  {
   "cell_type": "code",
   "execution_count": 30,
   "outputs": [
    {
     "name": "stdout",
     "output_type": "stream",
     "text": [
      "135 details ... Done\n",
      "132 details ... Done\n",
      "104 details ... Done\n",
      "103 details ... Done\n",
      "157 details ... Done\n",
      "150 details ... Done\n",
      "159 details ... Done\n",
      "102 details ... Done\n",
      "105 details ... Done\n",
      "133 details ... Done\n",
      "134 details ... Done\n",
      "158 details ... Done\n",
      "151 details ... Done\n",
      "156 details ... Done\n",
      "024 details ... Done\n",
      "023 details ... Done\n",
      "015 details ... Done\n",
      "012 details ... Done\n",
      "079 details ... Done\n",
      "046 details ... Done\n",
      "041 details ... Done\n",
      "048 details ... Done\n",
      "077 details ... Done\n",
      "083 details ... Done\n",
      "084 details ... Done\n",
      "070 details ... Done\n",
      "013 details ... Done\n",
      "014 details ... Done\n",
      "022 details ... Done\n",
      "025 details ... Done\n",
      "071 details ... Done\n",
      "085 details ... Done\n",
      "049 details ... Done\n",
      "082 details ... Done\n",
      "076 details ... Done\n",
      "040 details ... Done\n",
      "078 details ... Done\n",
      "047 details ... Done\n",
      "065 details ... Done\n",
      "091 details ... Done\n",
      "096 details ... Done\n",
      "062 details ... Done\n",
      "054 details ... Done\n",
      "053 details ... Done\n",
      "098 details ... Done\n",
      "038 details ... Done\n",
      "007 details ... Done\n",
      "009 details ... Done\n",
      "036 details ... Done\n",
      "031 details ... Done\n",
      "052 details ... Done\n",
      "099 details ... Done\n",
      "055 details ... Done\n",
      "063 details ... Done\n",
      "097 details ... Done\n",
      "090 details ... Done\n",
      "064 details ... Done\n",
      "030 details ... Done\n",
      "008 details ... Done\n",
      "037 details ... Done\n",
      "001 details ... Done\n",
      "039 details ... Done\n",
      "006 details ... Done\n",
      "145 details ... Done\n",
      "142 details ... Done\n",
      "129 details ... Done\n",
      "116 details ... Done\n",
      "111 details ... Done\n",
      "118 details ... Done\n",
      "127 details ... Done\n",
      "120 details ... Done\n",
      "143 details ... Done\n",
      "144 details ... Done\n",
      "121 details ... Done\n",
      "119 details ... Done\n",
      "126 details ... Done\n",
      "110 details ... Done\n",
      "128 details ... Done\n",
      "117 details ... Done\n",
      "153 details ... Done\n",
      "154 details ... Done\n",
      "131 details ... Done\n",
      "136 details ... Done\n",
      "109 details ... Done\n",
      "100 details ... Done\n",
      "107 details ... Done\n",
      "138 details ... Done\n",
      "155 details ... Done\n",
      "152 details ... Done\n",
      "106 details ... Done\n",
      "139 details ... Done\n",
      "101 details ... Done\n",
      "137 details ... Done\n",
      "108 details ... Done\n",
      "130 details ... Done\n",
      "089 details ... Done\n",
      "042 details ... Done\n",
      "045 details ... Done\n",
      "087 details ... Done\n",
      "073 details ... Done\n",
      "074 details ... Done\n",
      "080 details ... Done\n",
      "020 details ... Done\n",
      "027 details ... Done\n",
      "018 details ... Done\n",
      "011 details ... Done\n",
      "016 details ... Done\n",
      "029 details ... Done\n",
      "081 details ... Done\n",
      "075 details ... Done\n",
      "072 details ... Done\n",
      "086 details ... Done\n",
      "044 details ... Done\n",
      "088 details ... Done\n",
      "043 details ... Done\n",
      "017 details ... Done\n",
      "028 details ... Done\n",
      "010 details ... Done\n",
      "026 details ... Done\n",
      "019 details ... Done\n",
      "021 details ... Done\n",
      "003 details ... Done\n",
      "004 details ... Done\n",
      "032 details ... Done\n",
      "035 details ... Done\n",
      "095 details ... Done\n",
      "061 details ... Done\n",
      "066 details ... Done\n",
      "092 details ... Done\n",
      "059 details ... Done\n",
      "050 details ... Done\n",
      "057 details ... Done\n",
      "068 details ... Done\n",
      "034 details ... Done\n",
      "033 details ... Done\n",
      "005 details ... Done\n",
      "002 details ... Done\n",
      "056 details ... Done\n",
      "069 details ... Done\n",
      "051 details ... Done\n",
      "093 details ... Done\n",
      "067 details ... Done\n",
      "058 details ... Done\n",
      "060 details ... Done\n",
      "094 details ... Done\n",
      "112 details ... Done\n",
      "115 details ... Done\n",
      "123 details ... Done\n",
      "124 details ... Done\n",
      "148 details ... Done\n",
      "141 details ... Done\n",
      "146 details ... Done\n",
      "125 details ... Done\n",
      "122 details ... Done\n",
      "114 details ... Done\n",
      "113 details ... Done\n",
      "147 details ... Done\n",
      "140 details ... Done\n",
      "149 details ... Done\n",
      "135 links ... Done\n",
      "132 links ... Done\n",
      "104 links ... Done\n",
      "103 links ... Done\n",
      "157 links ... Done\n",
      "150 links ... Done\n",
      "159 links ... Done\n",
      "102 links ... Done\n",
      "105 links ... Done\n",
      "133 links ... Done\n",
      "134 links ... Done\n",
      "158 links ... Done\n",
      "151 links ... Done\n",
      "156 links ... Done\n",
      "024 links ... Done\n",
      "023 links ... Done\n",
      "015 links ... Done\n",
      "012 links ... Done\n",
      "079 links ... Done\n",
      "046 links ... Done\n",
      "041 links ... Done\n",
      "048 links ... Done\n",
      "077 links ... Done\n",
      "083 links ... Done\n",
      "084 links ... Done\n",
      "070 links ... Done\n",
      "013 links ... Done\n",
      "014 links ... Done\n",
      "022 links ... Done\n",
      "025 links ... Done\n",
      "071 links ... Done\n",
      "085 links ... Done\n",
      "049 links ... Done\n",
      "082 links ... Done\n",
      "076 links ... Done\n",
      "040 links ... Done\n",
      "078 links ... Done\n",
      "047 links ... Done\n",
      "065 links ... Done\n",
      "091 links ... Done\n",
      "096 links ... Done\n",
      "062 links ... Done\n",
      "054 links ... Done\n",
      "053 links ... Done\n",
      "098 links ... Done\n",
      "038 links ... Done\n",
      "007 links ... Done\n",
      "009 links ... Done\n",
      "036 links ... Done\n",
      "031 links ... Done\n",
      "052 links ... Done\n",
      "099 links ... Done\n",
      "055 links ... Done\n",
      "063 links ... Done\n",
      "097 links ... Done\n",
      "090 links ... Done\n",
      "064 links ... Done\n",
      "030 links ... Done\n",
      "008 links ... Done\n",
      "037 links ... Done\n",
      "001 links ... Done\n",
      "039 links ... Done\n",
      "006 links ... Done\n",
      "145 links ... Done\n",
      "142 links ... Done\n",
      "129 links ... Done\n",
      "116 links ... Done\n",
      "111 links ... Done\n",
      "118 links ... Done\n",
      "127 links ... Done\n",
      "120 links ... Done\n",
      "143 links ... Done\n",
      "144 links ... Done\n",
      "121 links ... Done\n",
      "119 links ... Done\n",
      "126 links ... Done\n",
      "110 links ... Done\n",
      "128 links ... Done\n",
      "117 links ... Done\n",
      "153 links ... Done\n",
      "154 links ... Done\n",
      "131 links ... Done\n",
      "136 links ... Done\n",
      "109 links ... Done\n",
      "100 links ... Done\n",
      "107 links ... Done\n",
      "138 links ... Done\n",
      "155 links ... Done\n",
      "152 links ... Done\n",
      "106 links ... Done\n",
      "139 links ... Done\n",
      "101 links ... Done\n",
      "137 links ... Done\n",
      "108 links ... Done\n",
      "130 links ... Done\n",
      "089 links ... Done\n",
      "042 links ... Done\n",
      "045 links ... Done\n",
      "087 links ... Done\n",
      "073 links ... Done\n",
      "074 links ... Done\n",
      "080 links ... Done\n",
      "020 links ... Done\n",
      "027 links ... Done\n",
      "018 links ... Done\n",
      "011 links ... Done\n",
      "016 links ... Done\n",
      "029 links ... Done\n",
      "081 links ... Done\n",
      "075 links ... Done\n",
      "072 links ... Done\n",
      "086 links ... Done\n",
      "044 links ... Done\n",
      "088 links ... Done\n",
      "043 links ... Done\n",
      "017 links ... Done\n",
      "028 links ... Done\n",
      "010 links ... Done\n",
      "026 links ... Done\n",
      "019 links ... Done\n",
      "021 links ... Done\n",
      "003 links ... Done\n",
      "004 links ... Done\n",
      "032 links ... Done\n",
      "035 links ... Done\n",
      "095 links ... Done\n",
      "061 links ... Done\n",
      "066 links ... Done\n",
      "092 links ... Done\n",
      "059 links ... Done\n",
      "050 links ... Done\n",
      "057 links ... Done\n",
      "068 links ... Done\n",
      "034 links ... Done\n",
      "033 links ... Done\n",
      "005 links ... Done\n",
      "002 links ... Done\n",
      "056 links ... Done\n",
      "069 links ... Done\n",
      "051 links ... Done\n",
      "093 links ... Done\n",
      "067 links ... Done\n",
      "058 links ... Done\n",
      "060 links ... Done\n",
      "094 links ... Done\n",
      "112 links ... Done\n",
      "115 links ... Done\n",
      "123 links ... Done\n",
      "124 links ... Done\n",
      "148 links ... Done\n",
      "141 links ... Done\n",
      "146 links ... Done\n",
      "125 links ... Done\n",
      "122 links ... Done\n",
      "114 links ... Done\n",
      "113 links ... Done\n",
      "147 links ... Done\n",
      "140 links ... Done\n",
      "149 links ... Done\n"
     ]
    }
   ],
   "source": [
    "mam.ingest(root_dir)"
   ],
   "metadata": {
    "collapsed": false,
    "pycharm": {
     "name": "#%%\n"
    }
   }
  },
  {
   "cell_type": "code",
   "execution_count": 19,
   "outputs": [],
   "source": [
    "import pandas as pd\n",
    "df = pd.read_csv('~/Documents/data/ga/politics/voter_list/2022-03-14_ga.csv', dtype=str)"
   ],
   "metadata": {
    "collapsed": false,
    "pycharm": {
     "name": "#%%\n"
    }
   }
  },
  {
   "cell_type": "code",
   "execution_count": 20,
   "outputs": [
    {
     "data": {
      "text/plain": "65"
     },
     "execution_count": 20,
     "metadata": {},
     "output_type": "execute_result"
    }
   ],
   "source": [
    "len(df.columns)"
   ],
   "metadata": {
    "collapsed": false,
    "pycharm": {
     "name": "#%%\n"
    }
   }
  },
  {
   "cell_type": "code",
   "execution_count": 21,
   "outputs": [
    {
     "data": {
      "text/plain": "63"
     },
     "execution_count": 21,
     "metadata": {},
     "output_type": "execute_result"
    }
   ],
   "source": [
    "columns = [\n",
    "    'county_code',\n",
    "    'voter_id',\n",
    "    'voter_status',\n",
    "    'last_name',\n",
    "    'first_name',\n",
    "    'middle_maiden_name',\n",
    "    'name_suffix',\n",
    "    'name_title',\n",
    "    'residence_house_number',\n",
    "    'residence_street_name',\n",
    "    'residence_street_suffix',\n",
    "    'residence_apt_unit_nbr',\n",
    "    'residence_city',\n",
    "    'residence_zipcode',\n",
    "    'year_of_birth',\n",
    "    'registration_date',\n",
    "    'race_id',\n",
    "    'gender',\n",
    "    'land_district',\n",
    "    'land_lot',\n",
    "    'status_reason',\n",
    "    'precinct_id',\n",
    "    'city_precinct_id',\n",
    "    'cng',\n",
    "    'sen',\n",
    "    'hse',\n",
    "    'jud',\n",
    "    'com',\n",
    "    'sch',\n",
    "    'county_districta_name',\n",
    "    'county_districta_value',\n",
    "    'county_districtb_name',\n",
    "    'county_districtb_value',\n",
    "    'municipal_name',\n",
    "    'municipal_code',\n",
    "    'ward_city_council_name',\n",
    "    'ward_city_council_code',\n",
    "    'city_school_district_name',\n",
    "    'city_school_district_value',\n",
    "    'city_dista_name',\n",
    "    'city_dista_value',\n",
    "    'city_distb_name',\n",
    "    'city_distb_value',\n",
    "    'city_distc_name',\n",
    "    'city_distc_value',\n",
    "    'city_distd_name',\n",
    "    'city_distd_value',\n",
    "    'last_voted_date',\n",
    "    'last_voted_party',\n",
    "    'date_added',\n",
    "    'date_changed',\n",
    "    'district_combo',\n",
    "    'race',\n",
    "    'last_contact_date',\n",
    "    'mail_house_nbr',\n",
    "    'mail_street_name',\n",
    "    'mail_apt_unit_nbr',\n",
    "    'mail_city',\n",
    "    'mail_state',\n",
    "    'mail_zipcode',\n",
    "    'mail_address_2',\n",
    "    'mail_address_3',\n",
    "    'mail_country']\n",
    "\n",
    "len(columns)"
   ],
   "metadata": {
    "collapsed": false,
    "pycharm": {
     "name": "#%%\n"
    }
   }
  },
  {
   "cell_type": "code",
   "execution_count": 22,
   "outputs": [
    {
     "data": {
      "text/plain": "Index(['county_code', 'voter_id', 'voter_status', 'last_name', 'first_name',\n       'middle_maiden_name', 'name_suffix', 'name_title',\n       'residence_house_number', 'residence_street_name',\n       'residence_street_suffix', 'residence_apt_unit_nbr', 'residence_city',\n       'residence_zipcode', 'year_of_birth', 'registration_date', 'race_id',\n       'gender', 'land_district', 'land_lot', 'status_reason', 'precinct_id',\n       'city_precinct_id', 'cng', 'sen', 'hse', 'jud', 'com', 'sch',\n       'county_districta_name', 'county_districta_value',\n       'county_districtb_name', 'county_districtb_value', 'municipal_name',\n       'municipal_code', 'ward_city_council_name', 'ward_city_council_code',\n       'city_school_district_name', 'city_school_district_value',\n       'city_dista_name', 'city_dista_value', 'city_distb_name',\n       'city_distb_value', 'city_distc_name', 'city_distc_value',\n       'city_distd_name', 'city_distd_value', 'last_voted_date',\n       'last_voted_party', 'date_added', 'date_changed', 'district_combo',\n       'race', 'last_contact_date', 'mail_house_nbr', 'mail_street_name',\n       'mail_apt_unit_nbr', 'mail_city', 'mail_state', 'mail_zipcode',\n       'mail_address_2', 'mail_address_3', 'mail_country', 'reg_year',\n       'age_group'],\n      dtype='object')"
     },
     "execution_count": 22,
     "metadata": {},
     "output_type": "execute_result"
    }
   ],
   "source": [
    "df.columns"
   ],
   "metadata": {
    "collapsed": false,
    "pycharm": {
     "name": "#%%\n"
    }
   }
  },
  {
   "cell_type": "code",
   "execution_count": 23,
   "outputs": [],
   "source": [
    "df_001 = df[df.county_code=='001']"
   ],
   "metadata": {
    "collapsed": false,
    "pycharm": {
     "name": "#%%\n"
    }
   }
  },
  {
   "cell_type": "code",
   "execution_count": 26,
   "outputs": [],
   "source": [
    "df_001.to_csv('~/Documents/data/ga/politics/voter_list/001/2022-03-14.csv', index=False)"
   ],
   "metadata": {
    "collapsed": false,
    "pycharm": {
     "name": "#%%\n"
    }
   }
  },
  {
   "cell_type": "code",
   "execution_count": null,
   "outputs": [],
   "source": [],
   "metadata": {
    "collapsed": false,
    "pycharm": {
     "name": "#%%\n"
    }
   }
  }
 ],
 "metadata": {
  "kernelspec": {
   "display_name": "Python 3",
   "language": "python",
   "name": "python3"
  },
  "language_info": {
   "codemirror_mode": {
    "name": "ipython",
    "version": 2
   },
   "file_extension": ".py",
   "mimetype": "text/x-python",
   "name": "python",
   "nbconvert_exporter": "python",
   "pygments_lexer": "ipython2",
   "version": "2.7.6"
  }
 },
 "nbformat": 4,
 "nbformat_minor": 0
}